{
  "nbformat": 4,
  "nbformat_minor": 0,
  "metadata": {
    "colab": {
      "name": "AE on mnist.ipynb",
      "version": "0.3.2",
      "provenance": [],
      "collapsed_sections": []
    },
    "language_info": {
      "codemirror_mode": {
        "name": "ipython",
        "version": 3
      },
      "file_extension": ".py",
      "mimetype": "text/x-python",
      "name": "python",
      "nbconvert_exporter": "python",
      "pygments_lexer": "ipython3",
      "version": "3.6.7"
    },
    "kernelspec": {
      "name": "python3",
      "display_name": "Python 3"
    },
    "accelerator": "GPU"
  },
  "cells": [
    {
      "cell_type": "code",
      "metadata": {
        "id": "C-uA48UYt5vL",
        "colab_type": "code",
        "outputId": "49374e27-00e4-4c89-c7f0-64748a967cbf",
        "colab": {
          "base_uri": "https://localhost:8080/",
          "height": 586
        }
      },
      "source": [
        "!rm -rf *\n",
        "!pip install scipy==1.2.1\n",
        "!pip install ipython==7.4.0\n",
        "!pip install -U -q zipfile36\n",
        "!pip install -U -q PyDrive\n",
        "!pip install -U -q hdbscan\n",
        "!pip install -U -q dask_ml\n",
        "\n",
        "!git clone https://github.com/kkahloots/Autoencoders.git\n",
        "!mv ./Autoencoders/* ./\n",
        "!mkdir experiments\n",
        "import os\n",
        "os.kill(os.getpid(), 9)"
      ],
      "execution_count": 0,
      "outputs": [
        {
          "output_type": "stream",
          "text": [
            "Requirement already satisfied: scipy==1.2.1 in /usr/local/lib/python3.6/dist-packages (1.2.1)\n",
            "Requirement already satisfied: numpy>=1.8.2 in /usr/local/lib/python3.6/dist-packages (from scipy==1.2.1) (1.16.4)\n",
            "Requirement already satisfied: ipython==7.4.0 in /usr/local/lib/python3.6/dist-packages (7.4.0)\n",
            "Requirement already satisfied: pexpect; sys_platform != \"win32\" in /usr/local/lib/python3.6/dist-packages (from ipython==7.4.0) (4.7.0)\n",
            "Requirement already satisfied: pygments in /usr/local/lib/python3.6/dist-packages (from ipython==7.4.0) (2.1.3)\n",
            "Requirement already satisfied: pickleshare in /usr/local/lib/python3.6/dist-packages (from ipython==7.4.0) (0.7.5)\n",
            "Requirement already satisfied: traitlets>=4.2 in /usr/local/lib/python3.6/dist-packages (from ipython==7.4.0) (4.3.2)\n",
            "Requirement already satisfied: prompt-toolkit<2.1.0,>=2.0.0 in /usr/local/lib/python3.6/dist-packages (from ipython==7.4.0) (2.0.9)\n",
            "Requirement already satisfied: backcall in /usr/local/lib/python3.6/dist-packages (from ipython==7.4.0) (0.1.0)\n",
            "Requirement already satisfied: decorator in /usr/local/lib/python3.6/dist-packages (from ipython==7.4.0) (4.4.0)\n",
            "Requirement already satisfied: setuptools>=18.5 in /usr/local/lib/python3.6/dist-packages (from ipython==7.4.0) (41.0.1)\n",
            "Requirement already satisfied: jedi>=0.10 in /usr/local/lib/python3.6/dist-packages (from ipython==7.4.0) (0.13.3)\n",
            "Requirement already satisfied: ptyprocess>=0.5 in /usr/local/lib/python3.6/dist-packages (from pexpect; sys_platform != \"win32\"->ipython==7.4.0) (0.6.0)\n",
            "Requirement already satisfied: ipython-genutils in /usr/local/lib/python3.6/dist-packages (from traitlets>=4.2->ipython==7.4.0) (0.2.0)\n",
            "Requirement already satisfied: six in /usr/local/lib/python3.6/dist-packages (from traitlets>=4.2->ipython==7.4.0) (1.12.0)\n",
            "Requirement already satisfied: wcwidth in /usr/local/lib/python3.6/dist-packages (from prompt-toolkit<2.1.0,>=2.0.0->ipython==7.4.0) (0.1.7)\n",
            "Requirement already satisfied: parso>=0.3.0 in /usr/local/lib/python3.6/dist-packages (from jedi>=0.10->ipython==7.4.0) (0.4.0)\n",
            "  Building wheel for PyDrive (setup.py) ... \u001b[?25l\u001b[?25hdone\n",
            "\u001b[K     |████████████████████████████████| 4.0MB 2.8MB/s \n",
            "\u001b[?25h  Installing build dependencies ... \u001b[?25l\u001b[?25hdone\n",
            "  Getting requirements to build wheel ... \u001b[?25l\u001b[?25hdone\n",
            "    Preparing wheel metadata ... \u001b[?25l\u001b[?25hdone\n",
            "  Building wheel for hdbscan (PEP 517) ... \u001b[?25l\u001b[?25hdone\n",
            "\u001b[K     |████████████████████████████████| 112kB 2.9MB/s \n",
            "\u001b[?25hCloning into 'Autoencoders'...\n",
            "remote: Enumerating objects: 19, done.\u001b[K\n",
            "remote: Counting objects: 100% (19/19), done.\u001b[K\n",
            "remote: Compressing objects: 100% (19/19), done.\u001b[K\n",
            "remote: Total 213 (delta 8), reused 0 (delta 0), pack-reused 194\u001b[K\n",
            "Receiving objects: 100% (213/213), 2.05 MiB | 20.94 MiB/s, done.\n",
            "Resolving deltas: 100% (125/125), done.\n"
          ],
          "name": "stdout"
        }
      ]
    },
    {
      "cell_type": "code",
      "metadata": {
        "id": "hVL-ET8ow3pA",
        "colab_type": "code",
        "colab": {}
      },
      "source": [
        "import warnings\n",
        "warnings.filterwarnings('ignore')"
      ],
      "execution_count": 0,
      "outputs": []
    },
    {
      "cell_type": "markdown",
      "metadata": {
        "id": "VXykg_XDzBmV",
        "colab_type": "text"
      },
      "source": [
        ""
      ]
    },
    {
      "cell_type": "markdown",
      "metadata": {
        "id": "ETK1WGdNw3pM",
        "colab_type": "text"
      },
      "source": [
        "# Prepare the Dataset"
      ]
    },
    {
      "cell_type": "code",
      "metadata": {
        "id": "hs5yDozKw3pO",
        "colab_type": "code",
        "colab": {}
      },
      "source": [
        "dataset_name = 'mnist'"
      ],
      "execution_count": 0,
      "outputs": []
    },
    {
      "cell_type": "code",
      "metadata": {
        "scrolled": true,
        "id": "69W646c1w3pR",
        "colab_type": "code",
        "outputId": "a0c1c70d-1339-411e-93df-3435f49bb341",
        "colab": {
          "base_uri": "https://localhost:8080/",
          "height": 54
        }
      },
      "source": [
        "import numpy as np\n",
        "from keras.datasets import mnist\n",
        "(X, y), (X_test, y_test) = mnist.load_data()\n",
        "X = np.concatenate((X, X_test))\n",
        "y = np.concatenate((y, y_test)).flatten()\n",
        "imgs = X\n",
        "del X_test\n",
        "del y_test\n",
        "\n",
        "print('Dataset size {}'.format(X.shape))\n"
      ],
      "execution_count": 0,
      "outputs": [
        {
          "output_type": "stream",
          "text": [
            "Using TensorFlow backend.\n"
          ],
          "name": "stderr"
        },
        {
          "output_type": "stream",
          "text": [
            "Dataset size (70000, 28, 28)\n"
          ],
          "name": "stdout"
        }
      ]
    },
    {
      "cell_type": "markdown",
      "metadata": {
        "id": "hQcelbXTw3pY",
        "colab_type": "text"
      },
      "source": [
        "# AE"
      ]
    },
    {
      "cell_type": "code",
      "metadata": {
        "id": "eVjCGVmrw3pZ",
        "colab_type": "code",
        "colab": {}
      },
      "source": [
        "%load_ext autoreload\n",
        "%autoreload 2"
      ],
      "execution_count": 0,
      "outputs": []
    },
    {
      "cell_type": "code",
      "metadata": {
        "id": "L9WSDRjVw3pd",
        "colab_type": "code",
        "colab": {}
      },
      "source": [
        "model_name = 'AE'"
      ],
      "execution_count": 0,
      "outputs": []
    },
    {
      "cell_type": "code",
      "metadata": {
        "id": "eY79Yd2pw-NE",
        "colab_type": "code",
        "colab": {}
      },
      "source": [
        ""
      ],
      "execution_count": 0,
      "outputs": []
    },
    {
      "cell_type": "code",
      "metadata": {
        "id": "TIV6rGP_w3pg",
        "colab_type": "code",
        "outputId": "035fb9ce-c14d-423b-be85-917cb4ae89bb",
        "colab": {
          "base_uri": "https://localhost:8080/",
          "height": 110
        }
      },
      "source": [
        "from models.AE import AE"
      ],
      "execution_count": 0,
      "outputs": [
        {
          "output_type": "stream",
          "text": [
            "/usr/local/lib/python3.6/dist-packages/sklearn/externals/six.py:31: DeprecationWarning: The module is deprecated in version 0.21 and will be removed in version 0.23 since we've dropped support for Python 2.7. Please rely on the official version of six (https://pypi.org/project/six/).\n",
            "  \"(https://pypi.org/project/six/).\", DeprecationWarning)\n",
            "/usr/local/lib/python3.6/dist-packages/sklearn/externals/joblib/__init__.py:15: DeprecationWarning: sklearn.externals.joblib is deprecated in 0.21 and will be removed in 0.23. Please import this functionality directly from joblib, which can be installed with: pip install joblib. If this warning is raised when loading pickled models, you may need to re-serialize those models with scikit-learn 0.21+.\n",
            "  warnings.warn(msg, category=DeprecationWarning)\n"
          ],
          "name": "stderr"
        }
      ]
    },
    {
      "cell_type": "code",
      "metadata": {
        "id": "rLpBPOVxw3pj",
        "colab_type": "code",
        "colab": {}
      },
      "source": [
        "ae = AE(dataset_name, epochs=int(2e5), num_layers=3, latent_dim=3,\n",
        "        hidden_dim=500, l_rate=1e-4, batch_size=64, plot=True, clustering=True, \n",
        "        colab=True, colabpath = '1w_Kz94Rcz_OuHUMlahEQMDQxGPrQuL7U')"
      ],
      "execution_count": 0,
      "outputs": []
    },
    {
      "cell_type": "code",
      "metadata": {
        "scrolled": true,
        "id": "lAZPF3nuw3pn",
        "colab_type": "code",
        "outputId": "4f34e2a9-8ba7-4fc7-c54a-1327398fe0bc",
        "colab": {
          "base_uri": "https://localhost:8080/",
          "height": 52046
        }
      },
      "source": [
        "ae.fit(X,y)"
      ],
      "execution_count": 0,
      "outputs": [
        {
          "output_type": "stream",
          "text": [
            "\n",
            " Processing data...\n",
            "Scaling dataset\n",
            "Training dataset shape:  (56000, 28, 28, 3)\n",
            "Validation dataset shape:  (14000, 28, 28, 3)\n",
            "\n",
            " building a model...\n",
            "\n",
            "WARNING: The TensorFlow contrib module will not be included in TensorFlow 2.0.\n",
            "For more information, please see:\n",
            "  * https://github.com/tensorflow/community/blob/master/rfcs/20180907-contrib-sunset.md\n",
            "  * https://github.com/tensorflow/addons\n",
            "If you depend on functionality not listed there, please file an issue.\n",
            "\n",
            "WARNING:tensorflow:From /usr/local/lib/python3.6/dist-packages/tensorflow/python/framework/op_def_library.py:263: colocate_with (from tensorflow.python.framework.ops) is deprecated and will be removed in a future version.\n",
            "Instructions for updating:\n",
            "Colocations handled automatically by placer.\n",
            "\n",
            "[*] Defining encoder...\n",
            "\n",
            "WARNING:tensorflow:From /content/networks/dense_net.py:68: dense (from tensorflow.python.layers.core) is deprecated and will be removed in a future version.\n",
            "Instructions for updating:\n",
            "Use keras.layers.dense instead.\n",
            "[*] Layer ( encoder/dense_1/Relu:0 ) output shape: [64, 500]\n",
            "WARNING:tensorflow:From /content/networks/dense_net.py:83: dropout (from tensorflow.python.layers.core) is deprecated and will be removed in a future version.\n",
            "Instructions for updating:\n",
            "Use keras.layers.dropout instead.\n",
            "[*] Layer ( encoder/dense_1_dropout/Identity:0 ) output shape: [64, 500]\n",
            "[*] Layer ( encoder/dense_2/Relu:0 ) output shape: [64, 500]\n",
            "[*] Layer ( encoder/dense_2_dropout/Identity:0 ) output shape: [64, 500]\n",
            "WARNING:tensorflow:From /content/networks/dense_net.py:74: batch_normalization (from tensorflow.python.layers.normalization) is deprecated and will be removed in a future version.\n",
            "Instructions for updating:\n",
            "Use keras.layers.batch_normalization instead.\n",
            "[*] Layer ( encoder/H2_batch_norm/batchnorm/add_1:0 ) output shape: [64, 500]\n",
            "[*] Layer ( encoder/dense_3/BiasAdd:0 ) output shape: [64, 3]\n",
            "\n",
            "[*] Defining decoder...\n",
            "\n",
            "[*] Layer ( decoder/dense_1/Relu:0 ) output shape: [64, 500]\n",
            "[*] Layer ( decoder/dense_1_dropout/Identity:0 ) output shape: [64, 500]\n",
            "[*] Layer ( decoder/dense_2/Relu:0 ) output shape: [64, 500]\n",
            "[*] Layer ( decoder/dense_2_dropout/Identity:0 ) output shape: [64, 500]\n",
            "[*] Layer ( decoder/H2_batch_norm/batchnorm/add_1:0 ) output shape: [64, 500]\n",
            "[*] Layer ( decoder/dense_3/Sigmoid:0 ) output shape: [64, 2352]\n",
            "[*] Defining Loss Functions and Optimizer...\n",
            "WARNING:tensorflow:From /usr/local/lib/python3.6/dist-packages/tensorflow/python/ops/math_ops.py:3066: to_int32 (from tensorflow.python.ops.math_ops) is deprecated and will be removed in a future version.\n",
            "Instructions for updating:\n",
            "Use tf.cast instead.\n",
            "building AE Model...\n",
            "\n",
            "Number of trainable paramters 2861355\n",
            "zip experiments AE_mnist_latent_dim3_h_dim500_h_nl3.zip ...\n",
            "uploading to google drive ...\n",
            "File ID: 1c1v7sVTtOa9uiNgqGkq-ssRNtrKISaHi\n",
            "\n",
            " training a model...\n",
            "Initizalizing Variables ...\n"
          ],
          "name": "stdout"
        },
        {
          "output_type": "stream",
          "text": [
            "\r  0%|          | 0/875 [00:00<?, ?it/s]"
          ],
          "name": "stderr"
        },
        {
          "output_type": "stream",
          "text": [
            "EPOCH:  0\n"
          ],
          "name": "stdout"
        },
        {
          "output_type": "stream",
          "text": [
            "100%|██████████| 875/875 [00:04<00:00, 218.30it/s]\n",
            "100%|██████████| 218/218 [00:00<00:00, 426.84it/s]\n"
          ],
          "name": "stderr"
        },
        {
          "output_type": "stream",
          "text": [
            "TRAIN | AE Loss:  575.3086  | Recons:  575.30676  | L2_loss:  1848.8832\n",
            "VALID | AE Loss:  475.4431  | Recons:  475.44116\n",
            "zip experiments AE_mnist_latent_dim3_h_dim500_h_nl3.zip ...\n",
            "uploading to google drive ...\n"
          ],
          "name": "stdout"
        },
        {
          "output_type": "stream",
          "text": [
            "\r  0%|          | 0/875 [00:00<?, ?it/s]"
          ],
          "name": "stderr"
        },
        {
          "output_type": "stream",
          "text": [
            "File ID: 14UviW6j_NvM85jbycTOUbqk4_TfAEOlk\n",
            "EPOCH:  1\n"
          ],
          "name": "stdout"
        },
        {
          "output_type": "stream",
          "text": [
            "100%|██████████| 875/875 [00:03<00:00, 276.33it/s]\n",
            "100%|██████████| 218/218 [00:00<00:00, 434.47it/s]\n"
          ],
          "name": "stderr"
        },
        {
          "output_type": "stream",
          "text": [
            "TRAIN | AE Loss:  460.85284  | Recons:  460.8507  | L2_loss:  2131.3145\n",
            "VALID | AE Loss:  447.60553  | Recons:  447.60336\n",
            "Saving model...\n",
            "Model saved\n",
            "Generating W space ...\n",
            "Loading model checkpoint experiments//AE_mnist_latent_dim3_h_dim500_h_nl3/-1750 ...\n",
            "\n",
            "WARNING:tensorflow:From /usr/local/lib/python3.6/dist-packages/tensorflow/python/training/saver.py:1266: checkpoint_exists (from tensorflow.python.training.checkpoint_management) is deprecated and will be removed in a future version.\n",
            "Instructions for updating:\n",
            "Use standard file APIs to check for files with this prefix.\n",
            "INFO:tensorflow:Restoring parameters from experiments//AE_mnist_latent_dim3_h_dim500_h_nl3/-1750\n"
          ],
          "name": "stdout"
        },
        {
          "output_type": "stream",
          "text": [
            "  9%|▉         | 83/875 [00:00<00:00, 829.98it/s]"
          ],
          "name": "stderr"
        },
        {
          "output_type": "stream",
          "text": [
            "Model loaded\n",
            "EPOCHS trained:  1\n"
          ],
          "name": "stdout"
        },
        {
          "output_type": "stream",
          "text": [
            "100%|██████████| 875/875 [00:00<00:00, 943.40it/s]\n"
          ],
          "name": "stderr"
        },
        {
          "output_type": "stream",
          "text": [
            "W space dimensions: (56000, 2)\n",
            "Ploting W space ...\n"
          ],
          "name": "stdout"
        },
        {
          "output_type": "stream",
          "text": [
            "  1%|          | 365/56000 [00:00<00:15, 3646.08it/s]"
          ],
          "name": "stderr"
        },
        {
          "output_type": "stream",
          "text": [
            "data size (56000, 2)\n"
          ],
          "name": "stdout"
        },
        {
          "output_type": "stream",
          "text": [
            "100%|██████████| 56000/56000 [00:16<00:00, 3421.34it/s]\n"
          ],
          "name": "stderr"
        },
        {
          "output_type": "stream",
          "text": [
            "Saving Image experiments//AE_mnist_latent_dim3_h_dim500_h_nl3/AE_mnist_latent_dim3_h_dim500_h_nl3 W space in epoch 1.jpg ...\n",
            "W space dimensions: (56000, 3)\n",
            "Ploting W space ...\n"
          ],
          "name": "stdout"
        },
        {
          "output_type": "stream",
          "text": [
            "100%|██████████| 10/10 [00:00<00:00, 60.68it/s]"
          ],
          "name": "stderr"
        },
        {
          "output_type": "stream",
          "text": [
            "data size (56000, 3)\n",
            "Saving Image experiments//AE_mnist_latent_dim3_h_dim500_h_nl3/AE_mnist_latent_dim3_h_dim500_h_nl3 W space 3d in epoch 1.jpg ...\n"
          ],
          "name": "stdout"
        },
        {
          "output_type": "stream",
          "text": [
            "\n"
          ],
          "name": "stderr"
        },
        {
          "output_type": "stream",
          "text": [
            "Generating Samples ...\n",
            "Loading model checkpoint experiments//AE_mnist_latent_dim3_h_dim500_h_nl3/-1750 ...\n",
            "\n",
            "INFO:tensorflow:Restoring parameters from experiments//AE_mnist_latent_dim3_h_dim500_h_nl3/-1750\n"
          ],
          "name": "stdout"
        },
        {
          "output_type": "stream",
          "text": [
            "2it [00:00, 74.29it/s]               "
          ],
          "name": "stderr"
        },
        {
          "output_type": "stream",
          "text": [
            "Model loaded\n",
            "EPOCHS trained:  1\n",
            "Loading model checkpoint experiments//AE_mnist_latent_dim3_h_dim500_h_nl3/-1750 ...\n",
            "\n",
            "INFO:tensorflow:Restoring parameters from experiments//AE_mnist_latent_dim3_h_dim500_h_nl3/-1750\n"
          ],
          "name": "stdout"
        },
        {
          "output_type": "stream",
          "text": [
            "\n",
            "\r  0%|          | 0/1 [00:00<?, ?it/s]"
          ],
          "name": "stderr"
        },
        {
          "output_type": "stream",
          "text": [
            "Model loaded\n",
            "EPOCHS trained:  1\n"
          ],
          "name": "stdout"
        },
        {
          "output_type": "stream",
          "text": [
            "\r2it [00:00, 110.95it/s]              \n"
          ],
          "name": "stderr"
        },
        {
          "output_type": "stream",
          "text": [
            "Saving Image  experiments//AE_mnist_latent_dim3_h_dim500_h_nl3/AE_mnist_latent_dim3_h_dim500_h_nl3 samples generation in epoch 1.jpg\n",
            "Generating W space ...\n",
            "Loading model checkpoint experiments//AE_mnist_latent_dim3_h_dim500_h_nl3/-1750 ...\n",
            "\n",
            "INFO:tensorflow:Restoring parameters from experiments//AE_mnist_latent_dim3_h_dim500_h_nl3/-1750\n"
          ],
          "name": "stdout"
        },
        {
          "output_type": "stream",
          "text": [
            "\r  0%|          | 0/875 [00:00<?, ?it/s]"
          ],
          "name": "stderr"
        },
        {
          "output_type": "stream",
          "text": [
            "Model loaded\n",
            "EPOCHS trained:  1\n"
          ],
          "name": "stdout"
        },
        {
          "output_type": "stream",
          "text": [
            "100%|██████████| 875/875 [00:01<00:00, 835.29it/s]\n"
          ],
          "name": "stderr"
        },
        {
          "output_type": "stream",
          "text": [
            "Init 1/3 with method: k-means++\n",
            "Inertia for init 1/3: 95221.210938\n",
            "Init 2/3 with method: k-means++\n",
            "Inertia for init 2/3: 94673.843750\n",
            "Init 3/3 with method: k-means++\n",
            "Inertia for init 3/3: 97273.953125\n",
            "Minibatch iteration 1/56000: mean batch inertia: 289.624883, ewa inertia: 289.624883 \n",
            "Minibatch iteration 2/56000: mean batch inertia: 271.382539, ewa inertia: 289.559733 \n",
            "Minibatch iteration 3/56000: mean batch inertia: 306.004355, ewa inertia: 289.618462 \n",
            "Minibatch iteration 4/56000: mean batch inertia: 320.082305, ewa inertia: 289.727260 \n",
            "Minibatch iteration 5/56000: mean batch inertia: 333.651406, ewa inertia: 289.884129 \n",
            "Minibatch iteration 6/56000: mean batch inertia: 279.375156, ewa inertia: 289.846598 \n",
            "Minibatch iteration 7/56000: mean batch inertia: 290.311855, ewa inertia: 289.848259 \n",
            "Minibatch iteration 8/56000: mean batch inertia: 236.335898, ewa inertia: 289.657147 \n",
            "Minibatch iteration 9/56000: mean batch inertia: 285.367422, ewa inertia: 289.641827 \n",
            "Minibatch iteration 10/56000: mean batch inertia: 249.754473, ewa inertia: 289.499375 \n",
            "Minibatch iteration 11/56000: mean batch inertia: 267.244062, ewa inertia: 289.419893 \n",
            "Minibatch iteration 12/56000: mean batch inertia: 325.504473, ewa inertia: 289.548764 \n",
            "Minibatch iteration 13/56000: mean batch inertia: 273.032227, ewa inertia: 289.489778 \n",
            "Minibatch iteration 14/56000: mean batch inertia: 330.747930, ewa inertia: 289.637125 \n",
            "Minibatch iteration 15/56000: mean batch inertia: 247.473027, ewa inertia: 289.486542 \n",
            "Minibatch iteration 16/56000: mean batch inertia: 266.466660, ewa inertia: 289.404330 \n",
            "Minibatch iteration 17/56000: mean batch inertia: 278.176016, ewa inertia: 289.364229 \n",
            "Minibatch iteration 18/56000: mean batch inertia: 275.316406, ewa inertia: 289.314059 \n",
            "Minibatch iteration 19/56000: mean batch inertia: 292.886152, ewa inertia: 289.326817 \n",
            "Minibatch iteration 20/56000: mean batch inertia: 262.349883, ewa inertia: 289.230472 \n",
            "Minibatch iteration 21/56000: mean batch inertia: 259.375625, ewa inertia: 289.123850 \n",
            "Minibatch iteration 22/56000: mean batch inertia: 283.472070, ewa inertia: 289.103665 \n",
            "Minibatch iteration 23/56000: mean batch inertia: 284.611973, ewa inertia: 289.087624 \n",
            "Minibatch iteration 24/56000: mean batch inertia: 265.211914, ewa inertia: 289.002355 \n",
            "Minibatch iteration 25/56000: mean batch inertia: 292.990937, ewa inertia: 289.016599 \n",
            "Minibatch iteration 26/56000: mean batch inertia: 225.422969, ewa inertia: 288.789483 \n",
            "Minibatch iteration 27/56000: mean batch inertia: 244.051250, ewa inertia: 288.629707 \n",
            "Minibatch iteration 28/56000: mean batch inertia: 224.472793, ewa inertia: 288.400579 \n",
            "Minibatch iteration 29/56000: mean batch inertia: 277.547969, ewa inertia: 288.361820 \n",
            "Minibatch iteration 30/56000: mean batch inertia: 291.628770, ewa inertia: 288.373488 \n",
            "Minibatch iteration 31/56000: mean batch inertia: 243.533789, ewa inertia: 288.213349 \n",
            "Minibatch iteration 32/56000: mean batch inertia: 301.067969, ewa inertia: 288.259257 \n",
            "Minibatch iteration 33/56000: mean batch inertia: 262.747031, ewa inertia: 288.168144 \n",
            "Minibatch iteration 34/56000: mean batch inertia: 322.135684, ewa inertia: 288.289454 \n",
            "Minibatch iteration 35/56000: mean batch inertia: 260.630645, ewa inertia: 288.190675 \n",
            "Minibatch iteration 36/56000: mean batch inertia: 298.635703, ewa inertia: 288.227978 \n",
            "Minibatch iteration 37/56000: mean batch inertia: 280.545078, ewa inertia: 288.200539 \n",
            "Minibatch iteration 38/56000: mean batch inertia: 278.191289, ewa inertia: 288.164793 \n",
            "Minibatch iteration 39/56000: mean batch inertia: 255.863770, ewa inertia: 288.049434 \n",
            "Minibatch iteration 40/56000: mean batch inertia: 310.042754, ewa inertia: 288.127980 \n",
            "Minibatch iteration 41/56000: mean batch inertia: 282.450801, ewa inertia: 288.107705 \n",
            "Minibatch iteration 42/56000: mean batch inertia: 290.790508, ewa inertia: 288.117286 \n",
            "Minibatch iteration 43/56000: mean batch inertia: 259.448633, ewa inertia: 288.014900 \n",
            "Minibatch iteration 44/56000: mean batch inertia: 283.426797, ewa inertia: 287.998514 \n",
            "Minibatch iteration 45/56000: mean batch inertia: 271.525918, ewa inertia: 287.939684 \n",
            "Minibatch iteration 46/56000: mean batch inertia: 275.028105, ewa inertia: 287.893572 \n",
            "Minibatch iteration 47/56000: mean batch inertia: 290.971523, ewa inertia: 287.904565 \n",
            "Minibatch iteration 48/56000: mean batch inertia: 297.654160, ewa inertia: 287.939384 \n",
            "Minibatch iteration 49/56000: mean batch inertia: 235.128926, ewa inertia: 287.750779 \n",
            "Minibatch iteration 50/56000: mean batch inertia: 226.035879, ewa inertia: 287.530372 \n",
            "Minibatch iteration 51/56000: mean batch inertia: 289.564004, ewa inertia: 287.537635 \n",
            "Minibatch iteration 52/56000: mean batch inertia: 263.315156, ewa inertia: 287.451128 \n",
            "Minibatch iteration 53/56000: mean batch inertia: 305.792832, ewa inertia: 287.516633 \n",
            "Minibatch iteration 54/56000: mean batch inertia: 275.648828, ewa inertia: 287.474249 \n",
            "Minibatch iteration 55/56000: mean batch inertia: 291.147598, ewa inertia: 287.487368 \n",
            "Minibatch iteration 56/56000: mean batch inertia: 272.643203, ewa inertia: 287.434354 \n",
            "Minibatch iteration 57/56000: mean batch inertia: 238.628711, ewa inertia: 287.260051 \n",
            "Minibatch iteration 58/56000: mean batch inertia: 279.464395, ewa inertia: 287.232210 \n",
            "Minibatch iteration 59/56000: mean batch inertia: 276.025156, ewa inertia: 287.192185 \n",
            "Minibatch iteration 60/56000: mean batch inertia: 279.867676, ewa inertia: 287.166027 \n",
            "Minibatch iteration 61/56000: mean batch inertia: 273.565352, ewa inertia: 287.117454 \n",
            "Minibatch iteration 62/56000: mean batch inertia: 264.400879, ewa inertia: 287.036325 \n",
            "Minibatch iteration 63/56000: mean batch inertia: 288.796387, ewa inertia: 287.042610 \n",
            "Minibatch iteration 64/56000: mean batch inertia: 249.621523, ewa inertia: 286.908966 \n",
            "Minibatch iteration 65/56000: mean batch inertia: 263.316387, ewa inertia: 286.824708 \n",
            "Minibatch iteration 66/56000: mean batch inertia: 309.940410, ewa inertia: 286.907263 \n",
            "Minibatch iteration 67/56000: mean batch inertia: 257.972773, ewa inertia: 286.803927 \n",
            "Minibatch iteration 68/56000: mean batch inertia: 260.221309, ewa inertia: 286.708991 \n",
            "Minibatch iteration 69/56000: mean batch inertia: 303.228379, ewa inertia: 286.767988 \n",
            "Minibatch iteration 70/56000: mean batch inertia: 274.892344, ewa inertia: 286.725576 \n",
            "Minibatch iteration 71/56000: mean batch inertia: 259.786230, ewa inertia: 286.629365 \n",
            "Minibatch iteration 72/56000: mean batch inertia: 244.574492, ewa inertia: 286.479172 \n",
            "Minibatch iteration 73/56000: mean batch inertia: 257.577520, ewa inertia: 286.375954 \n",
            "Minibatch iteration 74/56000: mean batch inertia: 242.868828, ewa inertia: 286.220574 \n",
            "Minibatch iteration 75/56000: mean batch inertia: 193.180176, ewa inertia: 285.888293 \n",
            "Minibatch iteration 76/56000: mean batch inertia: 225.376719, ewa inertia: 285.672184 \n",
            "Minibatch iteration 77/56000: mean batch inertia: 249.007734, ewa inertia: 285.541242 \n",
            "Minibatch iteration 78/56000: mean batch inertia: 198.456406, ewa inertia: 285.230230 \n",
            "Minibatch iteration 79/56000: mean batch inertia: 247.068418, ewa inertia: 285.093940 \n",
            "Minibatch iteration 80/56000: mean batch inertia: 268.482090, ewa inertia: 285.034613 \n",
            "Minibatch iteration 81/56000: mean batch inertia: 285.372949, ewa inertia: 285.035822 \n",
            "Minibatch iteration 82/56000: mean batch inertia: 221.279004, ewa inertia: 284.808123 \n",
            "Minibatch iteration 83/56000: mean batch inertia: 291.603008, ewa inertia: 284.832390 \n",
            "Minibatch iteration 84/56000: mean batch inertia: 315.111387, ewa inertia: 284.940527 \n",
            "Minibatch iteration 85/56000: mean batch inertia: 304.900000, ewa inertia: 285.011810 \n",
            "Minibatch iteration 86/56000: mean batch inertia: 252.651074, ewa inertia: 284.896238 \n",
            "Minibatch iteration 87/56000: mean batch inertia: 264.024219, ewa inertia: 284.821696 \n",
            "Minibatch iteration 88/56000: mean batch inertia: 260.154395, ewa inertia: 284.733600 \n",
            "Minibatch iteration 89/56000: mean batch inertia: 197.141074, ewa inertia: 284.420775 \n",
            "Minibatch iteration 90/56000: mean batch inertia: 300.161816, ewa inertia: 284.476992 \n",
            "Minibatch iteration 91/56000: mean batch inertia: 251.569199, ewa inertia: 284.359467 \n",
            "Minibatch iteration 92/56000: mean batch inertia: 268.078828, ewa inertia: 284.301322 \n",
            "Minibatch iteration 93/56000: mean batch inertia: 266.626191, ewa inertia: 284.238198 \n",
            "Minibatch iteration 94/56000: mean batch inertia: 208.524043, ewa inertia: 283.967795 \n",
            "Minibatch iteration 95/56000: mean batch inertia: 299.302598, ewa inertia: 284.022561 \n",
            "Minibatch iteration 96/56000: mean batch inertia: 270.842227, ewa inertia: 283.975490 \n",
            "Minibatch iteration 97/56000: mean batch inertia: 255.074609, ewa inertia: 283.872274 \n",
            "Minibatch iteration 98/56000: mean batch inertia: 224.209980, ewa inertia: 283.659198 \n",
            "Minibatch iteration 99/56000: mean batch inertia: 230.700020, ewa inertia: 283.470062 \n",
            "Minibatch iteration 100/56000: mean batch inertia: 286.550742, ewa inertia: 283.481064 \n",
            "Minibatch iteration 101/56000: mean batch inertia: 252.470820, ewa inertia: 283.370315 \n",
            "Minibatch iteration 102/56000: mean batch inertia: 281.953848, ewa inertia: 283.365256 \n",
            "Minibatch iteration 103/56000: mean batch inertia: 240.501465, ewa inertia: 283.212174 \n",
            "Minibatch iteration 104/56000: mean batch inertia: 253.727070, ewa inertia: 283.106872 \n",
            "Minibatch iteration 105/56000: mean batch inertia: 266.414551, ewa inertia: 283.047258 \n",
            "Minibatch iteration 106/56000: mean batch inertia: 229.346055, ewa inertia: 282.855471 \n",
            "Minibatch iteration 107/56000: mean batch inertia: 283.528477, ewa inertia: 282.857875 \n",
            "Minibatch iteration 108/56000: mean batch inertia: 256.634121, ewa inertia: 282.764220 \n",
            "Minibatch iteration 109/56000: mean batch inertia: 256.632441, ewa inertia: 282.670894 \n",
            "Minibatch iteration 110/56000: mean batch inertia: 256.539941, ewa inertia: 282.577571 \n",
            "Minibatch iteration 111/56000: mean batch inertia: 289.298262, ewa inertia: 282.601573 \n",
            "Minibatch iteration 112/56000: mean batch inertia: 244.634707, ewa inertia: 282.465979 \n",
            "Minibatch iteration 113/56000: mean batch inertia: 292.340156, ewa inertia: 282.501244 \n",
            "Minibatch iteration 114/56000: mean batch inertia: 226.736875, ewa inertia: 282.302089 \n",
            "Minibatch iteration 115/56000: mean batch inertia: 238.807813, ewa inertia: 282.146755 \n",
            "Minibatch iteration 116/56000: mean batch inertia: 307.333828, ewa inertia: 282.236707 \n",
            "Minibatch iteration 117/56000: mean batch inertia: 278.458633, ewa inertia: 282.223214 \n",
            "Minibatch iteration 118/56000: mean batch inertia: 238.993848, ewa inertia: 282.068826 \n",
            "Minibatch iteration 119/56000: mean batch inertia: 253.088828, ewa inertia: 281.965328 \n",
            "Minibatch iteration 120/56000: mean batch inertia: 213.863828, ewa inertia: 281.722113 \n",
            "Minibatch iteration 121/56000: mean batch inertia: 240.550938, ewa inertia: 281.575075 \n",
            "Minibatch iteration 122/56000: mean batch inertia: 297.287480, ewa inertia: 281.631190 \n",
            "Minibatch iteration 123/56000: mean batch inertia: 281.235078, ewa inertia: 281.629776 \n",
            "Minibatch iteration 124/56000: mean batch inertia: 272.671602, ewa inertia: 281.597783 \n",
            "Minibatch iteration 125/56000: mean batch inertia: 271.375059, ewa inertia: 281.561274 \n",
            "Minibatch iteration 126/56000: mean batch inertia: 335.201445, ewa inertia: 281.752842 \n",
            "Minibatch iteration 127/56000: mean batch inertia: 244.280391, ewa inertia: 281.619014 \n",
            "Minibatch iteration 128/56000: mean batch inertia: 276.737363, ewa inertia: 281.601580 \n",
            "Minibatch iteration 129/56000: mean batch inertia: 265.633281, ewa inertia: 281.544552 \n",
            "Minibatch iteration 130/56000: mean batch inertia: 277.425078, ewa inertia: 281.529839 \n",
            "Minibatch iteration 131/56000: mean batch inertia: 246.826230, ewa inertia: 281.405900 \n",
            "Minibatch iteration 132/56000: mean batch inertia: 240.780254, ewa inertia: 281.260811 \n",
            "Minibatch iteration 133/56000: mean batch inertia: 255.073574, ewa inertia: 281.167287 \n",
            "Minibatch iteration 134/56000: mean batch inertia: 251.869863, ewa inertia: 281.062655 \n",
            "Minibatch iteration 135/56000: mean batch inertia: 243.580742, ewa inertia: 280.928794 \n",
            "Minibatch iteration 136/56000: mean batch inertia: 244.360781, ewa inertia: 280.798196 \n",
            "Minibatch iteration 137/56000: mean batch inertia: 291.002656, ewa inertia: 280.834640 \n",
            "Minibatch iteration 138/56000: mean batch inertia: 265.443926, ewa inertia: 280.779674 \n",
            "Minibatch iteration 139/56000: mean batch inertia: 235.065684, ewa inertia: 280.616413 \n",
            "Minibatch iteration 140/56000: mean batch inertia: 288.468086, ewa inertia: 280.644454 \n",
            "Minibatch iteration 141/56000: mean batch inertia: 252.162871, ewa inertia: 280.542736 \n",
            "Minibatch iteration 142/56000: mean batch inertia: 290.304414, ewa inertia: 280.577598 \n",
            "Minibatch iteration 143/56000: mean batch inertia: 274.445527, ewa inertia: 280.555698 \n",
            "Minibatch iteration 144/56000: mean batch inertia: 271.794062, ewa inertia: 280.524407 \n",
            "Minibatch iteration 145/56000: mean batch inertia: 283.721328, ewa inertia: 280.535825 \n",
            "Minibatch iteration 146/56000: mean batch inertia: 295.023496, ewa inertia: 280.587565 \n",
            "Minibatch iteration 147/56000: mean batch inertia: 267.884336, ewa inertia: 280.542198 \n",
            "Minibatch iteration 148/56000: mean batch inertia: 269.008809, ewa inertia: 280.501008 \n",
            "Minibatch iteration 149/56000: mean batch inertia: 297.002676, ewa inertia: 280.559941 \n",
            "Minibatch iteration 150/56000: mean batch inertia: 237.446543, ewa inertia: 280.405967 \n",
            "Minibatch iteration 151/56000: mean batch inertia: 255.364863, ewa inertia: 280.316537 \n",
            "Minibatch iteration 152/56000: mean batch inertia: 251.678945, ewa inertia: 280.214261 \n",
            "Minibatch iteration 153/56000: mean batch inertia: 270.520000, ewa inertia: 280.179640 \n",
            "Minibatch iteration 154/56000: mean batch inertia: 251.165879, ewa inertia: 280.076021 \n",
            "Minibatch iteration 155/56000: mean batch inertia: 273.925781, ewa inertia: 280.054056 \n",
            "Minibatch iteration 156/56000: mean batch inertia: 197.811875, ewa inertia: 279.760339 \n",
            "Minibatch iteration 157/56000: mean batch inertia: 205.159668, ewa inertia: 279.493913 \n",
            "Minibatch iteration 158/56000: mean batch inertia: 256.272910, ewa inertia: 279.410982 \n",
            "Minibatch iteration 159/56000: mean batch inertia: 222.019414, ewa inertia: 279.206016 \n",
            "Minibatch iteration 160/56000: mean batch inertia: 272.003262, ewa inertia: 279.180292 \n",
            "Minibatch iteration 161/56000: mean batch inertia: 249.854141, ewa inertia: 279.075558 \n",
            "Minibatch iteration 162/56000: mean batch inertia: 307.566562, ewa inertia: 279.177310 \n",
            "Minibatch iteration 163/56000: mean batch inertia: 299.229316, ewa inertia: 279.248923 \n",
            "Minibatch iteration 164/56000: mean batch inertia: 266.725488, ewa inertia: 279.204197 \n",
            "Minibatch iteration 165/56000: mean batch inertia: 318.808223, ewa inertia: 279.345638 \n",
            "Minibatch iteration 166/56000: mean batch inertia: 283.172891, ewa inertia: 279.359306 \n",
            "Minibatch iteration 167/56000: mean batch inertia: 270.121758, ewa inertia: 279.326315 \n",
            "Minibatch iteration 168/56000: mean batch inertia: 267.401621, ewa inertia: 279.283728 \n",
            "Minibatch iteration 169/56000: mean batch inertia: 252.800332, ewa inertia: 279.189146 \n",
            "Minibatch iteration 170/56000: mean batch inertia: 222.111133, ewa inertia: 278.985300 \n",
            "Minibatch iteration 171/56000: mean batch inertia: 269.347246, ewa inertia: 278.950879 \n",
            "Minibatch iteration 172/56000: mean batch inertia: 252.010391, ewa inertia: 278.854664 \n",
            "Minibatch iteration 173/56000: mean batch inertia: 285.081211, ewa inertia: 278.876902 \n",
            "Minibatch iteration 174/56000: mean batch inertia: 262.833418, ewa inertia: 278.819604 \n",
            "Minibatch iteration 175/56000: mean batch inertia: 284.001875, ewa inertia: 278.838112 \n",
            "Minibatch iteration 176/56000: mean batch inertia: 243.665762, ewa inertia: 278.712499 \n",
            "Minibatch iteration 177/56000: mean batch inertia: 275.129609, ewa inertia: 278.699703 \n",
            "Minibatch iteration 178/56000: mean batch inertia: 224.067715, ewa inertia: 278.504592 \n",
            "Minibatch iteration 179/56000: mean batch inertia: 274.709316, ewa inertia: 278.491038 \n",
            "Minibatch iteration 180/56000: mean batch inertia: 289.478945, ewa inertia: 278.530280 \n",
            "Minibatch iteration 181/56000: mean batch inertia: 289.543770, ewa inertia: 278.569613 \n",
            "Minibatch iteration 182/56000: mean batch inertia: 222.850879, ewa inertia: 278.370621 \n",
            "Minibatch iteration 183/56000: mean batch inertia: 231.896309, ewa inertia: 278.204644 \n",
            "Minibatch iteration 184/56000: mean batch inertia: 272.676934, ewa inertia: 278.184903 \n",
            "Minibatch iteration 185/56000: mean batch inertia: 272.585391, ewa inertia: 278.164905 \n",
            "Minibatch iteration 186/56000: mean batch inertia: 278.003633, ewa inertia: 278.164329 \n",
            "Minibatch iteration 187/56000: mean batch inertia: 273.493223, ewa inertia: 278.147647 \n",
            "Minibatch iteration 188/56000: mean batch inertia: 333.993867, ewa inertia: 278.347094 \n",
            "Minibatch iteration 189/56000: mean batch inertia: 294.676543, ewa inertia: 278.405413 \n",
            "Minibatch iteration 190/56000: mean batch inertia: 282.735098, ewa inertia: 278.420875 \n",
            "Minibatch iteration 191/56000: mean batch inertia: 260.504375, ewa inertia: 278.356889 \n",
            "Minibatch iteration 192/56000: mean batch inertia: 259.471191, ewa inertia: 278.289441 \n",
            "Minibatch iteration 193/56000: mean batch inertia: 294.643809, ewa inertia: 278.347849 \n",
            "Minibatch iteration 194/56000: mean batch inertia: 284.852480, ewa inertia: 278.371079 \n",
            "Minibatch iteration 195/56000: mean batch inertia: 265.421953, ewa inertia: 278.324833 \n",
            "Minibatch iteration 196/56000: mean batch inertia: 256.900098, ewa inertia: 278.248318 \n",
            "Minibatch iteration 197/56000: mean batch inertia: 260.278555, ewa inertia: 278.184141 \n",
            "Converged (lack of improvement in inertia) at iteration 197/56000\n",
            "Computing label assignment and total inertia\n",
            "Loading model checkpoint experiments//AE_mnist_latent_dim3_h_dim500_h_nl3/-1750 ...\n",
            "\n",
            "INFO:tensorflow:Restoring parameters from experiments//AE_mnist_latent_dim3_h_dim500_h_nl3/-1750\n"
          ],
          "name": "stdout"
        },
        {
          "output_type": "stream",
          "text": [
            "\r  0%|          | 0/218 [00:00<?, ?it/s]"
          ],
          "name": "stderr"
        },
        {
          "output_type": "stream",
          "text": [
            "Model loaded\n",
            "EPOCHS trained:  1\n"
          ],
          "name": "stdout"
        },
        {
          "output_type": "stream",
          "text": [
            "219it [00:00, 763.51it/s]                         \n"
          ],
          "name": "stderr"
        },
        {
          "output_type": "stream",
          "text": [
            "Init 1/3 with method: k-means++\n",
            "Inertia for init 1/3: 92621.328125\n",
            "Init 2/3 with method: k-means++\n",
            "Inertia for init 2/3: 84726.460938\n",
            "Init 3/3 with method: k-means++\n",
            "Inertia for init 3/3: 77517.203125\n",
            "Minibatch iteration 1/14000: mean batch inertia: 327.318008, ewa inertia: 327.318008 \n",
            "Minibatch iteration 2/14000: mean batch inertia: 270.499805, ewa inertia: 326.506377 \n",
            "Minibatch iteration 3/14000: mean batch inertia: 231.373281, ewa inertia: 325.147430 \n",
            "Minibatch iteration 4/14000: mean batch inertia: 265.891016, ewa inertia: 324.300970 \n",
            "Minibatch iteration 5/14000: mean batch inertia: 252.291680, ewa inertia: 323.272340 \n",
            "Minibatch iteration 6/14000: mean batch inertia: 266.016152, ewa inertia: 322.454452 \n",
            "Minibatch iteration 7/14000: mean batch inertia: 232.116211, ewa inertia: 321.163998 \n",
            "Minibatch iteration 8/14000: mean batch inertia: 272.504941, ewa inertia: 320.468919 \n",
            "Minibatch iteration 9/14000: mean batch inertia: 272.301016, ewa inertia: 319.780855 \n",
            "Minibatch iteration 10/14000: mean batch inertia: 265.688320, ewa inertia: 319.008160 \n",
            "Minibatch iteration 11/14000: mean batch inertia: 235.024648, ewa inertia: 317.808481 \n",
            "Minibatch iteration 12/14000: mean batch inertia: 261.370430, ewa inertia: 317.002281 \n",
            "Minibatch iteration 13/14000: mean batch inertia: 253.747422, ewa inertia: 316.098704 \n",
            "Minibatch iteration 14/14000: mean batch inertia: 284.549980, ewa inertia: 315.648040 \n",
            "Minibatch iteration 15/14000: mean batch inertia: 223.525059, ewa inertia: 314.332092 \n",
            "Minibatch iteration 16/14000: mean batch inertia: 269.630566, ewa inertia: 313.693544 \n",
            "Minibatch iteration 17/14000: mean batch inertia: 258.079434, ewa inertia: 312.899114 \n",
            "Minibatch iteration 18/14000: mean batch inertia: 284.648340, ewa inertia: 312.495560 \n",
            "Minibatch iteration 19/14000: mean batch inertia: 266.647559, ewa inertia: 311.840635 \n",
            "Minibatch iteration 20/14000: mean batch inertia: 252.397852, ewa inertia: 310.991513 \n",
            "Minibatch iteration 21/14000: mean batch inertia: 242.841523, ewa inertia: 310.018012 \n",
            "Minibatch iteration 22/14000: mean batch inertia: 246.300215, ewa inertia: 309.107822 \n",
            "Minibatch iteration 23/14000: mean batch inertia: 240.667402, ewa inertia: 308.130172 \n",
            "Minibatch iteration 24/14000: mean batch inertia: 257.051035, ewa inertia: 307.400522 \n",
            "Minibatch iteration 25/14000: mean batch inertia: 265.852305, ewa inertia: 306.807018 \n",
            "Minibatch iteration 26/14000: mean batch inertia: 244.855469, ewa inertia: 305.922060 \n",
            "Minibatch iteration 27/14000: mean batch inertia: 276.217832, ewa inertia: 305.497744 \n",
            "Minibatch iteration 28/14000: mean batch inertia: 241.596680, ewa inertia: 304.584937 \n",
            "Minibatch iteration 29/14000: mean batch inertia: 245.922715, ewa inertia: 303.746965 \n",
            "Minibatch iteration 30/14000: mean batch inertia: 244.950527, ewa inertia: 302.907076 \n",
            "Minibatch iteration 31/14000: mean batch inertia: 267.312129, ewa inertia: 302.398613 \n",
            "Minibatch iteration 32/14000: mean batch inertia: 246.273164, ewa inertia: 301.596878 \n",
            "Minibatch iteration 33/14000: mean batch inertia: 236.344258, ewa inertia: 300.664764 \n",
            "Minibatch iteration 34/14000: mean batch inertia: 257.325859, ewa inertia: 300.045681 \n",
            "Minibatch iteration 35/14000: mean batch inertia: 279.806387, ewa inertia: 299.756569 \n",
            "Minibatch iteration 36/14000: mean batch inertia: 277.244102, ewa inertia: 299.434985 \n",
            "Minibatch iteration 37/14000: mean batch inertia: 246.850410, ewa inertia: 298.683831 \n",
            "Minibatch iteration 38/14000: mean batch inertia: 253.074121, ewa inertia: 298.032310 \n",
            "Minibatch iteration 39/14000: mean batch inertia: 287.798594, ewa inertia: 297.886124 \n",
            "Minibatch iteration 40/14000: mean batch inertia: 262.187930, ewa inertia: 297.376187 \n",
            "Minibatch iteration 41/14000: mean batch inertia: 181.741680, ewa inertia: 295.724383 \n",
            "Minibatch iteration 42/14000: mean batch inertia: 276.972988, ewa inertia: 295.456525 \n",
            "Minibatch iteration 43/14000: mean batch inertia: 275.655918, ewa inertia: 295.173680 \n",
            "Minibatch iteration 44/14000: mean batch inertia: 279.313418, ewa inertia: 294.947121 \n",
            "Minibatch iteration 45/14000: mean batch inertia: 227.201582, ewa inertia: 293.979396 \n",
            "Minibatch iteration 46/14000: mean batch inertia: 239.155078, ewa inertia: 293.196248 \n",
            "Minibatch iteration 47/14000: mean batch inertia: 269.141602, ewa inertia: 292.852634 \n",
            "Minibatch iteration 48/14000: mean batch inertia: 267.915293, ewa inertia: 292.496412 \n",
            "Minibatch iteration 49/14000: mean batch inertia: 278.904453, ewa inertia: 292.302255 \n",
            "Minibatch iteration 50/14000: mean batch inertia: 268.438379, ewa inertia: 291.961367 \n",
            "Minibatch iteration 51/14000: mean batch inertia: 267.676719, ewa inertia: 291.614468 \n",
            "Minibatch iteration 52/14000: mean batch inertia: 260.297188, ewa inertia: 291.167110 \n",
            "Minibatch iteration 53/14000: mean batch inertia: 222.897012, ewa inertia: 290.191893 \n",
            "Minibatch iteration 54/14000: mean batch inertia: 238.548164, ewa inertia: 289.454178 \n",
            "Minibatch iteration 55/14000: mean batch inertia: 246.309961, ewa inertia: 288.837876 \n",
            "Minibatch iteration 56/14000: mean batch inertia: 266.992637, ewa inertia: 288.525824 \n",
            "Minibatch iteration 57/14000: mean batch inertia: 225.243105, ewa inertia: 287.621849 \n",
            "Minibatch iteration 58/14000: mean batch inertia: 248.015117, ewa inertia: 287.056079 \n",
            "Minibatch iteration 59/14000: mean batch inertia: 278.857871, ewa inertia: 286.938970 \n",
            "Minibatch iteration 60/14000: mean batch inertia: 259.574121, ewa inertia: 286.548072 \n",
            "Minibatch iteration 61/14000: mean batch inertia: 220.398281, ewa inertia: 285.603142 \n",
            "Minibatch iteration 62/14000: mean batch inertia: 282.684141, ewa inertia: 285.561445 \n",
            "Minibatch iteration 63/14000: mean batch inertia: 235.327871, ewa inertia: 284.843874 \n",
            "Minibatch iteration 64/14000: mean batch inertia: 233.470566, ewa inertia: 284.110022 \n",
            "Minibatch iteration 65/14000: mean batch inertia: 268.912051, ewa inertia: 283.892924 \n",
            "Minibatch iteration 66/14000: mean batch inertia: 214.122539, ewa inertia: 282.896275 \n",
            "Minibatch iteration 67/14000: mean batch inertia: 263.213496, ewa inertia: 282.615113 \n",
            "Minibatch iteration 68/14000: mean batch inertia: 243.749766, ewa inertia: 282.059933 \n",
            "Minibatch iteration 69/14000: mean batch inertia: 219.597910, ewa inertia: 281.167682 \n",
            "Minibatch iteration 70/14000: mean batch inertia: 228.612305, ewa inertia: 280.416945 \n",
            "Minibatch iteration 71/14000: mean batch inertia: 271.245762, ewa inertia: 280.285937 \n",
            "Minibatch iteration 72/14000: mean batch inertia: 236.800488, ewa inertia: 279.664761 \n",
            "Minibatch iteration 73/14000: mean batch inertia: 279.457500, ewa inertia: 279.661800 \n",
            "Minibatch iteration 74/14000: mean batch inertia: 259.014063, ewa inertia: 279.366854 \n",
            "Minibatch iteration 75/14000: mean batch inertia: 273.127012, ewa inertia: 279.277719 \n",
            "Minibatch iteration 76/14000: mean batch inertia: 214.872754, ewa inertia: 278.357714 \n",
            "Minibatch iteration 77/14000: mean batch inertia: 288.545488, ewa inertia: 278.503243 \n",
            "Minibatch iteration 78/14000: mean batch inertia: 266.743555, ewa inertia: 278.335260 \n",
            "Minibatch iteration 79/14000: mean batch inertia: 213.851660, ewa inertia: 277.414131 \n",
            "Minibatch iteration 80/14000: mean batch inertia: 231.217949, ewa inertia: 276.754233 \n",
            "Minibatch iteration 81/14000: mean batch inertia: 242.783008, ewa inertia: 276.268965 \n",
            "Minibatch iteration 82/14000: mean batch inertia: 249.884902, ewa inertia: 275.892076 \n",
            "Minibatch iteration 83/14000: mean batch inertia: 302.032773, ewa inertia: 276.265488 \n",
            "Minibatch iteration 84/14000: mean batch inertia: 254.646465, ewa inertia: 275.956667 \n",
            "Minibatch iteration 85/14000: mean batch inertia: 235.926523, ewa inertia: 275.384849 \n",
            "Minibatch iteration 86/14000: mean batch inertia: 294.615586, ewa inertia: 275.659554 \n",
            "Minibatch iteration 87/14000: mean batch inertia: 231.706191, ewa inertia: 275.031693 \n",
            "Minibatch iteration 88/14000: mean batch inertia: 324.804395, ewa inertia: 275.742681 \n",
            "Minibatch iteration 89/14000: mean batch inertia: 206.482422, ewa inertia: 274.753320 \n",
            "Minibatch iteration 90/14000: mean batch inertia: 286.152383, ewa inertia: 274.916152 \n",
            "Minibatch iteration 91/14000: mean batch inertia: 258.094922, ewa inertia: 274.675866 \n",
            "Minibatch iteration 92/14000: mean batch inertia: 259.865586, ewa inertia: 274.464305 \n",
            "Minibatch iteration 93/14000: mean batch inertia: 265.653457, ewa inertia: 274.338445 \n",
            "Minibatch iteration 94/14000: mean batch inertia: 256.834316, ewa inertia: 274.088404 \n",
            "Minibatch iteration 95/14000: mean batch inertia: 264.467793, ewa inertia: 273.950977 \n",
            "Minibatch iteration 96/14000: mean batch inertia: 317.519316, ewa inertia: 274.573337 \n",
            "Minibatch iteration 97/14000: mean batch inertia: 259.682617, ewa inertia: 274.360628 \n",
            "Minibatch iteration 98/14000: mean batch inertia: 240.139961, ewa inertia: 273.871796 \n",
            "Minibatch iteration 99/14000: mean batch inertia: 269.084531, ewa inertia: 273.803411 \n",
            "Minibatch iteration 100/14000: mean batch inertia: 237.896465, ewa inertia: 273.290491 \n",
            "Minibatch iteration 101/14000: mean batch inertia: 249.758164, ewa inertia: 272.954339 \n",
            "Minibatch iteration 102/14000: mean batch inertia: 249.473535, ewa inertia: 272.618923 \n",
            "Minibatch iteration 103/14000: mean batch inertia: 245.367227, ewa inertia: 272.229641 \n",
            "Minibatch iteration 104/14000: mean batch inertia: 240.417383, ewa inertia: 271.775213 \n",
            "Minibatch iteration 105/14000: mean batch inertia: 224.882461, ewa inertia: 271.105364 \n",
            "Minibatch iteration 106/14000: mean batch inertia: 232.230332, ewa inertia: 270.550046 \n",
            "Minibatch iteration 107/14000: mean batch inertia: 221.124023, ewa inertia: 269.844011 \n",
            "Minibatch iteration 108/14000: mean batch inertia: 252.583125, ewa inertia: 269.597444 \n",
            "Minibatch iteration 109/14000: mean batch inertia: 230.645625, ewa inertia: 269.041029 \n",
            "Minibatch iteration 110/14000: mean batch inertia: 260.145508, ewa inertia: 268.913959 \n",
            "Minibatch iteration 111/14000: mean batch inertia: 243.303438, ewa inertia: 268.548121 \n",
            "Minibatch iteration 112/14000: mean batch inertia: 243.144609, ewa inertia: 268.185240 \n",
            "Minibatch iteration 113/14000: mean batch inertia: 275.599746, ewa inertia: 268.291154 \n",
            "Minibatch iteration 114/14000: mean batch inertia: 250.417891, ewa inertia: 268.035839 \n",
            "Minibatch iteration 115/14000: mean batch inertia: 220.616211, ewa inertia: 267.358465 \n",
            "Minibatch iteration 116/14000: mean batch inertia: 214.770488, ewa inertia: 266.607261 \n",
            "Minibatch iteration 117/14000: mean batch inertia: 195.444141, ewa inertia: 265.590718 \n",
            "Minibatch iteration 118/14000: mean batch inertia: 249.257461, ewa inertia: 265.357402 \n",
            "Minibatch iteration 119/14000: mean batch inertia: 280.736953, ewa inertia: 265.577095 \n",
            "Minibatch iteration 120/14000: mean batch inertia: 285.989551, ewa inertia: 265.868680 \n",
            "Minibatch iteration 121/14000: mean batch inertia: 228.392656, ewa inertia: 265.333347 \n",
            "Minibatch iteration 122/14000: mean batch inertia: 249.710000, ewa inertia: 265.110172 \n",
            "Minibatch iteration 123/14000: mean batch inertia: 279.359395, ewa inertia: 265.313718 \n",
            "Minibatch iteration 124/14000: mean batch inertia: 280.568535, ewa inertia: 265.531628 \n",
            "Minibatch iteration 125/14000: mean batch inertia: 221.567012, ewa inertia: 264.903607 \n",
            "Minibatch iteration 126/14000: mean batch inertia: 243.766309, ewa inertia: 264.601667 \n",
            "Minibatch iteration 127/14000: mean batch inertia: 261.532012, ewa inertia: 264.557818 \n",
            "Minibatch iteration 128/14000: mean batch inertia: 275.447617, ewa inertia: 264.713376 \n",
            "Minibatch iteration 129/14000: mean batch inertia: 264.861562, ewa inertia: 264.715492 \n",
            "Minibatch iteration 130/14000: mean batch inertia: 257.100742, ewa inertia: 264.606718 \n",
            "Minibatch iteration 131/14000: mean batch inertia: 247.117656, ewa inertia: 264.356892 \n",
            "Minibatch iteration 132/14000: mean batch inertia: 262.495020, ewa inertia: 264.330296 \n",
            "Minibatch iteration 133/14000: mean batch inertia: 270.563359, ewa inertia: 264.419333 \n",
            "Minibatch iteration 134/14000: mean batch inertia: 212.400645, ewa inertia: 263.676262 \n",
            "Minibatch iteration 135/14000: mean batch inertia: 300.013066, ewa inertia: 264.195322 \n",
            "Minibatch iteration 136/14000: mean batch inertia: 239.206934, ewa inertia: 263.838371 \n",
            "Minibatch iteration 137/14000: mean batch inertia: 223.369609, ewa inertia: 263.260287 \n",
            "Minibatch iteration 138/14000: mean batch inertia: 284.000957, ewa inertia: 263.556561 \n",
            "Minibatch iteration 139/14000: mean batch inertia: 270.822812, ewa inertia: 263.660357 \n",
            "Minibatch iteration 140/14000: mean batch inertia: 255.325391, ewa inertia: 263.541295 \n",
            "Minibatch iteration 141/14000: mean batch inertia: 259.172285, ewa inertia: 263.478885 \n",
            "Minibatch iteration 142/14000: mean batch inertia: 243.707148, ewa inertia: 263.196452 \n",
            "Minibatch iteration 143/14000: mean batch inertia: 243.353438, ewa inertia: 262.913000 \n",
            "Minibatch iteration 144/14000: mean batch inertia: 262.643340, ewa inertia: 262.909148 \n",
            "Minibatch iteration 145/14000: mean batch inertia: 285.016719, ewa inertia: 263.224948 \n",
            "Minibatch iteration 146/14000: mean batch inertia: 270.227617, ewa inertia: 263.324979 \n",
            "Minibatch iteration 147/14000: mean batch inertia: 248.205215, ewa inertia: 263.108998 \n",
            "Minibatch iteration 148/14000: mean batch inertia: 272.802246, ewa inertia: 263.247463 \n",
            "Minibatch iteration 149/14000: mean batch inertia: 286.846445, ewa inertia: 263.584567 \n",
            "Minibatch iteration 150/14000: mean batch inertia: 241.018691, ewa inertia: 263.262221 \n",
            "Minibatch iteration 151/14000: mean batch inertia: 248.288340, ewa inertia: 263.048323 \n",
            "Minibatch iteration 152/14000: mean batch inertia: 249.565684, ewa inertia: 262.855728 \n",
            "Minibatch iteration 153/14000: mean batch inertia: 247.111113, ewa inertia: 262.630821 \n",
            "Minibatch iteration 154/14000: mean batch inertia: 222.750508, ewa inertia: 262.061143 \n",
            "Minibatch iteration 155/14000: mean batch inertia: 240.466855, ewa inertia: 261.752675 \n",
            "Minibatch iteration 156/14000: mean batch inertia: 278.543359, ewa inertia: 261.992525 \n",
            "Minibatch iteration 157/14000: mean batch inertia: 295.341699, ewa inertia: 262.468908 \n",
            "Minibatch iteration 158/14000: mean batch inertia: 251.164141, ewa inertia: 262.307423 \n",
            "Minibatch iteration 159/14000: mean batch inertia: 321.886484, ewa inertia: 263.158491 \n",
            "Minibatch iteration 160/14000: mean batch inertia: 246.683594, ewa inertia: 262.923152 \n",
            "Minibatch iteration 161/14000: mean batch inertia: 254.596406, ewa inertia: 262.804207 \n",
            "Minibatch iteration 162/14000: mean batch inertia: 201.858359, ewa inertia: 261.933615 \n",
            "Minibatch iteration 163/14000: mean batch inertia: 238.244961, ewa inertia: 261.595229 \n",
            "Minibatch iteration 164/14000: mean batch inertia: 273.794453, ewa inertia: 261.769492 \n",
            "Minibatch iteration 165/14000: mean batch inertia: 243.283828, ewa inertia: 261.505429 \n",
            "Minibatch iteration 166/14000: mean batch inertia: 259.972070, ewa inertia: 261.483526 \n",
            "Minibatch iteration 167/14000: mean batch inertia: 254.230977, ewa inertia: 261.379925 \n",
            "Minibatch iteration 168/14000: mean batch inertia: 297.467539, ewa inertia: 261.895426 \n",
            "Minibatch iteration 169/14000: mean batch inertia: 278.010547, ewa inertia: 262.125626 \n",
            "Minibatch iteration 170/14000: mean batch inertia: 253.231289, ewa inertia: 261.998573 \n",
            "Minibatch iteration 171/14000: mean batch inertia: 237.016387, ewa inertia: 261.641710 \n",
            "Minibatch iteration 172/14000: mean batch inertia: 252.284746, ewa inertia: 261.508048 \n",
            "Minibatch iteration 173/14000: mean batch inertia: 236.414531, ewa inertia: 261.149595 \n",
            "Minibatch iteration 174/14000: mean batch inertia: 274.360469, ewa inertia: 261.338309 \n",
            "Minibatch iteration 175/14000: mean batch inertia: 246.577852, ewa inertia: 261.127460 \n",
            "Minibatch iteration 176/14000: mean batch inertia: 314.040820, ewa inertia: 261.883311 \n",
            "Minibatch iteration 177/14000: mean batch inertia: 248.213984, ewa inertia: 261.688049 \n",
            "Minibatch iteration 178/14000: mean batch inertia: 227.335859, ewa inertia: 261.197338 \n",
            "Minibatch iteration 179/14000: mean batch inertia: 240.714238, ewa inertia: 260.904744 \n",
            "Minibatch iteration 180/14000: mean batch inertia: 247.623262, ewa inertia: 260.715022 \n",
            "Minibatch iteration 181/14000: mean batch inertia: 281.087773, ewa inertia: 261.006040 \n",
            "Minibatch iteration 182/14000: mean batch inertia: 244.650566, ewa inertia: 260.772407 \n",
            "Minibatch iteration 183/14000: mean batch inertia: 273.238301, ewa inertia: 260.950479 \n",
            "Minibatch iteration 184/14000: mean batch inertia: 247.924434, ewa inertia: 260.764406 \n",
            "Minibatch iteration 185/14000: mean batch inertia: 253.995781, ewa inertia: 260.667718 \n",
            "Minibatch iteration 186/14000: mean batch inertia: 238.215508, ewa inertia: 260.346995 \n",
            "Minibatch iteration 187/14000: mean batch inertia: 249.094570, ewa inertia: 260.186258 \n",
            "Minibatch iteration 188/14000: mean batch inertia: 261.232793, ewa inertia: 260.201207 \n",
            "Minibatch iteration 189/14000: mean batch inertia: 263.783262, ewa inertia: 260.252376 \n",
            "Minibatch iteration 190/14000: mean batch inertia: 239.853965, ewa inertia: 259.960990 \n",
            "Minibatch iteration 191/14000: mean batch inertia: 247.494746, ewa inertia: 259.782914 \n",
            "Minibatch iteration 192/14000: mean batch inertia: 300.304395, ewa inertia: 260.361751 \n",
            "Minibatch iteration 193/14000: mean batch inertia: 271.049414, ewa inertia: 260.514421 \n",
            "Minibatch iteration 194/14000: mean batch inertia: 232.205879, ewa inertia: 260.110042 \n",
            "Minibatch iteration 195/14000: mean batch inertia: 251.419062, ewa inertia: 259.985894 \n",
            "Minibatch iteration 196/14000: mean batch inertia: 229.070488, ewa inertia: 259.544277 \n",
            "Minibatch iteration 197/14000: mean batch inertia: 238.088145, ewa inertia: 259.237783 \n",
            "Minibatch iteration 198/14000: mean batch inertia: 269.182402, ewa inertia: 259.379839 \n",
            "Minibatch iteration 199/14000: mean batch inertia: 242.562402, ewa inertia: 259.139607 \n",
            "Minibatch iteration 200/14000: mean batch inertia: 281.086367, ewa inertia: 259.453109 \n",
            "Minibatch iteration 201/14000: mean batch inertia: 232.618809, ewa inertia: 259.069790 \n",
            "Minibatch iteration 202/14000: mean batch inertia: 222.832676, ewa inertia: 258.552154 \n",
            "Minibatch iteration 203/14000: mean batch inertia: 247.543965, ewa inertia: 258.394905 \n",
            "Minibatch iteration 204/14000: mean batch inertia: 233.255156, ewa inertia: 258.035791 \n",
            "Minibatch iteration 205/14000: mean batch inertia: 219.358320, ewa inertia: 257.483295 \n",
            "Minibatch iteration 206/14000: mean batch inertia: 262.622715, ewa inertia: 257.556711 \n",
            "Minibatch iteration 207/14000: mean batch inertia: 224.145586, ewa inertia: 257.079443 \n",
            "Minibatch iteration 208/14000: mean batch inertia: 246.248848, ewa inertia: 256.924731 \n",
            "Minibatch iteration 209/14000: mean batch inertia: 225.149609, ewa inertia: 256.470833 \n",
            "Minibatch iteration 210/14000: mean batch inertia: 246.481914, ewa inertia: 256.328145 \n",
            "Minibatch iteration 211/14000: mean batch inertia: 232.658848, ewa inertia: 255.990036 \n",
            "Minibatch iteration 212/14000: mean batch inertia: 238.979883, ewa inertia: 255.747051 \n",
            "Minibatch iteration 213/14000: mean batch inertia: 287.455156, ewa inertia: 256.199992 \n",
            "Minibatch iteration 214/14000: mean batch inertia: 257.545273, ewa inertia: 256.219209 \n",
            "Minibatch iteration 215/14000: mean batch inertia: 291.504258, ewa inertia: 256.723245 \n",
            "Minibatch iteration 216/14000: mean batch inertia: 245.322812, ewa inertia: 256.560393 \n",
            "Minibatch iteration 217/14000: mean batch inertia: 266.824453, ewa inertia: 256.707012 \n",
            "Minibatch iteration 218/14000: mean batch inertia: 244.726562, ewa inertia: 256.535875 \n",
            "Minibatch iteration 219/14000: mean batch inertia: 246.833223, ewa inertia: 256.397275 \n",
            "Minibatch iteration 220/14000: mean batch inertia: 241.490781, ewa inertia: 256.184341 \n",
            "Minibatch iteration 221/14000: mean batch inertia: 252.203008, ewa inertia: 256.127469 \n",
            "Minibatch iteration 222/14000: mean batch inertia: 260.386094, ewa inertia: 256.188302 \n",
            "Converged (lack of improvement in inertia) at iteration 222/14000\n",
            "Computing label assignment and total inertia\n",
            "TRAIN | kmeans Clustering Acc:  0.1355357142857143\n",
            "VALID | kmeans Clustering Acc:  0.1185\n",
            "Loading model checkpoint experiments//AE_mnist_latent_dim3_h_dim500_h_nl3/-1750 ...\n",
            "\n",
            "INFO:tensorflow:Restoring parameters from experiments//AE_mnist_latent_dim3_h_dim500_h_nl3/-1750\n"
          ],
          "name": "stdout"
        },
        {
          "output_type": "stream",
          "text": [
            "  8%|▊         | 70/875 [00:00<00:01, 694.21it/s]"
          ],
          "name": "stderr"
        },
        {
          "output_type": "stream",
          "text": [
            "Model loaded\n",
            "EPOCHS trained:  1\n"
          ],
          "name": "stdout"
        },
        {
          "output_type": "stream",
          "text": [
            "100%|██████████| 875/875 [00:01<00:00, 848.27it/s]\n"
          ],
          "name": "stderr"
        },
        {
          "output_type": "stream",
          "text": [
            "Loading model checkpoint experiments//AE_mnist_latent_dim3_h_dim500_h_nl3/-1750 ...\n",
            "\n",
            "INFO:tensorflow:Restoring parameters from experiments//AE_mnist_latent_dim3_h_dim500_h_nl3/-1750\n"
          ],
          "name": "stdout"
        },
        {
          "output_type": "stream",
          "text": [
            "\r  0%|          | 0/218 [00:00<?, ?it/s]"
          ],
          "name": "stderr"
        },
        {
          "output_type": "stream",
          "text": [
            "Model loaded\n",
            "EPOCHS trained:  1\n"
          ],
          "name": "stdout"
        },
        {
          "output_type": "stream",
          "text": [
            "219it [00:00, 769.76it/s]                         \n"
          ],
          "name": "stderr"
        },
        {
          "output_type": "stream",
          "text": [
            "TRAIN | hdbscan Clustering Acc:  0.09516071428571428"
          ],
          "name": "stdout"
        },
        {
          "output_type": "stream",
          "text": [
            "\r  0%|          | 0/875 [00:00<?, ?it/s]"
          ],
          "name": "stderr"
        },
        {
          "output_type": "stream",
          "text": [
            "\n",
            "VALID | hdbscan Clustering Acc:  0.20407142857142857\n",
            "EPOCH:  2\n"
          ],
          "name": "stdout"
        },
        {
          "output_type": "stream",
          "text": [
            "100%|██████████| 875/875 [00:03<00:00, 274.23it/s]\n",
            "100%|██████████| 218/218 [00:00<00:00, 489.22it/s]\n",
            "  0%|          | 0/875 [00:00<?, ?it/s]"
          ],
          "name": "stderr"
        },
        {
          "output_type": "stream",
          "text": [
            "TRAIN | AE Loss:  437.83856  | Recons:  437.83615  | L2_loss:  2401.1755\n",
            "VALID | AE Loss:  429.55597  | Recons:  429.55344\n",
            "EPOCH:  3\n"
          ],
          "name": "stdout"
        },
        {
          "output_type": "stream",
          "text": [
            "100%|██████████| 875/875 [00:03<00:00, 285.81it/s]\n",
            "100%|██████████| 218/218 [00:00<00:00, 498.38it/s]\n",
            "  0%|          | 0/875 [00:00<?, ?it/s]"
          ],
          "name": "stderr"
        },
        {
          "output_type": "stream",
          "text": [
            "TRAIN | AE Loss:  423.24014  | Recons:  423.23755  | L2_loss:  2643.6726\n",
            "VALID | AE Loss:  418.34183  | Recons:  418.33902\n",
            "EPOCH:  4\n"
          ],
          "name": "stdout"
        },
        {
          "output_type": "stream",
          "text": [
            "100%|██████████| 875/875 [00:03<00:00, 284.52it/s]\n",
            "100%|██████████| 218/218 [00:00<00:00, 529.00it/s]\n",
            "  0%|          | 1/875 [00:00<02:33,  5.71it/s]"
          ],
          "name": "stderr"
        },
        {
          "output_type": "stream",
          "text": [
            "TRAIN | AE Loss:  413.7072  | Recons:  413.7043  | L2_loss:  2863.5256\n",
            "VALID | AE Loss:  410.51764  | Recons:  410.51468\n",
            "EPOCH:  5\n"
          ],
          "name": "stdout"
        },
        {
          "output_type": "stream",
          "text": [
            "100%|██████████| 875/875 [00:02<00:00, 294.60it/s]\n",
            "100%|██████████| 218/218 [00:00<00:00, 456.73it/s]\n",
            "  0%|          | 1/875 [00:00<02:32,  5.73it/s]"
          ],
          "name": "stderr"
        },
        {
          "output_type": "stream",
          "text": [
            "TRAIN | AE Loss:  406.89044  | Recons:  406.88736  | L2_loss:  3066.0056\n",
            "VALID | AE Loss:  404.62802  | Recons:  404.62485\n",
            "EPOCH:  6\n"
          ],
          "name": "stdout"
        },
        {
          "output_type": "stream",
          "text": [
            "100%|██████████| 875/875 [00:02<00:00, 294.19it/s]\n",
            "100%|██████████| 218/218 [00:00<00:00, 488.27it/s]\n",
            "  0%|          | 1/875 [00:00<02:34,  5.67it/s]"
          ],
          "name": "stderr"
        },
        {
          "output_type": "stream",
          "text": [
            "TRAIN | AE Loss:  401.80246  | Recons:  401.79922  | L2_loss:  3255.9775\n",
            "VALID | AE Loss:  400.51913  | Recons:  400.51578\n",
            "EPOCH:  7\n"
          ],
          "name": "stdout"
        },
        {
          "output_type": "stream",
          "text": [
            "100%|██████████| 875/875 [00:02<00:00, 296.29it/s]\n",
            "100%|██████████| 218/218 [00:00<00:00, 512.06it/s]\n",
            "  0%|          | 1/875 [00:00<02:31,  5.76it/s]"
          ],
          "name": "stderr"
        },
        {
          "output_type": "stream",
          "text": [
            "TRAIN | AE Loss:  397.8278  | Recons:  397.82437  | L2_loss:  3432.2703\n",
            "VALID | AE Loss:  397.35242  | Recons:  397.34888\n",
            "EPOCH:  8\n"
          ],
          "name": "stdout"
        },
        {
          "output_type": "stream",
          "text": [
            "100%|██████████| 875/875 [00:02<00:00, 298.32it/s]\n",
            "100%|██████████| 218/218 [00:00<00:00, 505.19it/s]\n",
            "  0%|          | 1/875 [00:00<02:32,  5.74it/s]"
          ],
          "name": "stderr"
        },
        {
          "output_type": "stream",
          "text": [
            "TRAIN | AE Loss:  394.66373  | Recons:  394.66016  | L2_loss:  3592.1824\n",
            "VALID | AE Loss:  395.08923  | Recons:  395.08557\n",
            "EPOCH:  9\n"
          ],
          "name": "stdout"
        },
        {
          "output_type": "stream",
          "text": [
            "100%|██████████| 875/875 [00:02<00:00, 299.72it/s]\n",
            "100%|██████████| 218/218 [00:00<00:00, 529.39it/s]\n",
            "  0%|          | 1/875 [00:00<02:31,  5.76it/s]"
          ],
          "name": "stderr"
        },
        {
          "output_type": "stream",
          "text": [
            "TRAIN | AE Loss:  392.03915  | Recons:  392.0354  | L2_loss:  3737.8103\n",
            "VALID | AE Loss:  392.97833  | Recons:  392.97452\n",
            "EPOCH:  10\n"
          ],
          "name": "stdout"
        },
        {
          "output_type": "stream",
          "text": [
            "100%|██████████| 875/875 [00:02<00:00, 297.45it/s]\n",
            "100%|██████████| 218/218 [00:00<00:00, 528.41it/s]\n",
            "  0%|          | 1/875 [00:00<02:32,  5.73it/s]"
          ],
          "name": "stderr"
        },
        {
          "output_type": "stream",
          "text": [
            "TRAIN | AE Loss:  389.73444  | Recons:  389.73056  | L2_loss:  3871.0369\n",
            "VALID | AE Loss:  391.2227  | Recons:  391.2188\n",
            "EPOCH:  11\n"
          ],
          "name": "stdout"
        },
        {
          "output_type": "stream",
          "text": [
            "100%|██████████| 875/875 [00:02<00:00, 296.81it/s]\n",
            "100%|██████████| 218/218 [00:00<00:00, 509.90it/s]\n",
            "  0%|          | 1/875 [00:00<02:46,  5.24it/s]"
          ],
          "name": "stderr"
        },
        {
          "output_type": "stream",
          "text": [
            "TRAIN | AE Loss:  387.65472  | Recons:  387.65073  | L2_loss:  3986.5466\n",
            "VALID | AE Loss:  389.49585  | Recons:  389.49182\n",
            "EPOCH:  12\n"
          ],
          "name": "stdout"
        },
        {
          "output_type": "stream",
          "text": [
            "100%|██████████| 875/875 [00:03<00:00, 289.51it/s]\n",
            "100%|██████████| 218/218 [00:00<00:00, 532.32it/s]\n",
            "  0%|          | 1/875 [00:00<02:30,  5.81it/s]"
          ],
          "name": "stderr"
        },
        {
          "output_type": "stream",
          "text": [
            "TRAIN | AE Loss:  385.7257  | Recons:  385.72165  | L2_loss:  4083.867\n",
            "VALID | AE Loss:  388.19547  | Recons:  388.19138\n",
            "EPOCH:  13\n"
          ],
          "name": "stdout"
        },
        {
          "output_type": "stream",
          "text": [
            "100%|██████████| 875/875 [00:02<00:00, 298.61it/s]\n",
            "100%|██████████| 218/218 [00:00<00:00, 513.96it/s]\n",
            "  0%|          | 1/875 [00:00<02:29,  5.83it/s]"
          ],
          "name": "stderr"
        },
        {
          "output_type": "stream",
          "text": [
            "TRAIN | AE Loss:  383.92987  | Recons:  383.9257  | L2_loss:  4161.0176\n",
            "VALID | AE Loss:  386.70456  | Recons:  386.7004\n",
            "EPOCH:  14\n"
          ],
          "name": "stdout"
        },
        {
          "output_type": "stream",
          "text": [
            "100%|██████████| 875/875 [00:02<00:00, 299.27it/s]\n",
            "100%|██████████| 218/218 [00:00<00:00, 519.46it/s]\n",
            "  0%|          | 1/875 [00:00<02:42,  5.37it/s]"
          ],
          "name": "stderr"
        },
        {
          "output_type": "stream",
          "text": [
            "TRAIN | AE Loss:  382.2184  | Recons:  382.21417  | L2_loss:  4217.148\n",
            "VALID | AE Loss:  385.4282  | Recons:  385.42395\n",
            "EPOCH:  15\n"
          ],
          "name": "stdout"
        },
        {
          "output_type": "stream",
          "text": [
            "100%|██████████| 875/875 [00:02<00:00, 297.90it/s]\n",
            "100%|██████████| 218/218 [00:00<00:00, 532.76it/s]\n",
            "  0%|          | 1/875 [00:00<02:29,  5.85it/s]"
          ],
          "name": "stderr"
        },
        {
          "output_type": "stream",
          "text": [
            "TRAIN | AE Loss:  380.57428  | Recons:  380.57  | L2_loss:  4257.014\n",
            "VALID | AE Loss:  384.19366  | Recons:  384.18936\n",
            "EPOCH:  16\n"
          ],
          "name": "stdout"
        },
        {
          "output_type": "stream",
          "text": [
            "100%|██████████| 875/875 [00:02<00:00, 314.14it/s]\n",
            "100%|██████████| 218/218 [00:00<00:00, 531.53it/s]\n",
            "  0%|          | 1/875 [00:00<02:32,  5.75it/s]"
          ],
          "name": "stderr"
        },
        {
          "output_type": "stream",
          "text": [
            "TRAIN | AE Loss:  379.04214  | Recons:  379.03787  | L2_loss:  4288.1636\n",
            "VALID | AE Loss:  383.06522  | Recons:  383.0609\n",
            "EPOCH:  17\n"
          ],
          "name": "stdout"
        },
        {
          "output_type": "stream",
          "text": [
            "100%|██████████| 875/875 [00:02<00:00, 296.87it/s]\n",
            "100%|██████████| 218/218 [00:00<00:00, 509.95it/s]\n",
            "  0%|          | 1/875 [00:00<02:29,  5.83it/s]"
          ],
          "name": "stderr"
        },
        {
          "output_type": "stream",
          "text": [
            "TRAIN | AE Loss:  377.62186  | Recons:  377.6175  | L2_loss:  4316.5586\n",
            "VALID | AE Loss:  382.23535  | Recons:  382.23102\n",
            "EPOCH:  18\n"
          ],
          "name": "stdout"
        },
        {
          "output_type": "stream",
          "text": [
            "100%|██████████| 875/875 [00:02<00:00, 297.18it/s]\n",
            "100%|██████████| 218/218 [00:00<00:00, 506.86it/s]\n",
            "  0%|          | 1/875 [00:00<02:31,  5.76it/s]"
          ],
          "name": "stderr"
        },
        {
          "output_type": "stream",
          "text": [
            "TRAIN | AE Loss:  376.31158  | Recons:  376.30722  | L2_loss:  4347.711\n",
            "VALID | AE Loss:  381.3583  | Recons:  381.35394\n",
            "EPOCH:  19\n"
          ],
          "name": "stdout"
        },
        {
          "output_type": "stream",
          "text": [
            "100%|██████████| 875/875 [00:02<00:00, 294.77it/s]\n",
            "100%|██████████| 218/218 [00:00<00:00, 516.71it/s]\n",
            "  0%|          | 1/875 [00:00<02:31,  5.78it/s]"
          ],
          "name": "stderr"
        },
        {
          "output_type": "stream",
          "text": [
            "TRAIN | AE Loss:  375.05637  | Recons:  375.05197  | L2_loss:  4381.284\n",
            "VALID | AE Loss:  380.51547  | Recons:  380.5111\n",
            "EPOCH:  20\n"
          ],
          "name": "stdout"
        },
        {
          "output_type": "stream",
          "text": [
            "100%|██████████| 875/875 [00:02<00:00, 295.65it/s]\n",
            "100%|██████████| 218/218 [00:00<00:00, 514.53it/s]\n"
          ],
          "name": "stderr"
        },
        {
          "output_type": "stream",
          "text": [
            "TRAIN | AE Loss:  373.879  | Recons:  373.87457  | L2_loss:  4415.3804\n",
            "VALID | AE Loss:  379.74026  | Recons:  379.7358\n",
            "Saving model...\n",
            "Model saved\n",
            "Generating W space ...\n",
            "Loading model checkpoint experiments//AE_mnist_latent_dim3_h_dim500_h_nl3/-18375 ...\n",
            "\n",
            "INFO:tensorflow:Restoring parameters from experiments//AE_mnist_latent_dim3_h_dim500_h_nl3/-18375\n"
          ],
          "name": "stdout"
        },
        {
          "output_type": "stream",
          "text": [
            "  9%|▉         | 78/875 [00:00<00:01, 774.72it/s]"
          ],
          "name": "stderr"
        },
        {
          "output_type": "stream",
          "text": [
            "Model loaded\n",
            "EPOCHS trained:  20\n"
          ],
          "name": "stdout"
        },
        {
          "output_type": "stream",
          "text": [
            "100%|██████████| 875/875 [00:00<00:00, 970.66it/s]\n"
          ],
          "name": "stderr"
        },
        {
          "output_type": "stream",
          "text": [
            "W space dimensions: (56000, 2)\n",
            "Ploting W space ...\n"
          ],
          "name": "stdout"
        },
        {
          "output_type": "stream",
          "text": [
            "  1%|          | 420/56000 [00:00<00:13, 4192.79it/s]"
          ],
          "name": "stderr"
        },
        {
          "output_type": "stream",
          "text": [
            "data size (56000, 2)\n"
          ],
          "name": "stdout"
        },
        {
          "output_type": "stream",
          "text": [
            "100%|██████████| 56000/56000 [00:18<00:00, 3009.02it/s]\n"
          ],
          "name": "stderr"
        },
        {
          "output_type": "stream",
          "text": [
            "Saving Image experiments//AE_mnist_latent_dim3_h_dim500_h_nl3/AE_mnist_latent_dim3_h_dim500_h_nl3 W space in epoch 20.jpg ...\n",
            "W space dimensions: (56000, 3)\n",
            "Ploting W space ...\n"
          ],
          "name": "stdout"
        },
        {
          "output_type": "stream",
          "text": [
            "100%|██████████| 10/10 [00:00<00:00, 61.89it/s]"
          ],
          "name": "stderr"
        },
        {
          "output_type": "stream",
          "text": [
            "data size (56000, 3)\n",
            "Saving Image experiments//AE_mnist_latent_dim3_h_dim500_h_nl3/AE_mnist_latent_dim3_h_dim500_h_nl3 W space 3d in epoch 20.jpg ...\n"
          ],
          "name": "stdout"
        },
        {
          "output_type": "stream",
          "text": [
            "\n"
          ],
          "name": "stderr"
        },
        {
          "output_type": "stream",
          "text": [
            "Generating Samples ...\n",
            "Loading model checkpoint experiments//AE_mnist_latent_dim3_h_dim500_h_nl3/-18375 ...\n",
            "\n",
            "INFO:tensorflow:Restoring parameters from experiments//AE_mnist_latent_dim3_h_dim500_h_nl3/-18375\n"
          ],
          "name": "stdout"
        },
        {
          "output_type": "stream",
          "text": [
            "2it [00:00, 73.11it/s]               "
          ],
          "name": "stderr"
        },
        {
          "output_type": "stream",
          "text": [
            "Model loaded\n",
            "EPOCHS trained:  20\n",
            "Loading model checkpoint experiments//AE_mnist_latent_dim3_h_dim500_h_nl3/-18375 ...\n",
            "\n",
            "INFO:tensorflow:Restoring parameters from experiments//AE_mnist_latent_dim3_h_dim500_h_nl3/-18375\n"
          ],
          "name": "stdout"
        },
        {
          "output_type": "stream",
          "text": [
            "\n",
            "2it [00:00, 111.66it/s]              "
          ],
          "name": "stderr"
        },
        {
          "output_type": "stream",
          "text": [
            "Model loaded\n",
            "EPOCHS trained:  20\n"
          ],
          "name": "stdout"
        },
        {
          "output_type": "stream",
          "text": [
            "\n"
          ],
          "name": "stderr"
        },
        {
          "output_type": "stream",
          "text": [
            "Saving Image  experiments//AE_mnist_latent_dim3_h_dim500_h_nl3/AE_mnist_latent_dim3_h_dim500_h_nl3 samples generation in epoch 20.jpg\n",
            "Generating W space ...\n",
            "Loading model checkpoint experiments//AE_mnist_latent_dim3_h_dim500_h_nl3/-18375 ...\n",
            "\n",
            "INFO:tensorflow:Restoring parameters from experiments//AE_mnist_latent_dim3_h_dim500_h_nl3/-18375\n"
          ],
          "name": "stdout"
        },
        {
          "output_type": "stream",
          "text": [
            "\r  0%|          | 0/875 [00:00<?, ?it/s]"
          ],
          "name": "stderr"
        },
        {
          "output_type": "stream",
          "text": [
            "Model loaded\n",
            "EPOCHS trained:  20\n"
          ],
          "name": "stdout"
        },
        {
          "output_type": "stream",
          "text": [
            "100%|██████████| 875/875 [00:01<00:00, 852.41it/s]\n"
          ],
          "name": "stderr"
        },
        {
          "output_type": "stream",
          "text": [
            "Init 1/3 with method: k-means++\n",
            "Inertia for init 1/3: 145615.453125\n",
            "Init 2/3 with method: k-means++\n",
            "Inertia for init 2/3: 177824.281250\n",
            "Init 3/3 with method: k-means++\n",
            "Inertia for init 3/3: 170884.406250\n",
            "Minibatch iteration 1/56000: mean batch inertia: 529.541602, ewa inertia: 529.541602 \n",
            "Minibatch iteration 2/56000: mean batch inertia: 556.078477, ewa inertia: 529.636374 \n",
            "Minibatch iteration 3/56000: mean batch inertia: 447.123047, ewa inertia: 529.341689 \n",
            "Minibatch iteration 4/56000: mean batch inertia: 461.511602, ewa inertia: 529.099443 \n",
            "Minibatch iteration 5/56000: mean batch inertia: 481.551719, ewa inertia: 528.929633 \n",
            "Minibatch iteration 6/56000: mean batch inertia: 518.595469, ewa inertia: 528.892726 \n",
            "Minibatch iteration 7/56000: mean batch inertia: 459.852461, ewa inertia: 528.646158 \n",
            "Minibatch iteration 8/56000: mean batch inertia: 435.053516, ewa inertia: 528.311904 \n",
            "Minibatch iteration 9/56000: mean batch inertia: 464.883828, ewa inertia: 528.085380 \n",
            "Minibatch iteration 10/56000: mean batch inertia: 452.947227, ewa inertia: 527.817034 \n",
            "Minibatch iteration 11/56000: mean batch inertia: 560.349219, ewa inertia: 527.933218 \n",
            "Minibatch iteration 12/56000: mean batch inertia: 432.042500, ewa inertia: 527.590757 \n",
            "Minibatch iteration 13/56000: mean batch inertia: 438.243438, ewa inertia: 527.271666 \n",
            "Minibatch iteration 14/56000: mean batch inertia: 415.704375, ewa inertia: 526.873218 \n",
            "Minibatch iteration 15/56000: mean batch inertia: 493.780586, ewa inertia: 526.755032 \n",
            "Minibatch iteration 16/56000: mean batch inertia: 477.869805, ewa inertia: 526.580445 \n",
            "Minibatch iteration 17/56000: mean batch inertia: 471.009180, ewa inertia: 526.381980 \n",
            "Minibatch iteration 18/56000: mean batch inertia: 402.390000, ewa inertia: 525.939159 \n",
            "Minibatch iteration 19/56000: mean batch inertia: 421.862031, ewa inertia: 525.567462 \n",
            "Minibatch iteration 20/56000: mean batch inertia: 523.849492, ewa inertia: 525.561327 \n",
            "Minibatch iteration 21/56000: mean batch inertia: 456.536133, ewa inertia: 525.314812 \n",
            "Minibatch iteration 22/56000: mean batch inertia: 434.384844, ewa inertia: 524.990068 \n",
            "Minibatch iteration 23/56000: mean batch inertia: 446.766367, ewa inertia: 524.710703 \n",
            "Minibatch iteration 24/56000: mean batch inertia: 443.042695, ewa inertia: 524.419037 \n",
            "Minibatch iteration 25/56000: mean batch inertia: 478.983867, ewa inertia: 524.256771 \n",
            "Minibatch iteration 26/56000: mean batch inertia: 555.350664, ewa inertia: 524.367819 \n",
            "Minibatch iteration 27/56000: mean batch inertia: 441.163477, ewa inertia: 524.070666 \n",
            "Minibatch iteration 28/56000: mean batch inertia: 492.254531, ewa inertia: 523.957039 \n",
            "Minibatch iteration 29/56000: mean batch inertia: 430.441562, ewa inertia: 523.623061 \n",
            "Minibatch iteration 30/56000: mean batch inertia: 427.939102, ewa inertia: 523.281338 \n",
            "Minibatch iteration 31/56000: mean batch inertia: 421.292344, ewa inertia: 522.917099 \n",
            "Minibatch iteration 32/56000: mean batch inertia: 492.340078, ewa inertia: 522.807897 \n",
            "Minibatch iteration 33/56000: mean batch inertia: 475.800391, ewa inertia: 522.640016 \n",
            "Minibatch iteration 34/56000: mean batch inertia: 466.978359, ewa inertia: 522.441228 \n",
            "Minibatch iteration 35/56000: mean batch inertia: 442.476562, ewa inertia: 522.155645 \n",
            "Minibatch iteration 36/56000: mean batch inertia: 440.611836, ewa inertia: 521.864422 \n",
            "Minibatch iteration 37/56000: mean batch inertia: 410.532188, ewa inertia: 521.466814 \n",
            "Minibatch iteration 38/56000: mean batch inertia: 458.023984, ewa inertia: 521.240237 \n",
            "Minibatch iteration 39/56000: mean batch inertia: 460.107109, ewa inertia: 521.021908 \n",
            "Minibatch iteration 40/56000: mean batch inertia: 413.129805, ewa inertia: 520.636586 \n",
            "Minibatch iteration 41/56000: mean batch inertia: 365.444375, ewa inertia: 520.082338 \n",
            "Minibatch iteration 42/56000: mean batch inertia: 474.646484, ewa inertia: 519.920070 \n",
            "Minibatch iteration 43/56000: mean batch inertia: 470.462344, ewa inertia: 519.743438 \n",
            "Minibatch iteration 44/56000: mean batch inertia: 475.402266, ewa inertia: 519.585080 \n",
            "Minibatch iteration 45/56000: mean batch inertia: 456.863828, ewa inertia: 519.361079 \n",
            "Minibatch iteration 46/56000: mean batch inertia: 452.791758, ewa inertia: 519.123336 \n",
            "Minibatch iteration 47/56000: mean batch inertia: 496.031797, ewa inertia: 519.040868 \n",
            "Minibatch iteration 48/56000: mean batch inertia: 470.401602, ewa inertia: 518.867159 \n",
            "Minibatch iteration 49/56000: mean batch inertia: 533.894453, ewa inertia: 518.920827 \n",
            "Minibatch iteration 50/56000: mean batch inertia: 507.565508, ewa inertia: 518.880273 \n",
            "Minibatch iteration 51/56000: mean batch inertia: 516.034922, ewa inertia: 518.870111 \n",
            "Minibatch iteration 52/56000: mean batch inertia: 453.318008, ewa inertia: 518.636001 \n",
            "Minibatch iteration 53/56000: mean batch inertia: 400.486953, ewa inertia: 518.214047 \n",
            "Minibatch iteration 54/56000: mean batch inertia: 459.162227, ewa inertia: 518.003152 \n",
            "Minibatch iteration 55/56000: mean batch inertia: 420.387187, ewa inertia: 517.654530 \n",
            "Minibatch iteration 56/56000: mean batch inertia: 471.672578, ewa inertia: 517.490311 \n",
            "Minibatch iteration 57/56000: mean batch inertia: 474.252617, ewa inertia: 517.335894 \n",
            "Minibatch iteration 58/56000: mean batch inertia: 428.188672, ewa inertia: 517.017516 \n",
            "Minibatch iteration 59/56000: mean batch inertia: 453.542891, ewa inertia: 516.790825 \n",
            "Minibatch iteration 60/56000: mean batch inertia: 405.670313, ewa inertia: 516.393974 \n",
            "Minibatch iteration 61/56000: mean batch inertia: 430.448906, ewa inertia: 516.087032 \n",
            "Minibatch iteration 62/56000: mean batch inertia: 396.392070, ewa inertia: 515.659558 \n",
            "Minibatch iteration 63/56000: mean batch inertia: 467.183828, ewa inertia: 515.486433 \n",
            "Minibatch iteration 64/56000: mean batch inertia: 467.679297, ewa inertia: 515.315697 \n",
            "Minibatch iteration 65/56000: mean batch inertia: 517.426719, ewa inertia: 515.323236 \n",
            "Minibatch iteration 66/56000: mean batch inertia: 465.185430, ewa inertia: 515.144176 \n",
            "Minibatch iteration 67/56000: mean batch inertia: 503.162148, ewa inertia: 515.101383 \n",
            "Minibatch iteration 68/56000: mean batch inertia: 455.818906, ewa inertia: 514.889664 \n",
            "Minibatch iteration 69/56000: mean batch inertia: 538.592539, ewa inertia: 514.974316 \n",
            "Minibatch iteration 70/56000: mean batch inertia: 470.283867, ewa inertia: 514.814710 \n",
            "Minibatch iteration 71/56000: mean batch inertia: 512.467813, ewa inertia: 514.806328 \n",
            "Minibatch iteration 72/56000: mean batch inertia: 466.016758, ewa inertia: 514.632083 \n",
            "Minibatch iteration 73/56000: mean batch inertia: 419.778359, ewa inertia: 514.293326 \n",
            "Minibatch iteration 74/56000: mean batch inertia: 388.577383, ewa inertia: 513.844348 \n",
            "Minibatch iteration 75/56000: mean batch inertia: 431.483633, ewa inertia: 513.550208 \n",
            "Minibatch iteration 76/56000: mean batch inertia: 419.355898, ewa inertia: 513.213806 \n",
            "Minibatch iteration 77/56000: mean batch inertia: 512.591445, ewa inertia: 513.211583 \n",
            "Minibatch iteration 78/56000: mean batch inertia: 432.515391, ewa inertia: 512.923387 \n",
            "Minibatch iteration 79/56000: mean batch inertia: 370.749219, ewa inertia: 512.415632 \n",
            "Minibatch iteration 80/56000: mean batch inertia: 468.978008, ewa inertia: 512.260500 \n",
            "Minibatch iteration 81/56000: mean batch inertia: 463.571289, ewa inertia: 512.086613 \n",
            "Minibatch iteration 82/56000: mean batch inertia: 590.385352, ewa inertia: 512.366246 \n",
            "Minibatch iteration 83/56000: mean batch inertia: 417.354336, ewa inertia: 512.026924 \n",
            "Minibatch iteration 84/56000: mean batch inertia: 466.009883, ewa inertia: 511.862581 \n",
            "Minibatch iteration 85/56000: mean batch inertia: 480.416562, ewa inertia: 511.750275 \n",
            "Minibatch iteration 86/56000: mean batch inertia: 470.278359, ewa inertia: 511.602164 \n",
            "Minibatch iteration 87/56000: mean batch inertia: 403.789531, ewa inertia: 511.217126 \n",
            "Minibatch iteration 88/56000: mean batch inertia: 434.818281, ewa inertia: 510.944278 \n",
            "Minibatch iteration 89/56000: mean batch inertia: 441.726992, ewa inertia: 510.697077 \n",
            "Minibatch iteration 90/56000: mean batch inertia: 480.501562, ewa inertia: 510.589238 \n",
            "Minibatch iteration 91/56000: mean batch inertia: 478.772930, ewa inertia: 510.475611 \n",
            "Minibatch iteration 92/56000: mean batch inertia: 521.481953, ewa inertia: 510.514918 \n",
            "Minibatch iteration 93/56000: mean batch inertia: 489.623906, ewa inertia: 510.440309 \n",
            "Minibatch iteration 94/56000: mean batch inertia: 514.336016, ewa inertia: 510.454222 \n",
            "Minibatch iteration 95/56000: mean batch inertia: 443.875430, ewa inertia: 510.216445 \n",
            "Minibatch iteration 96/56000: mean batch inertia: 456.631992, ewa inertia: 510.025075 \n",
            "Minibatch iteration 97/56000: mean batch inertia: 487.371523, ewa inertia: 509.944171 \n",
            "Minibatch iteration 98/56000: mean batch inertia: 400.276641, ewa inertia: 509.552508 \n",
            "Minibatch iteration 99/56000: mean batch inertia: 477.673594, ewa inertia: 509.438657 \n",
            "Minibatch iteration 100/56000: mean batch inertia: 483.191211, ewa inertia: 509.344918 \n",
            "Minibatch iteration 101/56000: mean batch inertia: 457.362344, ewa inertia: 509.159269 \n",
            "Minibatch iteration 102/56000: mean batch inertia: 524.918008, ewa inertia: 509.215549 \n",
            "Minibatch iteration 103/56000: mean batch inertia: 397.905273, ewa inertia: 508.818020 \n",
            "Minibatch iteration 104/56000: mean batch inertia: 492.167813, ewa inertia: 508.758556 \n",
            "Minibatch iteration 105/56000: mean batch inertia: 479.215508, ewa inertia: 508.653047 \n",
            "Minibatch iteration 106/56000: mean batch inertia: 470.284805, ewa inertia: 508.516020 \n",
            "Minibatch iteration 107/56000: mean batch inertia: 444.048906, ewa inertia: 508.285784 \n",
            "Minibatch iteration 108/56000: mean batch inertia: 458.735000, ewa inertia: 508.108820 \n",
            "Minibatch iteration 109/56000: mean batch inertia: 499.673242, ewa inertia: 508.078694 \n",
            "Minibatch iteration 110/56000: mean batch inertia: 477.925078, ewa inertia: 507.971004 \n",
            "Minibatch iteration 111/56000: mean batch inertia: 509.749375, ewa inertia: 507.977355 \n",
            "Minibatch iteration 112/56000: mean batch inertia: 451.042266, ewa inertia: 507.774019 \n",
            "Minibatch iteration 113/56000: mean batch inertia: 452.086797, ewa inertia: 507.575140 \n",
            "Minibatch iteration 114/56000: mean batch inertia: 472.330156, ewa inertia: 507.449267 \n",
            "Minibatch iteration 115/56000: mean batch inertia: 431.656367, ewa inertia: 507.178583 \n",
            "Minibatch iteration 116/56000: mean batch inertia: 424.929727, ewa inertia: 506.884843 \n",
            "Minibatch iteration 117/56000: mean batch inertia: 410.018438, ewa inertia: 506.538897 \n",
            "Minibatch iteration 118/56000: mean batch inertia: 454.781211, ewa inertia: 506.354052 \n",
            "Minibatch iteration 119/56000: mean batch inertia: 458.482539, ewa inertia: 506.183085 \n",
            "Minibatch iteration 120/56000: mean batch inertia: 476.213867, ewa inertia: 506.076054 \n",
            "Minibatch iteration 121/56000: mean batch inertia: 451.480352, ewa inertia: 505.881073 \n",
            "Minibatch iteration 122/56000: mean batch inertia: 466.396328, ewa inertia: 505.740058 \n",
            "Minibatch iteration 123/56000: mean batch inertia: 469.468203, ewa inertia: 505.610518 \n",
            "Minibatch iteration 124/56000: mean batch inertia: 427.162305, ewa inertia: 505.330351 \n",
            "Minibatch iteration 125/56000: mean batch inertia: 422.485352, ewa inertia: 505.034481 \n",
            "Minibatch iteration 126/56000: mean batch inertia: 402.996211, ewa inertia: 504.670066 \n",
            "Minibatch iteration 127/56000: mean batch inertia: 439.517891, ewa inertia: 504.437383 \n",
            "Minibatch iteration 128/56000: mean batch inertia: 486.158359, ewa inertia: 504.372102 \n",
            "Minibatch iteration 129/56000: mean batch inertia: 422.580547, ewa inertia: 504.079995 \n",
            "Minibatch iteration 130/56000: mean batch inertia: 412.537891, ewa inertia: 503.753065 \n",
            "Minibatch iteration 131/56000: mean batch inertia: 418.603516, ewa inertia: 503.448965 \n",
            "Minibatch iteration 132/56000: mean batch inertia: 523.368789, ewa inertia: 503.520105 \n",
            "Minibatch iteration 133/56000: mean batch inertia: 445.412734, ewa inertia: 503.312583 \n",
            "Minibatch iteration 134/56000: mean batch inertia: 444.342695, ewa inertia: 503.101980 \n",
            "Minibatch iteration 135/56000: mean batch inertia: 410.911797, ewa inertia: 502.772735 \n",
            "Minibatch iteration 136/56000: mean batch inertia: 513.261445, ewa inertia: 502.810194 \n",
            "Minibatch iteration 137/56000: mean batch inertia: 488.884961, ewa inertia: 502.760462 \n",
            "Minibatch iteration 138/56000: mean batch inertia: 384.498320, ewa inertia: 502.338105 \n",
            "Minibatch iteration 139/56000: mean batch inertia: 469.231992, ewa inertia: 502.219871 \n",
            "Minibatch iteration 140/56000: mean batch inertia: 424.568398, ewa inertia: 501.942549 \n",
            "Minibatch iteration 141/56000: mean batch inertia: 457.208867, ewa inertia: 501.782789 \n",
            "Minibatch iteration 142/56000: mean batch inertia: 416.203281, ewa inertia: 501.477153 \n",
            "Minibatch iteration 143/56000: mean batch inertia: 484.122695, ewa inertia: 501.415174 \n",
            "Minibatch iteration 144/56000: mean batch inertia: 475.104023, ewa inertia: 501.321207 \n",
            "Minibatch iteration 145/56000: mean batch inertia: 495.236172, ewa inertia: 501.299475 \n",
            "Minibatch iteration 146/56000: mean batch inertia: 421.782422, ewa inertia: 501.015491 \n",
            "Minibatch iteration 147/56000: mean batch inertia: 477.387109, ewa inertia: 500.931105 \n",
            "Minibatch iteration 148/56000: mean batch inertia: 460.615469, ewa inertia: 500.787124 \n",
            "Minibatch iteration 149/56000: mean batch inertia: 487.234609, ewa inertia: 500.738723 \n",
            "Minibatch iteration 150/56000: mean batch inertia: 376.103398, ewa inertia: 500.293604 \n",
            "Minibatch iteration 151/56000: mean batch inertia: 503.002734, ewa inertia: 500.303280 \n",
            "Minibatch iteration 152/56000: mean batch inertia: 406.978242, ewa inertia: 499.969982 \n",
            "Minibatch iteration 153/56000: mean batch inertia: 501.489805, ewa inertia: 499.975410 \n",
            "Minibatch iteration 154/56000: mean batch inertia: 414.500078, ewa inertia: 499.670146 \n",
            "Minibatch iteration 155/56000: mean batch inertia: 471.866133, ewa inertia: 499.570848 \n",
            "Minibatch iteration 156/56000: mean batch inertia: 442.920195, ewa inertia: 499.368528 \n",
            "Minibatch iteration 157/56000: mean batch inertia: 520.882500, ewa inertia: 499.445362 \n",
            "Minibatch iteration 158/56000: mean batch inertia: 422.574414, ewa inertia: 499.170828 \n",
            "Minibatch iteration 159/56000: mean batch inertia: 387.590820, ewa inertia: 498.772335 \n",
            "Minibatch iteration 160/56000: mean batch inertia: 482.728164, ewa inertia: 498.715035 \n",
            "Minibatch iteration 161/56000: mean batch inertia: 392.806484, ewa inertia: 498.336797 \n",
            "Minibatch iteration 162/56000: mean batch inertia: 451.434492, ewa inertia: 498.169292 \n",
            "Minibatch iteration 163/56000: mean batch inertia: 451.334180, ewa inertia: 498.002027 \n",
            "Minibatch iteration 164/56000: mean batch inertia: 483.784219, ewa inertia: 497.951250 \n",
            "Minibatch iteration 165/56000: mean batch inertia: 464.035781, ewa inertia: 497.830125 \n",
            "Minibatch iteration 166/56000: mean batch inertia: 424.960547, ewa inertia: 497.569881 \n",
            "Minibatch iteration 167/56000: mean batch inertia: 426.624492, ewa inertia: 497.316510 \n",
            "Minibatch iteration 168/56000: mean batch inertia: 442.054219, ewa inertia: 497.119148 \n",
            "Minibatch iteration 169/56000: mean batch inertia: 458.089922, ewa inertia: 496.979760 \n",
            "Minibatch iteration 170/56000: mean batch inertia: 510.627656, ewa inertia: 497.028502 \n",
            "Minibatch iteration 171/56000: mean batch inertia: 518.873711, ewa inertia: 497.106519 \n",
            "Minibatch iteration 172/56000: mean batch inertia: 486.545117, ewa inertia: 497.068800 \n",
            "Minibatch iteration 173/56000: mean batch inertia: 440.082695, ewa inertia: 496.865282 \n",
            "Minibatch iteration 174/56000: mean batch inertia: 491.389570, ewa inertia: 496.845726 \n",
            "Minibatch iteration 175/56000: mean batch inertia: 440.703945, ewa inertia: 496.645224 \n",
            "Minibatch iteration 176/56000: mean batch inertia: 391.953594, ewa inertia: 496.271332 \n",
            "Minibatch iteration 177/56000: mean batch inertia: 436.889805, ewa inertia: 496.059259 \n",
            "Minibatch iteration 178/56000: mean batch inertia: 441.270312, ewa inertia: 495.863587 \n",
            "Minibatch iteration 179/56000: mean batch inertia: 462.818125, ewa inertia: 495.745570 \n",
            "Minibatch iteration 180/56000: mean batch inertia: 466.085312, ewa inertia: 495.639642 \n",
            "Minibatch iteration 181/56000: mean batch inertia: 434.806523, ewa inertia: 495.422385 \n",
            "Minibatch iteration 182/56000: mean batch inertia: 415.764570, ewa inertia: 495.137898 \n",
            "Minibatch iteration 183/56000: mean batch inertia: 413.887227, ewa inertia: 494.847722 \n",
            "Minibatch iteration 184/56000: mean batch inertia: 457.784023, ewa inertia: 494.715354 \n",
            "Minibatch iteration 185/56000: mean batch inertia: 506.190156, ewa inertia: 494.756335 \n",
            "Minibatch iteration 186/56000: mean batch inertia: 504.413398, ewa inertia: 494.790824 \n",
            "Minibatch iteration 187/56000: mean batch inertia: 444.037773, ewa inertia: 494.609566 \n",
            "Minibatch iteration 188/56000: mean batch inertia: 412.837383, ewa inertia: 494.317528 \n",
            "Minibatch iteration 189/56000: mean batch inertia: 453.393594, ewa inertia: 494.171373 \n",
            "Minibatch iteration 190/56000: mean batch inertia: 464.586016, ewa inertia: 494.065713 \n",
            "Minibatch iteration 191/56000: mean batch inertia: 421.113711, ewa inertia: 493.805175 \n",
            "Minibatch iteration 192/56000: mean batch inertia: 408.627031, ewa inertia: 493.500973 \n",
            "Minibatch iteration 193/56000: mean batch inertia: 474.678281, ewa inertia: 493.433750 \n",
            "Minibatch iteration 194/56000: mean batch inertia: 412.557148, ewa inertia: 493.144910 \n",
            "Minibatch iteration 195/56000: mean batch inertia: 442.570664, ewa inertia: 492.964291 \n",
            "Minibatch iteration 196/56000: mean batch inertia: 485.360820, ewa inertia: 492.937136 \n",
            "Minibatch iteration 197/56000: mean batch inertia: 499.226133, ewa inertia: 492.959597 \n",
            "Minibatch iteration 198/56000: mean batch inertia: 526.916797, ewa inertia: 493.080870 \n",
            "Minibatch iteration 199/56000: mean batch inertia: 501.905195, ewa inertia: 493.112385 \n",
            "Minibatch iteration 200/56000: mean batch inertia: 430.252930, ewa inertia: 492.887891 \n",
            "Minibatch iteration 201/56000: mean batch inertia: 535.858984, ewa inertia: 493.041357 \n",
            "Minibatch iteration 202/56000: mean batch inertia: 503.076172, ewa inertia: 493.077195 \n",
            "Minibatch iteration 203/56000: mean batch inertia: 442.560273, ewa inertia: 492.896780 \n",
            "Minibatch iteration 204/56000: mean batch inertia: 460.892031, ewa inertia: 492.782480 \n",
            "Minibatch iteration 205/56000: mean batch inertia: 424.119102, ewa inertia: 492.537258 \n",
            "Minibatch iteration 206/56000: mean batch inertia: 462.339883, ewa inertia: 492.429412 \n",
            "Minibatch iteration 207/56000: mean batch inertia: 474.773984, ewa inertia: 492.366358 \n",
            "Minibatch iteration 208/56000: mean batch inertia: 507.751133, ewa inertia: 492.421302 \n",
            "Minibatch iteration 209/56000: mean batch inertia: 447.998164, ewa inertia: 492.262651 \n",
            "Minibatch iteration 210/56000: mean batch inertia: 444.814297, ewa inertia: 492.093196 \n",
            "Minibatch iteration 211/56000: mean batch inertia: 498.878086, ewa inertia: 492.117427 \n",
            "Minibatch iteration 212/56000: mean batch inertia: 512.830586, ewa inertia: 492.191401 \n",
            "Minibatch iteration 213/56000: mean batch inertia: 467.788477, ewa inertia: 492.104250 \n",
            "Minibatch iteration 214/56000: mean batch inertia: 483.389180, ewa inertia: 492.073125 \n",
            "Minibatch iteration 215/56000: mean batch inertia: 408.706250, ewa inertia: 491.775391 \n",
            "Minibatch iteration 216/56000: mean batch inertia: 518.813320, ewa inertia: 491.871954 \n",
            "Minibatch iteration 217/56000: mean batch inertia: 394.494844, ewa inertia: 491.524185 \n",
            "Minibatch iteration 218/56000: mean batch inertia: 476.561914, ewa inertia: 491.470749 \n",
            "Minibatch iteration 219/56000: mean batch inertia: 464.455156, ewa inertia: 491.374266 \n",
            "Minibatch iteration 220/56000: mean batch inertia: 427.477422, ewa inertia: 491.146067 \n",
            "Minibatch iteration 221/56000: mean batch inertia: 441.459414, ewa inertia: 490.968618 \n",
            "Minibatch iteration 222/56000: mean batch inertia: 497.353398, ewa inertia: 490.991421 \n",
            "Minibatch iteration 223/56000: mean batch inertia: 475.158125, ewa inertia: 490.934874 \n",
            "Minibatch iteration 224/56000: mean batch inertia: 553.177500, ewa inertia: 491.157165 \n",
            "Minibatch iteration 225/56000: mean batch inertia: 420.591523, ewa inertia: 490.905150 \n",
            "Minibatch iteration 226/56000: mean batch inertia: 490.915469, ewa inertia: 490.905186 \n",
            "Minibatch iteration 227/56000: mean batch inertia: 456.073438, ewa inertia: 490.780790 \n",
            "Minibatch iteration 228/56000: mean batch inertia: 429.828320, ewa inertia: 490.563106 \n",
            "Minibatch iteration 229/56000: mean batch inertia: 450.631836, ewa inertia: 490.420497 \n",
            "Minibatch iteration 230/56000: mean batch inertia: 523.970000, ewa inertia: 490.540314 \n",
            "Minibatch iteration 231/56000: mean batch inertia: 465.481641, ewa inertia: 490.450821 \n",
            "Minibatch iteration 232/56000: mean batch inertia: 466.277812, ewa inertia: 490.364490 \n",
            "Minibatch iteration 233/56000: mean batch inertia: 407.598086, ewa inertia: 490.068901 \n",
            "Minibatch iteration 234/56000: mean batch inertia: 525.548906, ewa inertia: 490.195613 \n",
            "Minibatch iteration 235/56000: mean batch inertia: 527.372617, ewa inertia: 490.328386 \n",
            "Minibatch iteration 236/56000: mean batch inertia: 424.381289, ewa inertia: 490.092865 \n",
            "Minibatch iteration 237/56000: mean batch inertia: 489.109414, ewa inertia: 490.089352 \n",
            "Minibatch iteration 238/56000: mean batch inertia: 414.179805, ewa inertia: 489.818252 \n",
            "Minibatch iteration 239/56000: mean batch inertia: 463.568008, ewa inertia: 489.724503 \n",
            "Minibatch iteration 240/56000: mean batch inertia: 509.947070, ewa inertia: 489.796725 \n",
            "Minibatch iteration 241/56000: mean batch inertia: 436.785391, ewa inertia: 489.607402 \n",
            "Minibatch iteration 242/56000: mean batch inertia: 518.469648, ewa inertia: 489.710479 \n",
            "Minibatch iteration 243/56000: mean batch inertia: 455.653398, ewa inertia: 489.588849 \n",
            "Minibatch iteration 244/56000: mean batch inertia: 460.691562, ewa inertia: 489.485646 \n",
            "Minibatch iteration 245/56000: mean batch inertia: 521.066406, ewa inertia: 489.598433 \n",
            "Minibatch iteration 246/56000: mean batch inertia: 500.802695, ewa inertia: 489.638447 \n",
            "Minibatch iteration 247/56000: mean batch inertia: 492.349961, ewa inertia: 489.648131 \n",
            "Minibatch iteration 248/56000: mean batch inertia: 455.041797, ewa inertia: 489.524539 \n",
            "Minibatch iteration 249/56000: mean batch inertia: 387.463477, ewa inertia: 489.160042 \n",
            "Minibatch iteration 250/56000: mean batch inertia: 374.448398, ewa inertia: 488.750365 \n",
            "Minibatch iteration 251/56000: mean batch inertia: 449.017344, ewa inertia: 488.608464 \n",
            "Minibatch iteration 252/56000: mean batch inertia: 506.230664, ewa inertia: 488.671399 \n",
            "Minibatch iteration 253/56000: mean batch inertia: 466.715820, ewa inertia: 488.592988 \n",
            "Minibatch iteration 254/56000: mean batch inertia: 475.449922, ewa inertia: 488.546049 \n",
            "Minibatch iteration 255/56000: mean batch inertia: 450.962656, ewa inertia: 488.411825 \n",
            "Minibatch iteration 256/56000: mean batch inertia: 496.413984, ewa inertia: 488.440404 \n",
            "Minibatch iteration 257/56000: mean batch inertia: 469.124297, ewa inertia: 488.371419 \n",
            "Minibatch iteration 258/56000: mean batch inertia: 492.855937, ewa inertia: 488.387435 \n",
            "Minibatch iteration 259/56000: mean batch inertia: 515.025977, ewa inertia: 488.482571 \n",
            "Minibatch iteration 260/56000: mean batch inertia: 514.862031, ewa inertia: 488.576781 \n",
            "Minibatch iteration 261/56000: mean batch inertia: 466.877266, ewa inertia: 488.499284 \n",
            "Minibatch iteration 262/56000: mean batch inertia: 472.757500, ewa inertia: 488.443065 \n",
            "Minibatch iteration 263/56000: mean batch inertia: 478.589609, ewa inertia: 488.407874 \n",
            "Minibatch iteration 264/56000: mean batch inertia: 406.751367, ewa inertia: 488.116249 \n",
            "Minibatch iteration 265/56000: mean batch inertia: 485.415898, ewa inertia: 488.106605 \n",
            "Minibatch iteration 266/56000: mean batch inertia: 425.153750, ewa inertia: 487.881778 \n",
            "Minibatch iteration 267/56000: mean batch inertia: 424.368711, ewa inertia: 487.654949 \n",
            "Minibatch iteration 268/56000: mean batch inertia: 636.054062, ewa inertia: 488.184937 \n",
            "Minibatch iteration 269/56000: mean batch inertia: 403.818945, ewa inertia: 487.883635 \n",
            "Minibatch iteration 270/56000: mean batch inertia: 446.129219, ewa inertia: 487.734515 \n",
            "Minibatch iteration 271/56000: mean batch inertia: 434.642734, ewa inertia: 487.544905 \n",
            "Minibatch iteration 272/56000: mean batch inertia: 512.568828, ewa inertia: 487.634274 \n",
            "Minibatch iteration 273/56000: mean batch inertia: 459.237344, ewa inertia: 487.532858 \n",
            "Minibatch iteration 274/56000: mean batch inertia: 431.927852, ewa inertia: 487.334273 \n",
            "Minibatch iteration 275/56000: mean batch inertia: 532.996914, ewa inertia: 487.497351 \n",
            "Minibatch iteration 276/56000: mean batch inertia: 466.392070, ewa inertia: 487.421976 \n",
            "Minibatch iteration 277/56000: mean batch inertia: 471.211719, ewa inertia: 487.364083 \n",
            "Minibatch iteration 278/56000: mean batch inertia: 454.132305, ewa inertia: 487.245400 \n",
            "Minibatch iteration 279/56000: mean batch inertia: 440.089453, ewa inertia: 487.076989 \n",
            "Minibatch iteration 280/56000: mean batch inertia: 387.297734, ewa inertia: 486.720641 \n",
            "Minibatch iteration 281/56000: mean batch inertia: 450.192813, ewa inertia: 486.590187 \n",
            "Minibatch iteration 282/56000: mean batch inertia: 403.898008, ewa inertia: 486.294863 \n",
            "Minibatch iteration 283/56000: mean batch inertia: 452.970898, ewa inertia: 486.175851 \n",
            "Minibatch iteration 284/56000: mean batch inertia: 421.622969, ewa inertia: 485.945309 \n",
            "Minibatch iteration 285/56000: mean batch inertia: 437.511211, ewa inertia: 485.772333 \n",
            "Minibatch iteration 286/56000: mean batch inertia: 472.080273, ewa inertia: 485.723434 \n",
            "Minibatch iteration 287/56000: mean batch inertia: 504.921133, ewa inertia: 485.791996 \n",
            "Minibatch iteration 288/56000: mean batch inertia: 509.440430, ewa inertia: 485.876453 \n",
            "Minibatch iteration 289/56000: mean batch inertia: 445.083984, ewa inertia: 485.730768 \n",
            "Minibatch iteration 290/56000: mean batch inertia: 550.364687, ewa inertia: 485.961600 \n",
            "Minibatch iteration 291/56000: mean batch inertia: 414.614570, ewa inertia: 485.706793 \n",
            "Minibatch iteration 292/56000: mean batch inertia: 476.486797, ewa inertia: 485.673865 \n",
            "Minibatch iteration 293/56000: mean batch inertia: 481.728711, ewa inertia: 485.659776 \n",
            "Minibatch iteration 294/56000: mean batch inertia: 487.375078, ewa inertia: 485.665902 \n",
            "Minibatch iteration 295/56000: mean batch inertia: 452.649180, ewa inertia: 485.547987 \n",
            "Minibatch iteration 296/56000: mean batch inertia: 467.177305, ewa inertia: 485.482379 \n",
            "Minibatch iteration 297/56000: mean batch inertia: 481.922891, ewa inertia: 485.469666 \n",
            "Minibatch iteration 298/56000: mean batch inertia: 433.178281, ewa inertia: 485.282915 \n",
            "Minibatch iteration 299/56000: mean batch inertia: 415.064609, ewa inertia: 485.032140 \n",
            "Minibatch iteration 300/56000: mean batch inertia: 456.373359, ewa inertia: 484.929789 \n",
            "Minibatch iteration 301/56000: mean batch inertia: 436.874219, ewa inertia: 484.758165 \n",
            "Minibatch iteration 302/56000: mean batch inertia: 438.050781, ewa inertia: 484.591356 \n",
            "Minibatch iteration 303/56000: mean batch inertia: 439.387852, ewa inertia: 484.429917 \n",
            "Minibatch iteration 304/56000: mean batch inertia: 474.050039, ewa inertia: 484.392847 \n",
            "Minibatch iteration 305/56000: mean batch inertia: 481.873906, ewa inertia: 484.383851 \n",
            "Minibatch iteration 306/56000: mean batch inertia: 493.403945, ewa inertia: 484.416065 \n",
            "Minibatch iteration 307/56000: mean batch inertia: 391.496992, ewa inertia: 484.084217 \n",
            "Minibatch iteration 308/56000: mean batch inertia: 448.309258, ewa inertia: 483.956452 \n",
            "Minibatch iteration 309/56000: mean batch inertia: 451.743398, ewa inertia: 483.841407 \n",
            "Minibatch iteration 310/56000: mean batch inertia: 474.772734, ewa inertia: 483.809020 \n",
            "Minibatch iteration 311/56000: mean batch inertia: 517.541328, ewa inertia: 483.929490 \n",
            "Minibatch iteration 312/56000: mean batch inertia: 443.917305, ewa inertia: 483.786592 \n",
            "Minibatch iteration 313/56000: mean batch inertia: 417.739570, ewa inertia: 483.550714 \n",
            "Minibatch iteration 314/56000: mean batch inertia: 455.609805, ewa inertia: 483.450927 \n",
            "Minibatch iteration 315/56000: mean batch inertia: 435.029023, ewa inertia: 483.277994 \n",
            "Minibatch iteration 316/56000: mean batch inertia: 478.386484, ewa inertia: 483.260525 \n",
            "Minibatch iteration 317/56000: mean batch inertia: 446.330352, ewa inertia: 483.128634 \n",
            "Minibatch iteration 318/56000: mean batch inertia: 475.773672, ewa inertia: 483.102367 \n",
            "Minibatch iteration 319/56000: mean batch inertia: 549.236250, ewa inertia: 483.338555 \n",
            "Minibatch iteration 320/56000: mean batch inertia: 430.812578, ewa inertia: 483.150965 \n",
            "Minibatch iteration 321/56000: mean batch inertia: 492.682773, ewa inertia: 483.185007 \n",
            "Minibatch iteration 322/56000: mean batch inertia: 418.738320, ewa inertia: 482.954844 \n",
            "Minibatch iteration 323/56000: mean batch inertia: 406.587656, ewa inertia: 482.682109 \n",
            "Minibatch iteration 324/56000: mean batch inertia: 454.901172, ewa inertia: 482.582893 \n",
            "Minibatch iteration 325/56000: mean batch inertia: 438.968359, ewa inertia: 482.427130 \n",
            "Minibatch iteration 326/56000: mean batch inertia: 472.220078, ewa inertia: 482.390677 \n",
            "Minibatch iteration 327/56000: mean batch inertia: 463.766836, ewa inertia: 482.324164 \n",
            "Minibatch iteration 328/56000: mean batch inertia: 437.314883, ewa inertia: 482.163420 \n",
            "Minibatch iteration 329/56000: mean batch inertia: 489.126641, ewa inertia: 482.188288 \n",
            "Minibatch iteration 330/56000: mean batch inertia: 412.861680, ewa inertia: 481.940697 \n",
            "Minibatch iteration 331/56000: mean batch inertia: 384.663633, ewa inertia: 481.593286 \n",
            "Minibatch iteration 332/56000: mean batch inertia: 513.793086, ewa inertia: 481.708283 \n",
            "Minibatch iteration 333/56000: mean batch inertia: 453.616289, ewa inertia: 481.607956 \n",
            "Minibatch iteration 334/56000: mean batch inertia: 500.584687, ewa inertia: 481.675729 \n",
            "Minibatch iteration 335/56000: mean batch inertia: 530.070430, ewa inertia: 481.848564 \n",
            "Minibatch iteration 336/56000: mean batch inertia: 506.986523, ewa inertia: 481.938341 \n",
            "Minibatch iteration 337/56000: mean batch inertia: 393.132891, ewa inertia: 481.621184 \n",
            "Minibatch iteration 338/56000: mean batch inertia: 474.333203, ewa inertia: 481.595156 \n",
            "Minibatch iteration 339/56000: mean batch inertia: 420.047930, ewa inertia: 481.375349 \n",
            "Minibatch iteration 340/56000: mean batch inertia: 470.498242, ewa inertia: 481.336502 \n",
            "Minibatch iteration 341/56000: mean batch inertia: 456.538828, ewa inertia: 481.247941 \n",
            "Minibatch iteration 342/56000: mean batch inertia: 465.973672, ewa inertia: 481.193391 \n",
            "Minibatch iteration 343/56000: mean batch inertia: 447.547188, ewa inertia: 481.073228 \n",
            "Minibatch iteration 344/56000: mean batch inertia: 406.623320, ewa inertia: 480.807340 \n",
            "Minibatch iteration 345/56000: mean batch inertia: 405.406680, ewa inertia: 480.538057 \n",
            "Minibatch iteration 346/56000: mean batch inertia: 485.046875, ewa inertia: 480.554160 \n",
            "Minibatch iteration 347/56000: mean batch inertia: 435.357539, ewa inertia: 480.392746 \n",
            "Minibatch iteration 348/56000: mean batch inertia: 418.221445, ewa inertia: 480.170710 \n",
            "Minibatch iteration 349/56000: mean batch inertia: 520.112227, ewa inertia: 480.313355 \n",
            "Minibatch iteration 350/56000: mean batch inertia: 411.579180, ewa inertia: 480.067881 \n",
            "Minibatch iteration 351/56000: mean batch inertia: 428.365625, ewa inertia: 479.883233 \n",
            "Minibatch iteration 352/56000: mean batch inertia: 375.337656, ewa inertia: 479.509862 \n",
            "Minibatch iteration 353/56000: mean batch inertia: 488.577305, ewa inertia: 479.542246 \n",
            "Minibatch iteration 354/56000: mean batch inertia: 484.202109, ewa inertia: 479.558888 \n",
            "Minibatch iteration 355/56000: mean batch inertia: 484.090703, ewa inertia: 479.575072 \n",
            "Minibatch iteration 356/56000: mean batch inertia: 498.156758, ewa inertia: 479.641434 \n",
            "Minibatch iteration 357/56000: mean batch inertia: 466.194375, ewa inertia: 479.593410 \n",
            "Minibatch iteration 358/56000: mean batch inertia: 487.823555, ewa inertia: 479.622803 \n",
            "Minibatch iteration 359/56000: mean batch inertia: 491.028320, ewa inertia: 479.663536 \n",
            "Minibatch iteration 360/56000: mean batch inertia: 445.400039, ewa inertia: 479.541169 \n",
            "Minibatch iteration 361/56000: mean batch inertia: 421.376250, ewa inertia: 479.333441 \n",
            "Minibatch iteration 362/56000: mean batch inertia: 482.925820, ewa inertia: 479.346270 \n",
            "Minibatch iteration 363/56000: mean batch inertia: 483.383867, ewa inertia: 479.360690 \n",
            "Minibatch iteration 364/56000: mean batch inertia: 411.388984, ewa inertia: 479.117938 \n",
            "Minibatch iteration 365/56000: mean batch inertia: 448.391406, ewa inertia: 479.008203 \n",
            "Minibatch iteration 366/56000: mean batch inertia: 528.989102, ewa inertia: 479.186703 \n",
            "Minibatch iteration 367/56000: mean batch inertia: 455.833125, ewa inertia: 479.103299 \n",
            "Minibatch iteration 368/56000: mean batch inertia: 382.317813, ewa inertia: 478.757642 \n",
            "Minibatch iteration 369/56000: mean batch inertia: 435.654961, ewa inertia: 478.603707 \n",
            "Minibatch iteration 370/56000: mean batch inertia: 416.960977, ewa inertia: 478.383558 \n",
            "Minibatch iteration 371/56000: mean batch inertia: 485.372461, ewa inertia: 478.408518 \n",
            "Minibatch iteration 372/56000: mean batch inertia: 469.805117, ewa inertia: 478.377792 \n",
            "Minibatch iteration 373/56000: mean batch inertia: 418.079766, ewa inertia: 478.162446 \n",
            "Minibatch iteration 374/56000: mean batch inertia: 423.780937, ewa inertia: 477.968230 \n",
            "Minibatch iteration 375/56000: mean batch inertia: 431.329023, ewa inertia: 477.801664 \n",
            "Minibatch iteration 376/56000: mean batch inertia: 465.821641, ewa inertia: 477.758879 \n",
            "Minibatch iteration 377/56000: mean batch inertia: 485.935586, ewa inertia: 477.788081 \n",
            "Minibatch iteration 378/56000: mean batch inertia: 443.007500, ewa inertia: 477.663867 \n",
            "Minibatch iteration 379/56000: mean batch inertia: 497.624336, ewa inertia: 477.735153 \n",
            "Minibatch iteration 380/56000: mean batch inertia: 475.605625, ewa inertia: 477.727548 \n",
            "Minibatch iteration 381/56000: mean batch inertia: 389.895312, ewa inertia: 477.413867 \n",
            "Minibatch iteration 382/56000: mean batch inertia: 534.304258, ewa inertia: 477.617043 \n",
            "Minibatch iteration 383/56000: mean batch inertia: 507.477344, ewa inertia: 477.723685 \n",
            "Minibatch iteration 384/56000: mean batch inertia: 548.076797, ewa inertia: 477.974942 \n",
            "Minibatch iteration 385/56000: mean batch inertia: 466.166719, ewa inertia: 477.932770 \n",
            "Minibatch iteration 386/56000: mean batch inertia: 494.014102, ewa inertia: 477.990203 \n",
            "Minibatch iteration 387/56000: mean batch inertia: 427.940742, ewa inertia: 477.811458 \n",
            "Minibatch iteration 388/56000: mean batch inertia: 388.798516, ewa inertia: 477.493560 \n",
            "Minibatch iteration 389/56000: mean batch inertia: 360.145781, ewa inertia: 477.074468 \n",
            "Minibatch iteration 390/56000: mean batch inertia: 481.756992, ewa inertia: 477.091191 \n",
            "Minibatch iteration 391/56000: mean batch inertia: 535.536016, ewa inertia: 477.299919 \n",
            "Minibatch iteration 392/56000: mean batch inertia: 464.251602, ewa inertia: 477.253319 \n",
            "Minibatch iteration 393/56000: mean batch inertia: 483.899922, ewa inertia: 477.277056 \n",
            "Minibatch iteration 394/56000: mean batch inertia: 448.193555, ewa inertia: 477.173188 \n",
            "Minibatch iteration 395/56000: mean batch inertia: 573.671602, ewa inertia: 477.517819 \n",
            "Minibatch iteration 396/56000: mean batch inertia: 461.393711, ewa inertia: 477.460234 \n",
            "Minibatch iteration 397/56000: mean batch inertia: 437.169219, ewa inertia: 477.316341 \n",
            "Minibatch iteration 398/56000: mean batch inertia: 448.594766, ewa inertia: 477.213765 \n",
            "Minibatch iteration 399/56000: mean batch inertia: 510.791055, ewa inertia: 477.333682 \n",
            "Converged (lack of improvement in inertia) at iteration 399/56000\n",
            "Computing label assignment and total inertia\n",
            "Loading model checkpoint experiments//AE_mnist_latent_dim3_h_dim500_h_nl3/-18375 ...\n",
            "\n",
            "INFO:tensorflow:Restoring parameters from experiments//AE_mnist_latent_dim3_h_dim500_h_nl3/-18375\n"
          ],
          "name": "stdout"
        },
        {
          "output_type": "stream",
          "text": [
            "\r  0%|          | 0/218 [00:00<?, ?it/s]"
          ],
          "name": "stderr"
        },
        {
          "output_type": "stream",
          "text": [
            "Model loaded\n",
            "EPOCHS trained:  20\n"
          ],
          "name": "stdout"
        },
        {
          "output_type": "stream",
          "text": [
            "219it [00:00, 782.32it/s]                         \n"
          ],
          "name": "stderr"
        },
        {
          "output_type": "stream",
          "text": [
            "Init 1/3 with method: k-means++\n",
            "Inertia for init 1/3: 159769.968750\n",
            "Init 2/3 with method: k-means++\n",
            "Inertia for init 2/3: 163427.765625\n",
            "Init 3/3 with method: k-means++\n",
            "Inertia for init 3/3: 157229.093750\n",
            "Minibatch iteration 1/14000: mean batch inertia: 424.836211, ewa inertia: 424.836211 \n",
            "Minibatch iteration 2/14000: mean batch inertia: 453.587734, ewa inertia: 425.246918 \n",
            "Minibatch iteration 3/14000: mean batch inertia: 441.179414, ewa inertia: 425.474508 \n",
            "Minibatch iteration 4/14000: mean batch inertia: 480.959219, ewa inertia: 426.267091 \n",
            "Minibatch iteration 5/14000: mean batch inertia: 424.477031, ewa inertia: 426.241520 \n",
            "Minibatch iteration 6/14000: mean batch inertia: 418.830195, ewa inertia: 426.135652 \n",
            "Minibatch iteration 7/14000: mean batch inertia: 418.579258, ewa inertia: 426.027711 \n",
            "Minibatch iteration 8/14000: mean batch inertia: 392.519531, ewa inertia: 425.549057 \n",
            "Minibatch iteration 9/14000: mean batch inertia: 425.022695, ewa inertia: 425.541538 \n",
            "Minibatch iteration 10/14000: mean batch inertia: 479.899766, ewa inertia: 426.318029 \n",
            "Minibatch iteration 11/14000: mean batch inertia: 461.133203, ewa inertia: 426.815353 \n",
            "Converged (lack of improvement in inertia) at iteration 11/14000\n",
            "Computing label assignment and total inertia\n",
            "TRAIN | kmeans Clustering Acc:  0.12119642857142857\n",
            "VALID | kmeans Clustering Acc:  0.05914285714285714\n",
            "Loading model checkpoint experiments//AE_mnist_latent_dim3_h_dim500_h_nl3/-18375 ...\n",
            "\n",
            "INFO:tensorflow:Restoring parameters from experiments//AE_mnist_latent_dim3_h_dim500_h_nl3/-18375\n"
          ],
          "name": "stdout"
        },
        {
          "output_type": "stream",
          "text": [
            "  7%|▋         | 62/875 [00:00<00:01, 619.35it/s]"
          ],
          "name": "stderr"
        },
        {
          "output_type": "stream",
          "text": [
            "Model loaded\n",
            "EPOCHS trained:  20\n"
          ],
          "name": "stdout"
        },
        {
          "output_type": "stream",
          "text": [
            "100%|██████████| 875/875 [00:01<00:00, 836.57it/s]\n"
          ],
          "name": "stderr"
        },
        {
          "output_type": "stream",
          "text": [
            "Loading model checkpoint experiments//AE_mnist_latent_dim3_h_dim500_h_nl3/-18375 ...\n",
            "\n",
            "INFO:tensorflow:Restoring parameters from experiments//AE_mnist_latent_dim3_h_dim500_h_nl3/-18375\n"
          ],
          "name": "stdout"
        },
        {
          "output_type": "stream",
          "text": [
            "\r  0%|          | 0/218 [00:00<?, ?it/s]"
          ],
          "name": "stderr"
        },
        {
          "output_type": "stream",
          "text": [
            "Model loaded\n",
            "EPOCHS trained:  20\n"
          ],
          "name": "stdout"
        },
        {
          "output_type": "stream",
          "text": [
            "219it [00:00, 737.62it/s]                         \n"
          ],
          "name": "stderr"
        },
        {
          "output_type": "stream",
          "text": [
            "TRAIN | hdbscan Clustering Acc:  0.05230357142857143\n",
            "VALID | hdbscan Clustering Acc:  0.005571428571428572\n"
          ],
          "name": "stdout"
        },
        {
          "output_type": "stream",
          "text": [
            "  0%|          | 1/875 [00:00<02:32,  5.73it/s]"
          ],
          "name": "stderr"
        },
        {
          "output_type": "stream",
          "text": [
            "EPOCH:  21\n"
          ],
          "name": "stdout"
        },
        {
          "output_type": "stream",
          "text": [
            "100%|██████████| 875/875 [00:02<00:00, 292.79it/s]\n",
            "100%|██████████| 218/218 [00:00<00:00, 525.40it/s]\n",
            "  0%|          | 1/875 [00:00<02:29,  5.84it/s]"
          ],
          "name": "stderr"
        },
        {
          "output_type": "stream",
          "text": [
            "TRAIN | AE Loss:  372.76263  | Recons:  372.7582  | L2_loss:  4449.8906\n",
            "VALID | AE Loss:  379.02274  | Recons:  379.01828\n",
            "EPOCH:  22\n"
          ],
          "name": "stdout"
        },
        {
          "output_type": "stream",
          "text": [
            "100%|██████████| 875/875 [00:02<00:00, 298.21it/s]\n",
            "100%|██████████| 218/218 [00:00<00:00, 527.37it/s]\n",
            "  0%|          | 1/875 [00:00<02:36,  5.59it/s]"
          ],
          "name": "stderr"
        },
        {
          "output_type": "stream",
          "text": [
            "TRAIN | AE Loss:  371.6922  | Recons:  371.68774  | L2_loss:  4484.7505\n",
            "VALID | AE Loss:  378.50867  | Recons:  378.50412\n",
            "EPOCH:  23\n"
          ],
          "name": "stdout"
        },
        {
          "output_type": "stream",
          "text": [
            "100%|██████████| 875/875 [00:02<00:00, 299.13it/s]\n",
            "100%|██████████| 218/218 [00:00<00:00, 523.84it/s]\n",
            "  0%|          | 1/875 [00:00<02:29,  5.86it/s]"
          ],
          "name": "stderr"
        },
        {
          "output_type": "stream",
          "text": [
            "TRAIN | AE Loss:  370.6857  | Recons:  370.6812  | L2_loss:  4519.194\n",
            "VALID | AE Loss:  377.78275  | Recons:  377.77823\n",
            "EPOCH:  24\n"
          ],
          "name": "stdout"
        },
        {
          "output_type": "stream",
          "text": [
            "100%|██████████| 875/875 [00:02<00:00, 299.69it/s]\n",
            "100%|██████████| 218/218 [00:00<00:00, 490.52it/s]\n",
            "  0%|          | 1/875 [00:00<02:32,  5.75it/s]"
          ],
          "name": "stderr"
        },
        {
          "output_type": "stream",
          "text": [
            "TRAIN | AE Loss:  369.68253  | Recons:  369.678  | L2_loss:  4554.623\n",
            "VALID | AE Loss:  377.0582  | Recons:  377.05362\n",
            "EPOCH:  25\n"
          ],
          "name": "stdout"
        },
        {
          "output_type": "stream",
          "text": [
            "100%|██████████| 875/875 [00:02<00:00, 299.25it/s]\n",
            "100%|██████████| 218/218 [00:00<00:00, 553.24it/s]\n",
            "  0%|          | 1/875 [00:00<02:32,  5.72it/s]"
          ],
          "name": "stderr"
        },
        {
          "output_type": "stream",
          "text": [
            "TRAIN | AE Loss:  368.77283  | Recons:  368.76825  | L2_loss:  4591.1777\n",
            "VALID | AE Loss:  376.7169  | Recons:  376.7123\n",
            "EPOCH:  26\n"
          ],
          "name": "stdout"
        },
        {
          "output_type": "stream",
          "text": [
            "100%|██████████| 875/875 [00:02<00:00, 300.56it/s]\n",
            "100%|██████████| 218/218 [00:00<00:00, 523.68it/s]\n",
            "  0%|          | 1/875 [00:00<02:32,  5.71it/s]"
          ],
          "name": "stderr"
        },
        {
          "output_type": "stream",
          "text": [
            "TRAIN | AE Loss:  367.84253  | Recons:  367.83792  | L2_loss:  4629.6865\n",
            "VALID | AE Loss:  376.1005  | Recons:  376.09583\n",
            "EPOCH:  27\n"
          ],
          "name": "stdout"
        },
        {
          "output_type": "stream",
          "text": [
            "100%|██████████| 875/875 [00:02<00:00, 299.37it/s]\n",
            "100%|██████████| 218/218 [00:00<00:00, 516.10it/s]\n",
            "  0%|          | 1/875 [00:00<02:29,  5.84it/s]"
          ],
          "name": "stderr"
        },
        {
          "output_type": "stream",
          "text": [
            "TRAIN | AE Loss:  366.9879  | Recons:  366.98328  | L2_loss:  4670.6836\n",
            "VALID | AE Loss:  375.57053  | Recons:  375.56583\n",
            "EPOCH:  28\n"
          ],
          "name": "stdout"
        },
        {
          "output_type": "stream",
          "text": [
            "100%|██████████| 875/875 [00:02<00:00, 298.61it/s]\n",
            "100%|██████████| 218/218 [00:00<00:00, 469.54it/s]\n",
            "  0%|          | 1/875 [00:00<02:28,  5.87it/s]"
          ],
          "name": "stderr"
        },
        {
          "output_type": "stream",
          "text": [
            "TRAIN | AE Loss:  366.09607  | Recons:  366.09137  | L2_loss:  4714.1465\n",
            "VALID | AE Loss:  374.89404  | Recons:  374.88925\n",
            "EPOCH:  29\n"
          ],
          "name": "stdout"
        },
        {
          "output_type": "stream",
          "text": [
            "100%|██████████| 875/875 [00:02<00:00, 298.64it/s]\n",
            "100%|██████████| 218/218 [00:00<00:00, 517.70it/s]\n",
            "  0%|          | 1/875 [00:00<02:28,  5.88it/s]"
          ],
          "name": "stderr"
        },
        {
          "output_type": "stream",
          "text": [
            "TRAIN | AE Loss:  365.2821  | Recons:  365.2773  | L2_loss:  4760.75\n",
            "VALID | AE Loss:  374.48132  | Recons:  374.47653\n",
            "EPOCH:  30\n"
          ],
          "name": "stdout"
        },
        {
          "output_type": "stream",
          "text": [
            "100%|██████████| 875/875 [00:02<00:00, 298.82it/s]\n",
            "100%|██████████| 218/218 [00:00<00:00, 518.13it/s]\n",
            "  0%|          | 1/875 [00:00<02:46,  5.26it/s]"
          ],
          "name": "stderr"
        },
        {
          "output_type": "stream",
          "text": [
            "TRAIN | AE Loss:  364.47586  | Recons:  364.47107  | L2_loss:  4808.5103\n",
            "VALID | AE Loss:  374.08716  | Recons:  374.08237\n",
            "EPOCH:  31\n"
          ],
          "name": "stdout"
        },
        {
          "output_type": "stream",
          "text": [
            "100%|██████████| 875/875 [00:02<00:00, 296.79it/s]\n",
            "100%|██████████| 218/218 [00:00<00:00, 520.75it/s]\n",
            "  0%|          | 1/875 [00:00<02:30,  5.80it/s]"
          ],
          "name": "stderr"
        },
        {
          "output_type": "stream",
          "text": [
            "TRAIN | AE Loss:  363.71994  | Recons:  363.71506  | L2_loss:  4858.0615\n",
            "VALID | AE Loss:  373.50363  | Recons:  373.49875\n",
            "EPOCH:  32\n"
          ],
          "name": "stdout"
        },
        {
          "output_type": "stream",
          "text": [
            "100%|██████████| 875/875 [00:02<00:00, 298.59it/s]\n",
            "100%|██████████| 218/218 [00:00<00:00, 511.92it/s]\n",
            "  0%|          | 1/875 [00:00<02:32,  5.73it/s]"
          ],
          "name": "stderr"
        },
        {
          "output_type": "stream",
          "text": [
            "TRAIN | AE Loss:  362.94385  | Recons:  362.93893  | L2_loss:  4907.424\n",
            "VALID | AE Loss:  373.1385  | Recons:  373.13358\n",
            "EPOCH:  33\n"
          ],
          "name": "stdout"
        },
        {
          "output_type": "stream",
          "text": [
            "100%|██████████| 875/875 [00:02<00:00, 297.64it/s]\n",
            "100%|██████████| 218/218 [00:00<00:00, 516.92it/s]\n",
            "  0%|          | 1/875 [00:00<02:46,  5.25it/s]"
          ],
          "name": "stderr"
        },
        {
          "output_type": "stream",
          "text": [
            "TRAIN | AE Loss:  362.32343  | Recons:  362.31845  | L2_loss:  4957.6826\n",
            "VALID | AE Loss:  372.56207  | Recons:  372.55707\n",
            "EPOCH:  34\n"
          ],
          "name": "stdout"
        },
        {
          "output_type": "stream",
          "text": [
            "100%|██████████| 875/875 [00:02<00:00, 296.41it/s]\n",
            "100%|██████████| 218/218 [00:00<00:00, 517.99it/s]\n",
            "  0%|          | 1/875 [00:00<02:30,  5.81it/s]"
          ],
          "name": "stderr"
        },
        {
          "output_type": "stream",
          "text": [
            "TRAIN | AE Loss:  361.57062  | Recons:  361.5656  | L2_loss:  5007.2886\n",
            "VALID | AE Loss:  372.2619  | Recons:  372.25687\n",
            "EPOCH:  35\n"
          ],
          "name": "stdout"
        },
        {
          "output_type": "stream",
          "text": [
            "100%|██████████| 875/875 [00:02<00:00, 298.95it/s]\n",
            "100%|██████████| 218/218 [00:00<00:00, 521.57it/s]\n",
            "  0%|          | 1/875 [00:00<02:29,  5.85it/s]"
          ],
          "name": "stderr"
        },
        {
          "output_type": "stream",
          "text": [
            "TRAIN | AE Loss:  360.9528  | Recons:  360.94775  | L2_loss:  5056.7983\n",
            "VALID | AE Loss:  371.96674  | Recons:  371.96164\n",
            "EPOCH:  36\n"
          ],
          "name": "stdout"
        },
        {
          "output_type": "stream",
          "text": [
            "100%|██████████| 875/875 [00:02<00:00, 299.76it/s]\n",
            "100%|██████████| 218/218 [00:00<00:00, 534.35it/s]\n",
            "  0%|          | 1/875 [00:00<02:31,  5.78it/s]"
          ],
          "name": "stderr"
        },
        {
          "output_type": "stream",
          "text": [
            "TRAIN | AE Loss:  360.2396  | Recons:  360.2345  | L2_loss:  5105.3228\n",
            "VALID | AE Loss:  371.56863  | Recons:  371.5635\n",
            "EPOCH:  37\n"
          ],
          "name": "stdout"
        },
        {
          "output_type": "stream",
          "text": [
            "100%|██████████| 875/875 [00:02<00:00, 298.52it/s]\n",
            "100%|██████████| 218/218 [00:00<00:00, 511.11it/s]\n",
            "  0%|          | 1/875 [00:00<02:30,  5.82it/s]"
          ],
          "name": "stderr"
        },
        {
          "output_type": "stream",
          "text": [
            "TRAIN | AE Loss:  359.60037  | Recons:  359.5952  | L2_loss:  5154.392\n",
            "VALID | AE Loss:  371.23926  | Recons:  371.2341\n",
            "EPOCH:  38\n"
          ],
          "name": "stdout"
        },
        {
          "output_type": "stream",
          "text": [
            "100%|██████████| 875/875 [00:02<00:00, 300.36it/s]\n",
            "100%|██████████| 218/218 [00:00<00:00, 535.13it/s]\n",
            "  0%|          | 1/875 [00:00<02:29,  5.85it/s]"
          ],
          "name": "stderr"
        },
        {
          "output_type": "stream",
          "text": [
            "TRAIN | AE Loss:  359.00677  | Recons:  359.00156  | L2_loss:  5202.9033\n",
            "VALID | AE Loss:  370.95337  | Recons:  370.94815\n",
            "EPOCH:  39\n"
          ],
          "name": "stdout"
        },
        {
          "output_type": "stream",
          "text": [
            "100%|██████████| 875/875 [00:02<00:00, 293.95it/s]\n",
            "100%|██████████| 218/218 [00:00<00:00, 523.87it/s]\n",
            "  0%|          | 1/875 [00:00<02:50,  5.14it/s]"
          ],
          "name": "stderr"
        },
        {
          "output_type": "stream",
          "text": [
            "TRAIN | AE Loss:  358.45743  | Recons:  358.45215  | L2_loss:  5251.094\n",
            "VALID | AE Loss:  370.70306  | Recons:  370.69778\n",
            "EPOCH:  40\n"
          ],
          "name": "stdout"
        },
        {
          "output_type": "stream",
          "text": [
            "100%|██████████| 875/875 [00:02<00:00, 291.83it/s]\n",
            "100%|██████████| 218/218 [00:00<00:00, 504.36it/s]\n"
          ],
          "name": "stderr"
        },
        {
          "output_type": "stream",
          "text": [
            "TRAIN | AE Loss:  357.88364  | Recons:  357.87836  | L2_loss:  5298.5483\n",
            "VALID | AE Loss:  370.31766  | Recons:  370.31235\n",
            "Saving model...\n",
            "Model saved\n",
            "Generating W space ...\n",
            "Loading model checkpoint experiments//AE_mnist_latent_dim3_h_dim500_h_nl3/-35875 ...\n",
            "\n",
            "INFO:tensorflow:Restoring parameters from experiments//AE_mnist_latent_dim3_h_dim500_h_nl3/-35875\n"
          ],
          "name": "stdout"
        },
        {
          "output_type": "stream",
          "text": [
            "\r  0%|          | 0/875 [00:00<?, ?it/s]"
          ],
          "name": "stderr"
        },
        {
          "output_type": "stream",
          "text": [
            "Model loaded\n",
            "EPOCHS trained:  40\n"
          ],
          "name": "stdout"
        },
        {
          "output_type": "stream",
          "text": [
            "100%|██████████| 875/875 [00:00<00:00, 973.45it/s]\n"
          ],
          "name": "stderr"
        },
        {
          "output_type": "stream",
          "text": [
            "W space dimensions: (56000, 2)\n",
            "Ploting W space ...\n"
          ],
          "name": "stdout"
        },
        {
          "output_type": "stream",
          "text": [
            "  1%|          | 418/56000 [00:00<00:13, 4177.36it/s]"
          ],
          "name": "stderr"
        },
        {
          "output_type": "stream",
          "text": [
            "data size (56000, 2)\n"
          ],
          "name": "stdout"
        },
        {
          "output_type": "stream",
          "text": [
            "100%|██████████| 56000/56000 [00:18<00:00, 2973.98it/s]\n"
          ],
          "name": "stderr"
        },
        {
          "output_type": "stream",
          "text": [
            "Saving Image experiments//AE_mnist_latent_dim3_h_dim500_h_nl3/AE_mnist_latent_dim3_h_dim500_h_nl3 W space in epoch 40.jpg ...\n",
            "W space dimensions: (56000, 3)\n",
            "Ploting W space ...\n"
          ],
          "name": "stdout"
        },
        {
          "output_type": "stream",
          "text": [
            "100%|██████████| 10/10 [00:00<00:00, 62.10it/s]"
          ],
          "name": "stderr"
        },
        {
          "output_type": "stream",
          "text": [
            "data size (56000, 3)\n",
            "Saving Image experiments//AE_mnist_latent_dim3_h_dim500_h_nl3/AE_mnist_latent_dim3_h_dim500_h_nl3 W space 3d in epoch 40.jpg ...\n"
          ],
          "name": "stdout"
        },
        {
          "output_type": "stream",
          "text": [
            "\n"
          ],
          "name": "stderr"
        },
        {
          "output_type": "stream",
          "text": [
            "Generating Samples ...\n",
            "Loading model checkpoint experiments//AE_mnist_latent_dim3_h_dim500_h_nl3/-35875 ...\n",
            "\n",
            "INFO:tensorflow:Restoring parameters from experiments//AE_mnist_latent_dim3_h_dim500_h_nl3/-35875\n"
          ],
          "name": "stdout"
        },
        {
          "output_type": "stream",
          "text": [
            "\r  0%|          | 0/1 [00:00<?, ?it/s]"
          ],
          "name": "stderr"
        },
        {
          "output_type": "stream",
          "text": [
            "Model loaded\n",
            "EPOCHS trained:  40\n"
          ],
          "name": "stdout"
        },
        {
          "output_type": "stream",
          "text": [
            "\r2it [00:00, 59.58it/s]               "
          ],
          "name": "stderr"
        },
        {
          "output_type": "stream",
          "text": [
            "Loading model checkpoint experiments//AE_mnist_latent_dim3_h_dim500_h_nl3/-35875 ...\n",
            "\n",
            "INFO:tensorflow:Restoring parameters from experiments//AE_mnist_latent_dim3_h_dim500_h_nl3/-35875\n"
          ],
          "name": "stdout"
        },
        {
          "output_type": "stream",
          "text": [
            "\n",
            "2it [00:00, 96.66it/s]               "
          ],
          "name": "stderr"
        },
        {
          "output_type": "stream",
          "text": [
            "Model loaded\n",
            "EPOCHS trained:  40\n"
          ],
          "name": "stdout"
        },
        {
          "output_type": "stream",
          "text": [
            "\n"
          ],
          "name": "stderr"
        },
        {
          "output_type": "stream",
          "text": [
            "Saving Image  experiments//AE_mnist_latent_dim3_h_dim500_h_nl3/AE_mnist_latent_dim3_h_dim500_h_nl3 samples generation in epoch 40.jpg\n",
            "Generating W space ...\n",
            "Loading model checkpoint experiments//AE_mnist_latent_dim3_h_dim500_h_nl3/-35875 ...\n",
            "\n",
            "INFO:tensorflow:Restoring parameters from experiments//AE_mnist_latent_dim3_h_dim500_h_nl3/-35875\n",
            "Model loaded\n"
          ],
          "name": "stdout"
        },
        {
          "output_type": "stream",
          "text": [
            "  7%|▋         | 60/875 [00:00<00:01, 591.54it/s]"
          ],
          "name": "stderr"
        },
        {
          "output_type": "stream",
          "text": [
            "EPOCHS trained:  40\n"
          ],
          "name": "stdout"
        },
        {
          "output_type": "stream",
          "text": [
            "100%|██████████| 875/875 [00:01<00:00, 847.42it/s]\n"
          ],
          "name": "stderr"
        },
        {
          "output_type": "stream",
          "text": [
            "Init 1/3 with method: k-means++\n",
            "Inertia for init 1/3: 122434.343750\n",
            "Init 2/3 with method: k-means++\n",
            "Inertia for init 2/3: 131321.156250\n",
            "Init 3/3 with method: k-means++\n",
            "Inertia for init 3/3: 134382.187500\n",
            "Minibatch iteration 1/56000: mean batch inertia: 406.702148, ewa inertia: 406.702148 \n",
            "Minibatch iteration 2/56000: mean batch inertia: 493.834141, ewa inertia: 407.013329 \n",
            "Minibatch iteration 3/56000: mean batch inertia: 370.929766, ewa inertia: 406.884461 \n",
            "Minibatch iteration 4/56000: mean batch inertia: 349.912734, ewa inertia: 406.680994 \n",
            "Minibatch iteration 5/56000: mean batch inertia: 416.946172, ewa inertia: 406.717655 \n",
            "Minibatch iteration 6/56000: mean batch inertia: 366.955234, ewa inertia: 406.575649 \n",
            "Minibatch iteration 7/56000: mean batch inertia: 345.696836, ewa inertia: 406.358228 \n",
            "Minibatch iteration 8/56000: mean batch inertia: 411.697852, ewa inertia: 406.377298 \n",
            "Minibatch iteration 9/56000: mean batch inertia: 377.709531, ewa inertia: 406.274915 \n",
            "Minibatch iteration 10/56000: mean batch inertia: 384.165703, ewa inertia: 406.195955 \n",
            "Minibatch iteration 11/56000: mean batch inertia: 406.794688, ewa inertia: 406.198093 \n",
            "Minibatch iteration 12/56000: mean batch inertia: 441.456914, ewa inertia: 406.324015 \n",
            "Minibatch iteration 13/56000: mean batch inertia: 328.487266, ewa inertia: 406.046032 \n",
            "Minibatch iteration 14/56000: mean batch inertia: 356.641367, ewa inertia: 405.869590 \n",
            "Minibatch iteration 15/56000: mean batch inertia: 386.239180, ewa inertia: 405.799482 \n",
            "Minibatch iteration 16/56000: mean batch inertia: 339.771055, ewa inertia: 405.563671 \n",
            "Minibatch iteration 17/56000: mean batch inertia: 401.870391, ewa inertia: 405.550481 \n",
            "Minibatch iteration 18/56000: mean batch inertia: 421.856602, ewa inertia: 405.608716 \n",
            "Minibatch iteration 19/56000: mean batch inertia: 433.426758, ewa inertia: 405.708064 \n",
            "Minibatch iteration 20/56000: mean batch inertia: 378.452422, ewa inertia: 405.610724 \n",
            "Minibatch iteration 21/56000: mean batch inertia: 418.874453, ewa inertia: 405.658094 \n",
            "Minibatch iteration 22/56000: mean batch inertia: 391.517500, ewa inertia: 405.607593 \n",
            "Minibatch iteration 23/56000: mean batch inertia: 353.638984, ewa inertia: 405.421994 \n",
            "Minibatch iteration 24/56000: mean batch inertia: 392.745742, ewa inertia: 405.376722 \n",
            "Minibatch iteration 25/56000: mean batch inertia: 406.507422, ewa inertia: 405.380761 \n",
            "Minibatch iteration 26/56000: mean batch inertia: 399.871289, ewa inertia: 405.361084 \n",
            "Minibatch iteration 27/56000: mean batch inertia: 410.420977, ewa inertia: 405.379155 \n",
            "Minibatch iteration 28/56000: mean batch inertia: 370.469336, ewa inertia: 405.254479 \n",
            "Minibatch iteration 29/56000: mean batch inertia: 374.568750, ewa inertia: 405.144889 \n",
            "Minibatch iteration 30/56000: mean batch inertia: 379.100156, ewa inertia: 405.051874 \n",
            "Minibatch iteration 31/56000: mean batch inertia: 371.291133, ewa inertia: 404.931302 \n",
            "Minibatch iteration 32/56000: mean batch inertia: 418.726172, ewa inertia: 404.980569 \n",
            "Minibatch iteration 33/56000: mean batch inertia: 348.049102, ewa inertia: 404.777246 \n",
            "Minibatch iteration 34/56000: mean batch inertia: 363.154102, ewa inertia: 404.628594 \n",
            "Minibatch iteration 35/56000: mean batch inertia: 374.227969, ewa inertia: 404.520023 \n",
            "Minibatch iteration 36/56000: mean batch inertia: 428.808555, ewa inertia: 404.606766 \n",
            "Minibatch iteration 37/56000: mean batch inertia: 425.507148, ewa inertia: 404.681409 \n",
            "Minibatch iteration 38/56000: mean batch inertia: 378.169844, ewa inertia: 404.586726 \n",
            "Minibatch iteration 39/56000: mean batch inertia: 352.104648, ewa inertia: 404.399294 \n",
            "Minibatch iteration 40/56000: mean batch inertia: 332.046289, ewa inertia: 404.140895 \n",
            "Minibatch iteration 41/56000: mean batch inertia: 381.480820, ewa inertia: 404.059967 \n",
            "Minibatch iteration 42/56000: mean batch inertia: 377.982070, ewa inertia: 403.966833 \n",
            "Minibatch iteration 43/56000: mean batch inertia: 346.580859, ewa inertia: 403.761887 \n",
            "Minibatch iteration 44/56000: mean batch inertia: 380.237422, ewa inertia: 403.677873 \n",
            "Minibatch iteration 45/56000: mean batch inertia: 396.039492, ewa inertia: 403.650593 \n",
            "Minibatch iteration 46/56000: mean batch inertia: 323.160820, ewa inertia: 403.363135 \n",
            "Minibatch iteration 47/56000: mean batch inertia: 353.522148, ewa inertia: 403.185135 \n",
            "Minibatch iteration 48/56000: mean batch inertia: 419.943125, ewa inertia: 403.244984 \n",
            "Minibatch iteration 49/56000: mean batch inertia: 390.827656, ewa inertia: 403.200637 \n",
            "Minibatch iteration 50/56000: mean batch inertia: 446.919883, ewa inertia: 403.356774 \n",
            "Minibatch iteration 51/56000: mean batch inertia: 418.930195, ewa inertia: 403.412392 \n",
            "Minibatch iteration 52/56000: mean batch inertia: 438.144766, ewa inertia: 403.536434 \n",
            "Minibatch iteration 53/56000: mean batch inertia: 340.400586, ewa inertia: 403.310953 \n",
            "Minibatch iteration 54/56000: mean batch inertia: 397.403672, ewa inertia: 403.289856 \n",
            "Minibatch iteration 55/56000: mean batch inertia: 374.567930, ewa inertia: 403.187280 \n",
            "Minibatch iteration 56/56000: mean batch inertia: 425.335117, ewa inertia: 403.266378 \n",
            "Minibatch iteration 57/56000: mean batch inertia: 360.145820, ewa inertia: 403.112379 \n",
            "Minibatch iteration 58/56000: mean batch inertia: 362.464531, ewa inertia: 402.967210 \n",
            "Minibatch iteration 59/56000: mean batch inertia: 395.181484, ewa inertia: 402.939405 \n",
            "Minibatch iteration 60/56000: mean batch inertia: 341.445469, ewa inertia: 402.719787 \n",
            "Minibatch iteration 61/56000: mean batch inertia: 303.773066, ewa inertia: 402.366412 \n",
            "Minibatch iteration 62/56000: mean batch inertia: 362.941172, ewa inertia: 402.225611 \n",
            "Minibatch iteration 63/56000: mean batch inertia: 375.843086, ewa inertia: 402.131389 \n",
            "Minibatch iteration 64/56000: mean batch inertia: 410.639766, ewa inertia: 402.161775 \n",
            "Minibatch iteration 65/56000: mean batch inertia: 450.114844, ewa inertia: 402.333033 \n",
            "Minibatch iteration 66/56000: mean batch inertia: 392.730859, ewa inertia: 402.298740 \n",
            "Minibatch iteration 67/56000: mean batch inertia: 443.026445, ewa inertia: 402.444194 \n",
            "Minibatch iteration 68/56000: mean batch inertia: 403.945039, ewa inertia: 402.449554 \n",
            "Minibatch iteration 69/56000: mean batch inertia: 342.941523, ewa inertia: 402.237029 \n",
            "Minibatch iteration 70/56000: mean batch inertia: 394.334531, ewa inertia: 402.208806 \n",
            "Minibatch iteration 71/56000: mean batch inertia: 420.796953, ewa inertia: 402.275192 \n",
            "Minibatch iteration 72/56000: mean batch inertia: 360.628906, ewa inertia: 402.126457 \n",
            "Minibatch iteration 73/56000: mean batch inertia: 413.261836, ewa inertia: 402.166226 \n",
            "Minibatch iteration 74/56000: mean batch inertia: 347.206719, ewa inertia: 401.969945 \n",
            "Minibatch iteration 75/56000: mean batch inertia: 354.351328, ewa inertia: 401.799882 \n",
            "Minibatch iteration 76/56000: mean batch inertia: 392.031016, ewa inertia: 401.764994 \n",
            "Minibatch iteration 77/56000: mean batch inertia: 373.887773, ewa inertia: 401.665434 \n",
            "Minibatch iteration 78/56000: mean batch inertia: 339.213320, ewa inertia: 401.442395 \n",
            "Minibatch iteration 79/56000: mean batch inertia: 409.942148, ewa inertia: 401.472751 \n",
            "Minibatch iteration 80/56000: mean batch inertia: 335.682266, ewa inertia: 401.237789 \n",
            "Minibatch iteration 81/56000: mean batch inertia: 393.790586, ewa inertia: 401.211192 \n",
            "Minibatch iteration 82/56000: mean batch inertia: 400.737969, ewa inertia: 401.209502 \n",
            "Minibatch iteration 83/56000: mean batch inertia: 400.076367, ewa inertia: 401.205455 \n",
            "Minibatch iteration 84/56000: mean batch inertia: 403.294961, ewa inertia: 401.212918 \n",
            "Minibatch iteration 85/56000: mean batch inertia: 389.636055, ewa inertia: 401.171572 \n",
            "Minibatch iteration 86/56000: mean batch inertia: 347.675430, ewa inertia: 400.980518 \n",
            "Minibatch iteration 87/56000: mean batch inertia: 391.949609, ewa inertia: 400.948265 \n",
            "Minibatch iteration 88/56000: mean batch inertia: 379.339258, ewa inertia: 400.871092 \n",
            "Minibatch iteration 89/56000: mean batch inertia: 397.032266, ewa inertia: 400.857382 \n",
            "Minibatch iteration 90/56000: mean batch inertia: 403.007305, ewa inertia: 400.865060 \n",
            "Minibatch iteration 91/56000: mean batch inertia: 349.320898, ewa inertia: 400.680977 \n",
            "Minibatch iteration 92/56000: mean batch inertia: 411.804648, ewa inertia: 400.720704 \n",
            "Minibatch iteration 93/56000: mean batch inertia: 419.744492, ewa inertia: 400.788645 \n",
            "Minibatch iteration 94/56000: mean batch inertia: 350.980469, ewa inertia: 400.610762 \n",
            "Minibatch iteration 95/56000: mean batch inertia: 394.322617, ewa inertia: 400.588304 \n",
            "Minibatch iteration 96/56000: mean batch inertia: 392.526836, ewa inertia: 400.559514 \n",
            "Minibatch iteration 97/56000: mean batch inertia: 414.757930, ewa inertia: 400.610222 \n",
            "Minibatch iteration 98/56000: mean batch inertia: 303.070078, ewa inertia: 400.261870 \n",
            "Minibatch iteration 99/56000: mean batch inertia: 349.660352, ewa inertia: 400.081154 \n",
            "Minibatch iteration 100/56000: mean batch inertia: 389.185430, ewa inertia: 400.042241 \n",
            "Minibatch iteration 101/56000: mean batch inertia: 325.715000, ewa inertia: 399.776791 \n",
            "Minibatch iteration 102/56000: mean batch inertia: 363.897539, ewa inertia: 399.648653 \n",
            "Minibatch iteration 103/56000: mean batch inertia: 367.440039, ewa inertia: 399.533625 \n",
            "Minibatch iteration 104/56000: mean batch inertia: 397.758945, ewa inertia: 399.527287 \n",
            "Minibatch iteration 105/56000: mean batch inertia: 394.592148, ewa inertia: 399.509662 \n",
            "Minibatch iteration 106/56000: mean batch inertia: 271.293340, ewa inertia: 399.051754 \n",
            "Minibatch iteration 107/56000: mean batch inertia: 366.890117, ewa inertia: 398.936893 \n",
            "Minibatch iteration 108/56000: mean batch inertia: 334.824961, ewa inertia: 398.707926 \n",
            "Minibatch iteration 109/56000: mean batch inertia: 437.825586, ewa inertia: 398.847630 \n",
            "Minibatch iteration 110/56000: mean batch inertia: 333.244727, ewa inertia: 398.613338 \n",
            "Minibatch iteration 111/56000: mean batch inertia: 411.140508, ewa inertia: 398.658077 \n",
            "Minibatch iteration 112/56000: mean batch inertia: 289.840273, ewa inertia: 398.269449 \n",
            "Minibatch iteration 113/56000: mean batch inertia: 343.461523, ewa inertia: 398.073710 \n",
            "Minibatch iteration 114/56000: mean batch inertia: 361.438828, ewa inertia: 397.942873 \n",
            "Minibatch iteration 115/56000: mean batch inertia: 348.564648, ewa inertia: 397.766525 \n",
            "Minibatch iteration 116/56000: mean batch inertia: 341.168320, ewa inertia: 397.564393 \n",
            "Minibatch iteration 117/56000: mean batch inertia: 408.735430, ewa inertia: 397.604288 \n",
            "Minibatch iteration 118/56000: mean batch inertia: 360.633906, ewa inertia: 397.472254 \n",
            "Minibatch iteration 119/56000: mean batch inertia: 402.581563, ewa inertia: 397.490501 \n",
            "Minibatch iteration 120/56000: mean batch inertia: 383.245703, ewa inertia: 397.439628 \n",
            "Minibatch iteration 121/56000: mean batch inertia: 389.636367, ewa inertia: 397.411759 \n",
            "Minibatch iteration 122/56000: mean batch inertia: 463.050273, ewa inertia: 397.646178 \n",
            "Minibatch iteration 123/56000: mean batch inertia: 347.009492, ewa inertia: 397.465336 \n",
            "Minibatch iteration 124/56000: mean batch inertia: 347.474219, ewa inertia: 397.286800 \n",
            "Minibatch iteration 125/56000: mean batch inertia: 375.696875, ewa inertia: 397.209694 \n",
            "Minibatch iteration 126/56000: mean batch inertia: 304.589082, ewa inertia: 396.878912 \n",
            "Minibatch iteration 127/56000: mean batch inertia: 370.845469, ewa inertia: 396.785937 \n",
            "Minibatch iteration 128/56000: mean batch inertia: 335.697383, ewa inertia: 396.567768 \n",
            "Minibatch iteration 129/56000: mean batch inertia: 414.684531, ewa inertia: 396.632469 \n",
            "Minibatch iteration 130/56000: mean batch inertia: 348.278906, ewa inertia: 396.459781 \n",
            "Minibatch iteration 131/56000: mean batch inertia: 400.275000, ewa inertia: 396.473407 \n",
            "Minibatch iteration 132/56000: mean batch inertia: 424.087930, ewa inertia: 396.572028 \n",
            "Minibatch iteration 133/56000: mean batch inertia: 393.339844, ewa inertia: 396.560485 \n",
            "Minibatch iteration 134/56000: mean batch inertia: 385.065508, ewa inertia: 396.519432 \n",
            "Minibatch iteration 135/56000: mean batch inertia: 363.182070, ewa inertia: 396.400372 \n",
            "Minibatch iteration 136/56000: mean batch inertia: 453.894102, ewa inertia: 396.605703 \n",
            "Minibatch iteration 137/56000: mean batch inertia: 315.935234, ewa inertia: 396.317600 \n",
            "Minibatch iteration 138/56000: mean batch inertia: 315.615391, ewa inertia: 396.029383 \n",
            "Minibatch iteration 139/56000: mean batch inertia: 368.366758, ewa inertia: 395.930589 \n",
            "Minibatch iteration 140/56000: mean batch inertia: 328.672539, ewa inertia: 395.690386 \n",
            "Minibatch iteration 141/56000: mean batch inertia: 472.855195, ewa inertia: 395.965970 \n",
            "Minibatch iteration 142/56000: mean batch inertia: 342.049922, ewa inertia: 395.773416 \n",
            "Minibatch iteration 143/56000: mean batch inertia: 401.598281, ewa inertia: 395.794219 \n",
            "Minibatch iteration 144/56000: mean batch inertia: 421.735898, ewa inertia: 395.886866 \n",
            "Minibatch iteration 145/56000: mean batch inertia: 431.639648, ewa inertia: 396.014552 \n",
            "Minibatch iteration 146/56000: mean batch inertia: 449.733984, ewa inertia: 396.206404 \n",
            "Minibatch iteration 147/56000: mean batch inertia: 437.036250, ewa inertia: 396.352222 \n",
            "Minibatch iteration 148/56000: mean batch inertia: 298.128262, ewa inertia: 396.001429 \n",
            "Minibatch iteration 149/56000: mean batch inertia: 424.560117, ewa inertia: 396.103422 \n",
            "Minibatch iteration 150/56000: mean batch inertia: 444.992031, ewa inertia: 396.278021 \n",
            "Converged (lack of improvement in inertia) at iteration 150/56000\n",
            "Computing label assignment and total inertia\n",
            "Loading model checkpoint experiments//AE_mnist_latent_dim3_h_dim500_h_nl3/-35875 ...\n",
            "\n",
            "INFO:tensorflow:Restoring parameters from experiments//AE_mnist_latent_dim3_h_dim500_h_nl3/-35875\n"
          ],
          "name": "stdout"
        },
        {
          "output_type": "stream",
          "text": [
            "\r  0%|          | 0/218 [00:00<?, ?it/s]"
          ],
          "name": "stderr"
        },
        {
          "output_type": "stream",
          "text": [
            "Model loaded\n",
            "EPOCHS trained:  40\n"
          ],
          "name": "stdout"
        },
        {
          "output_type": "stream",
          "text": [
            "219it [00:00, 777.05it/s]                         \n"
          ],
          "name": "stderr"
        },
        {
          "output_type": "stream",
          "text": [
            "Init 1/3 with method: k-means++\n",
            "Inertia for init 1/3: 138187.296875\n",
            "Init 2/3 with method: k-means++\n",
            "Inertia for init 2/3: 131782.250000\n",
            "Init 3/3 with method: k-means++\n",
            "Inertia for init 3/3: 131494.796875\n",
            "Minibatch iteration 1/14000: mean batch inertia: 459.801250, ewa inertia: 459.801250 \n",
            "Minibatch iteration 2/14000: mean batch inertia: 469.371445, ewa inertia: 459.937957 \n",
            "Minibatch iteration 3/14000: mean batch inertia: 353.720078, ewa inertia: 458.420667 \n",
            "Minibatch iteration 4/14000: mean batch inertia: 398.553359, ewa inertia: 457.565481 \n",
            "Minibatch iteration 5/14000: mean batch inertia: 465.451016, ewa inertia: 457.678124 \n",
            "Minibatch iteration 6/14000: mean batch inertia: 409.557148, ewa inertia: 456.990730 \n",
            "Minibatch iteration 7/14000: mean batch inertia: 431.983633, ewa inertia: 456.633512 \n",
            "Minibatch iteration 8/14000: mean batch inertia: 347.610898, ewa inertia: 455.076157 \n",
            "Minibatch iteration 9/14000: mean batch inertia: 342.728594, ewa inertia: 453.471306 \n",
            "Minibatch iteration 10/14000: mean batch inertia: 411.959844, ewa inertia: 452.878328 \n",
            "Minibatch iteration 11/14000: mean batch inertia: 358.620781, ewa inertia: 451.531888 \n",
            "Minibatch iteration 12/14000: mean batch inertia: 433.725820, ewa inertia: 451.277533 \n",
            "Minibatch iteration 13/14000: mean batch inertia: 523.650352, ewa inertia: 452.311357 \n",
            "Minibatch iteration 14/14000: mean batch inertia: 416.148008, ewa inertia: 451.794775 \n",
            "Minibatch iteration 15/14000: mean batch inertia: 380.340625, ewa inertia: 450.774074 \n",
            "Minibatch iteration 16/14000: mean batch inertia: 383.612695, ewa inertia: 449.814694 \n",
            "Minibatch iteration 17/14000: mean batch inertia: 411.171172, ewa inertia: 449.262683 \n",
            "Minibatch iteration 18/14000: mean batch inertia: 473.854062, ewa inertia: 449.613964 \n",
            "Minibatch iteration 19/14000: mean batch inertia: 370.158906, ewa inertia: 448.478972 \n",
            "Minibatch iteration 20/14000: mean batch inertia: 361.236953, ewa inertia: 447.232747 \n",
            "Minibatch iteration 21/14000: mean batch inertia: 375.636211, ewa inertia: 446.210012 \n",
            "Minibatch iteration 22/14000: mean batch inertia: 406.167539, ewa inertia: 445.638018 \n",
            "Minibatch iteration 23/14000: mean batch inertia: 355.768711, ewa inertia: 444.354262 \n",
            "Minibatch iteration 24/14000: mean batch inertia: 384.776055, ewa inertia: 443.503206 \n",
            "Minibatch iteration 25/14000: mean batch inertia: 390.618203, ewa inertia: 442.747760 \n",
            "Minibatch iteration 26/14000: mean batch inertia: 379.719336, ewa inertia: 441.847418 \n",
            "Minibatch iteration 27/14000: mean batch inertia: 450.262969, ewa inertia: 441.967632 \n",
            "Minibatch iteration 28/14000: mean batch inertia: 371.997227, ewa inertia: 440.968126 \n",
            "Minibatch iteration 29/14000: mean batch inertia: 330.035195, ewa inertia: 439.383483 \n",
            "Minibatch iteration 30/14000: mean batch inertia: 452.017266, ewa inertia: 439.563952 \n",
            "Minibatch iteration 31/14000: mean batch inertia: 386.049844, ewa inertia: 438.799520 \n",
            "Minibatch iteration 32/14000: mean batch inertia: 400.779219, ewa inertia: 438.256411 \n",
            "Minibatch iteration 33/14000: mean batch inertia: 408.999922, ewa inertia: 437.838491 \n",
            "Minibatch iteration 34/14000: mean batch inertia: 427.849375, ewa inertia: 437.695800 \n",
            "Minibatch iteration 35/14000: mean batch inertia: 329.830469, ewa inertia: 436.154977 \n",
            "Minibatch iteration 36/14000: mean batch inertia: 408.242969, ewa inertia: 435.756262 \n",
            "Minibatch iteration 37/14000: mean batch inertia: 375.517812, ewa inertia: 434.895774 \n",
            "Minibatch iteration 38/14000: mean batch inertia: 329.898750, ewa inertia: 433.395924 \n",
            "Minibatch iteration 39/14000: mean batch inertia: 399.011992, ewa inertia: 432.904760 \n",
            "Minibatch iteration 40/14000: mean batch inertia: 451.031914, ewa inertia: 433.163701 \n",
            "Minibatch iteration 41/14000: mean batch inertia: 402.916953, ewa inertia: 432.731635 \n",
            "Minibatch iteration 42/14000: mean batch inertia: 467.363516, ewa inertia: 433.226341 \n",
            "Minibatch iteration 43/14000: mean batch inertia: 336.125547, ewa inertia: 431.839286 \n",
            "Minibatch iteration 44/14000: mean batch inertia: 356.518125, ewa inertia: 430.763346 \n",
            "Minibatch iteration 45/14000: mean batch inertia: 384.926133, ewa inertia: 430.108576 \n",
            "Minibatch iteration 46/14000: mean batch inertia: 403.826094, ewa inertia: 429.733139 \n",
            "Minibatch iteration 47/14000: mean batch inertia: 467.231992, ewa inertia: 430.268798 \n",
            "Minibatch iteration 48/14000: mean batch inertia: 406.554922, ewa inertia: 429.930053 \n",
            "Minibatch iteration 49/14000: mean batch inertia: 338.205156, ewa inertia: 428.619791 \n",
            "Minibatch iteration 50/14000: mean batch inertia: 406.734414, ewa inertia: 428.307165 \n",
            "Minibatch iteration 51/14000: mean batch inertia: 406.337773, ewa inertia: 427.993339 \n",
            "Minibatch iteration 52/14000: mean batch inertia: 390.858516, ewa inertia: 427.462879 \n",
            "Minibatch iteration 53/14000: mean batch inertia: 447.529180, ewa inertia: 427.749520 \n",
            "Minibatch iteration 54/14000: mean batch inertia: 367.442344, ewa inertia: 426.888051 \n",
            "Minibatch iteration 55/14000: mean batch inertia: 387.780781, ewa inertia: 426.329415 \n",
            "Minibatch iteration 56/14000: mean batch inertia: 439.838164, ewa inertia: 426.522384 \n",
            "Minibatch iteration 57/14000: mean batch inertia: 375.572695, ewa inertia: 425.794583 \n",
            "Minibatch iteration 58/14000: mean batch inertia: 441.700312, ewa inertia: 426.021791 \n",
            "Minibatch iteration 59/14000: mean batch inertia: 430.669492, ewa inertia: 426.088182 \n",
            "Minibatch iteration 60/14000: mean batch inertia: 393.799453, ewa inertia: 425.626948 \n",
            "Minibatch iteration 61/14000: mean batch inertia: 395.670586, ewa inertia: 425.199030 \n",
            "Minibatch iteration 62/14000: mean batch inertia: 367.622500, ewa inertia: 424.376567 \n",
            "Minibatch iteration 63/14000: mean batch inertia: 430.581250, ewa inertia: 424.465199 \n",
            "Minibatch iteration 64/14000: mean batch inertia: 453.498008, ewa inertia: 424.879924 \n",
            "Minibatch iteration 65/14000: mean batch inertia: 388.988359, ewa inertia: 424.367224 \n",
            "Minibatch iteration 66/14000: mean batch inertia: 332.192305, ewa inertia: 423.050533 \n",
            "Minibatch iteration 67/14000: mean batch inertia: 368.275664, ewa inertia: 422.268091 \n",
            "Minibatch iteration 68/14000: mean batch inertia: 472.667227, ewa inertia: 422.988027 \n",
            "Minibatch iteration 69/14000: mean batch inertia: 380.409844, ewa inertia: 422.379811 \n",
            "Minibatch iteration 70/14000: mean batch inertia: 481.379219, ewa inertia: 423.222600 \n",
            "Minibatch iteration 71/14000: mean batch inertia: 410.034258, ewa inertia: 423.034208 \n",
            "Minibatch iteration 72/14000: mean batch inertia: 403.259258, ewa inertia: 422.751729 \n",
            "Minibatch iteration 73/14000: mean batch inertia: 408.508398, ewa inertia: 422.548267 \n",
            "Minibatch iteration 74/14000: mean batch inertia: 410.614453, ewa inertia: 422.377796 \n",
            "Minibatch iteration 75/14000: mean batch inertia: 450.930703, ewa inertia: 422.785666 \n",
            "Minibatch iteration 76/14000: mean batch inertia: 438.359922, ewa inertia: 423.008139 \n",
            "Minibatch iteration 77/14000: mean batch inertia: 338.859219, ewa inertia: 421.806098 \n",
            "Minibatch iteration 78/14000: mean batch inertia: 362.689375, ewa inertia: 420.961634 \n",
            "Minibatch iteration 79/14000: mean batch inertia: 419.830859, ewa inertia: 420.945481 \n",
            "Minibatch iteration 80/14000: mean batch inertia: 360.540977, ewa inertia: 420.082621 \n",
            "Minibatch iteration 81/14000: mean batch inertia: 407.396133, ewa inertia: 419.901398 \n",
            "Minibatch iteration 82/14000: mean batch inertia: 393.074609, ewa inertia: 419.518186 \n",
            "Minibatch iteration 83/14000: mean batch inertia: 353.419570, ewa inertia: 418.573987 \n",
            "Minibatch iteration 84/14000: mean batch inertia: 385.427188, ewa inertia: 418.100496 \n",
            "Minibatch iteration 85/14000: mean batch inertia: 380.109688, ewa inertia: 417.557808 \n",
            "Minibatch iteration 86/14000: mean batch inertia: 380.888242, ewa inertia: 417.033995 \n",
            "Minibatch iteration 87/14000: mean batch inertia: 400.482344, ewa inertia: 416.797560 \n",
            "Minibatch iteration 88/14000: mean batch inertia: 377.180625, ewa inertia: 416.231644 \n",
            "Minibatch iteration 89/14000: mean batch inertia: 326.115352, ewa inertia: 414.944360 \n",
            "Minibatch iteration 90/14000: mean batch inertia: 289.332012, ewa inertia: 413.150026 \n",
            "Minibatch iteration 91/14000: mean batch inertia: 352.035977, ewa inertia: 412.277031 \n",
            "Minibatch iteration 92/14000: mean batch inertia: 456.443281, ewa inertia: 412.907932 \n",
            "Minibatch iteration 93/14000: mean batch inertia: 344.015898, ewa inertia: 411.923831 \n",
            "Minibatch iteration 94/14000: mean batch inertia: 373.670781, ewa inertia: 411.377397 \n",
            "Minibatch iteration 95/14000: mean batch inertia: 457.514297, ewa inertia: 412.036449 \n",
            "Minibatch iteration 96/14000: mean batch inertia: 394.927383, ewa inertia: 411.792051 \n",
            "Minibatch iteration 97/14000: mean batch inertia: 397.980586, ewa inertia: 411.594759 \n",
            "Minibatch iteration 98/14000: mean batch inertia: 364.079141, ewa inertia: 410.916013 \n",
            "Minibatch iteration 99/14000: mean batch inertia: 441.389258, ewa inertia: 411.351314 \n",
            "Minibatch iteration 100/14000: mean batch inertia: 387.897930, ewa inertia: 411.016289 \n",
            "Minibatch iteration 101/14000: mean batch inertia: 407.854609, ewa inertia: 410.971125 \n",
            "Minibatch iteration 102/14000: mean batch inertia: 383.306055, ewa inertia: 410.575938 \n",
            "Minibatch iteration 103/14000: mean batch inertia: 361.777617, ewa inertia: 409.878869 \n",
            "Minibatch iteration 104/14000: mean batch inertia: 466.480820, ewa inertia: 410.687411 \n",
            "Minibatch iteration 105/14000: mean batch inertia: 431.149883, ewa inertia: 410.979711 \n",
            "Minibatch iteration 106/14000: mean batch inertia: 447.720391, ewa inertia: 411.504540 \n",
            "Minibatch iteration 107/14000: mean batch inertia: 366.808867, ewa inertia: 410.866076 \n",
            "Minibatch iteration 108/14000: mean batch inertia: 427.612539, ewa inertia: 411.105294 \n",
            "Minibatch iteration 109/14000: mean batch inertia: 350.974336, ewa inertia: 410.246342 \n",
            "Minibatch iteration 110/14000: mean batch inertia: 411.604922, ewa inertia: 410.265749 \n",
            "Minibatch iteration 111/14000: mean batch inertia: 423.712500, ewa inertia: 410.457832 \n",
            "Minibatch iteration 112/14000: mean batch inertia: 389.436992, ewa inertia: 410.157555 \n",
            "Minibatch iteration 113/14000: mean batch inertia: 495.744922, ewa inertia: 411.380145 \n",
            "Converged (lack of improvement in inertia) at iteration 113/14000\n",
            "Computing label assignment and total inertia\n",
            "TRAIN | kmeans Clustering Acc:  0.09867857142857143\n",
            "VALID | kmeans Clustering Acc:  0.03957142857142857\n",
            "Loading model checkpoint experiments//AE_mnist_latent_dim3_h_dim500_h_nl3/-35875 ...\n",
            "\n",
            "INFO:tensorflow:Restoring parameters from experiments//AE_mnist_latent_dim3_h_dim500_h_nl3/-35875\n",
            "Model loaded\n",
            "EPOCHS trained:  "
          ],
          "name": "stdout"
        },
        {
          "output_type": "stream",
          "text": [
            "  7%|▋         | 58/875 [00:00<00:01, 579.37it/s]"
          ],
          "name": "stderr"
        },
        {
          "output_type": "stream",
          "text": [
            "40\n"
          ],
          "name": "stdout"
        },
        {
          "output_type": "stream",
          "text": [
            "100%|██████████| 875/875 [00:01<00:00, 848.29it/s]\n"
          ],
          "name": "stderr"
        },
        {
          "output_type": "stream",
          "text": [
            "Loading model checkpoint experiments//AE_mnist_latent_dim3_h_dim500_h_nl3/-35875 ...\n",
            "\n",
            "INFO:tensorflow:Restoring parameters from experiments//AE_mnist_latent_dim3_h_dim500_h_nl3/-35875\n"
          ],
          "name": "stdout"
        },
        {
          "output_type": "stream",
          "text": [
            "\r  0%|          | 0/218 [00:00<?, ?it/s]"
          ],
          "name": "stderr"
        },
        {
          "output_type": "stream",
          "text": [
            "Model loaded\n",
            "EPOCHS trained:  40\n"
          ],
          "name": "stdout"
        },
        {
          "output_type": "stream",
          "text": [
            "219it [00:00, 762.62it/s]                         \n"
          ],
          "name": "stderr"
        },
        {
          "output_type": "stream",
          "text": [
            "TRAIN | hdbscan Clustering Acc:  0.00175\n",
            "VALID | hdbscan Clustering Acc:  0.002142857142857143"
          ],
          "name": "stdout"
        },
        {
          "output_type": "stream",
          "text": [
            "  0%|          | 1/875 [00:00<02:33,  5.70it/s]"
          ],
          "name": "stderr"
        },
        {
          "output_type": "stream",
          "text": [
            "\n",
            "EPOCH:  41\n"
          ],
          "name": "stdout"
        },
        {
          "output_type": "stream",
          "text": [
            "100%|██████████| 875/875 [00:02<00:00, 294.06it/s]\n",
            "100%|██████████| 218/218 [00:00<00:00, 514.59it/s]\n",
            "  0%|          | 1/875 [00:00<02:31,  5.77it/s]"
          ],
          "name": "stderr"
        },
        {
          "output_type": "stream",
          "text": [
            "TRAIN | AE Loss:  357.37936  | Recons:  357.374  | L2_loss:  5346.0024\n",
            "VALID | AE Loss:  370.33688  | Recons:  370.33148\n",
            "total loss Patience count:  1\n",
            "EPOCH:  42\n"
          ],
          "name": "stdout"
        },
        {
          "output_type": "stream",
          "text": [
            "100%|██████████| 875/875 [00:02<00:00, 299.21it/s]\n",
            "100%|██████████| 218/218 [00:00<00:00, 471.98it/s]\n",
            "  0%|          | 0/875 [00:00<?, ?it/s]"
          ],
          "name": "stderr"
        },
        {
          "output_type": "stream",
          "text": [
            "TRAIN | AE Loss:  356.90335  | Recons:  356.89795  | L2_loss:  5392.191\n",
            "VALID | AE Loss:  369.93338  | Recons:  369.92798\n",
            "EPOCH:  43\n"
          ],
          "name": "stdout"
        },
        {
          "output_type": "stream",
          "text": [
            "100%|██████████| 875/875 [00:02<00:00, 294.74it/s]\n",
            "100%|██████████| 218/218 [00:00<00:00, 534.51it/s]\n",
            "  0%|          | 1/875 [00:00<02:32,  5.72it/s]"
          ],
          "name": "stderr"
        },
        {
          "output_type": "stream",
          "text": [
            "TRAIN | AE Loss:  356.34778  | Recons:  356.34235  | L2_loss:  5437.7866\n",
            "VALID | AE Loss:  369.71158  | Recons:  369.70615\n",
            "EPOCH:  44\n"
          ],
          "name": "stdout"
        },
        {
          "output_type": "stream",
          "text": [
            "100%|██████████| 875/875 [00:02<00:00, 299.34it/s]\n",
            "100%|██████████| 218/218 [00:00<00:00, 493.13it/s]\n",
            "  0%|          | 1/875 [00:00<02:30,  5.82it/s]"
          ],
          "name": "stderr"
        },
        {
          "output_type": "stream",
          "text": [
            "TRAIN | AE Loss:  355.877  | Recons:  355.87158  | L2_loss:  5482.9326\n",
            "VALID | AE Loss:  369.6407  | Recons:  369.6352\n",
            "EPOCH:  45\n"
          ],
          "name": "stdout"
        },
        {
          "output_type": "stream",
          "text": [
            "100%|██████████| 875/875 [00:02<00:00, 296.56it/s]\n",
            "100%|██████████| 218/218 [00:00<00:00, 528.71it/s]\n",
            "  0%|          | 1/875 [00:00<02:33,  5.70it/s]"
          ],
          "name": "stderr"
        },
        {
          "output_type": "stream",
          "text": [
            "TRAIN | AE Loss:  355.38428  | Recons:  355.37878  | L2_loss:  5527.5747\n",
            "VALID | AE Loss:  369.57675  | Recons:  369.57117\n",
            "EPOCH:  46\n"
          ],
          "name": "stdout"
        },
        {
          "output_type": "stream",
          "text": [
            "100%|██████████| 875/875 [00:02<00:00, 299.04it/s]\n",
            "100%|██████████| 218/218 [00:00<00:00, 538.63it/s]\n",
            "  0%|          | 1/875 [00:00<02:30,  5.80it/s]"
          ],
          "name": "stderr"
        },
        {
          "output_type": "stream",
          "text": [
            "TRAIN | AE Loss:  355.01  | Recons:  355.00443  | L2_loss:  5572.667\n",
            "VALID | AE Loss:  369.43585  | Recons:  369.43027\n",
            "EPOCH:  47\n"
          ],
          "name": "stdout"
        },
        {
          "output_type": "stream",
          "text": [
            "100%|██████████| 875/875 [00:02<00:00, 298.70it/s]\n",
            "100%|██████████| 218/218 [00:00<00:00, 520.83it/s]\n",
            "  0%|          | 1/875 [00:00<02:44,  5.32it/s]"
          ],
          "name": "stderr"
        },
        {
          "output_type": "stream",
          "text": [
            "TRAIN | AE Loss:  354.53427  | Recons:  354.5287  | L2_loss:  5616.5293\n",
            "VALID | AE Loss:  369.14743  | Recons:  369.14185\n",
            "EPOCH:  48\n"
          ],
          "name": "stdout"
        },
        {
          "output_type": "stream",
          "text": [
            "100%|██████████| 875/875 [00:02<00:00, 299.07it/s]\n",
            "100%|██████████| 218/218 [00:00<00:00, 521.10it/s]\n",
            "  0%|          | 1/875 [00:00<02:28,  5.87it/s]"
          ],
          "name": "stderr"
        },
        {
          "output_type": "stream",
          "text": [
            "TRAIN | AE Loss:  354.18726  | Recons:  354.18158  | L2_loss:  5660.4844\n",
            "VALID | AE Loss:  369.12418  | Recons:  369.11856\n",
            "EPOCH:  49\n"
          ],
          "name": "stdout"
        },
        {
          "output_type": "stream",
          "text": [
            "100%|██████████| 875/875 [00:02<00:00, 317.20it/s]\n",
            "100%|██████████| 218/218 [00:00<00:00, 514.18it/s]\n",
            "  0%|          | 1/875 [00:00<02:29,  5.84it/s]"
          ],
          "name": "stderr"
        },
        {
          "output_type": "stream",
          "text": [
            "TRAIN | AE Loss:  353.75  | Recons:  353.7443  | L2_loss:  5703.0986\n",
            "VALID | AE Loss:  369.28513  | Recons:  369.2794\n",
            "total loss Patience count:  1\n",
            "EPOCH:  50\n"
          ],
          "name": "stdout"
        },
        {
          "output_type": "stream",
          "text": [
            "100%|██████████| 875/875 [00:02<00:00, 298.79it/s]\n",
            "100%|██████████| 218/218 [00:00<00:00, 535.27it/s]\n"
          ],
          "name": "stderr"
        },
        {
          "output_type": "stream",
          "text": [
            "TRAIN | AE Loss:  353.38672  | Recons:  353.38095  | L2_loss:  5745.226\n",
            "VALID | AE Loss:  368.68237  | Recons:  368.6766\n",
            "zip experiments AE_mnist_latent_dim3_h_dim500_h_nl3.zip ...\n",
            "uploading to google drive ...\n"
          ],
          "name": "stdout"
        },
        {
          "output_type": "stream",
          "text": [
            "  0%|          | 1/875 [00:00<02:38,  5.50it/s]"
          ],
          "name": "stderr"
        },
        {
          "output_type": "stream",
          "text": [
            "File ID: 1CPLRO_bo3ItWWHI_lCEenGYVCmAne6EP\n",
            "EPOCH:  51\n"
          ],
          "name": "stdout"
        },
        {
          "output_type": "stream",
          "text": [
            "100%|██████████| 875/875 [00:03<00:00, 282.70it/s]\n",
            "100%|██████████| 218/218 [00:00<00:00, 502.74it/s]\n",
            "  0%|          | 1/875 [00:00<02:32,  5.74it/s]"
          ],
          "name": "stderr"
        },
        {
          "output_type": "stream",
          "text": [
            "TRAIN | AE Loss:  352.93207  | Recons:  352.9263  | L2_loss:  5787.1167\n",
            "VALID | AE Loss:  368.68585  | Recons:  368.68005\n",
            "total loss Patience count:  1\n",
            "EPOCH:  52\n"
          ],
          "name": "stdout"
        },
        {
          "output_type": "stream",
          "text": [
            "100%|██████████| 875/875 [00:03<00:00, 289.73it/s]\n",
            "100%|██████████| 218/218 [00:00<00:00, 511.28it/s]\n",
            "  0%|          | 1/875 [00:00<02:31,  5.77it/s]"
          ],
          "name": "stderr"
        },
        {
          "output_type": "stream",
          "text": [
            "TRAIN | AE Loss:  352.57196  | Recons:  352.56613  | L2_loss:  5829.2686\n",
            "VALID | AE Loss:  368.5541  | Recons:  368.54825\n",
            "EPOCH:  53\n"
          ],
          "name": "stdout"
        },
        {
          "output_type": "stream",
          "text": [
            "100%|██████████| 875/875 [00:02<00:00, 300.07it/s]\n",
            "100%|██████████| 218/218 [00:00<00:00, 538.86it/s]\n",
            "  0%|          | 1/875 [00:00<02:43,  5.33it/s]"
          ],
          "name": "stderr"
        },
        {
          "output_type": "stream",
          "text": [
            "TRAIN | AE Loss:  352.1231  | Recons:  352.11722  | L2_loss:  5870.4673\n",
            "VALID | AE Loss:  368.4611  | Recons:  368.4552\n",
            "EPOCH:  54\n"
          ],
          "name": "stdout"
        },
        {
          "output_type": "stream",
          "text": [
            "100%|██████████| 875/875 [00:02<00:00, 296.59it/s]\n",
            "100%|██████████| 218/218 [00:00<00:00, 528.18it/s]\n",
            "  0%|          | 1/875 [00:00<02:30,  5.80it/s]"
          ],
          "name": "stderr"
        },
        {
          "output_type": "stream",
          "text": [
            "TRAIN | AE Loss:  351.81464  | Recons:  351.80872  | L2_loss:  5911.329\n",
            "VALID | AE Loss:  368.25095  | Recons:  368.24493\n",
            "EPOCH:  55\n"
          ],
          "name": "stdout"
        },
        {
          "output_type": "stream",
          "text": [
            "100%|██████████| 875/875 [00:02<00:00, 300.13it/s]\n",
            "100%|██████████| 218/218 [00:00<00:00, 536.70it/s]\n",
            "  0%|          | 1/875 [00:00<02:32,  5.74it/s]"
          ],
          "name": "stderr"
        },
        {
          "output_type": "stream",
          "text": [
            "TRAIN | AE Loss:  351.58017  | Recons:  351.57422  | L2_loss:  5951.856\n",
            "VALID | AE Loss:  368.32202  | Recons:  368.31604\n",
            "total loss Patience count:  1\n",
            "EPOCH:  56\n"
          ],
          "name": "stdout"
        },
        {
          "output_type": "stream",
          "text": [
            "100%|██████████| 875/875 [00:02<00:00, 298.73it/s]\n",
            "100%|██████████| 218/218 [00:00<00:00, 536.01it/s]\n",
            "  0%|          | 1/875 [00:00<02:28,  5.89it/s]"
          ],
          "name": "stderr"
        },
        {
          "output_type": "stream",
          "text": [
            "TRAIN | AE Loss:  351.22894  | Recons:  351.22293  | L2_loss:  5992.4204\n",
            "VALID | AE Loss:  367.98413  | Recons:  367.97815\n",
            "EPOCH:  57\n"
          ],
          "name": "stdout"
        },
        {
          "output_type": "stream",
          "text": [
            "100%|██████████| 875/875 [00:02<00:00, 300.85it/s]\n",
            "100%|██████████| 218/218 [00:00<00:00, 538.24it/s]\n",
            "  0%|          | 1/875 [00:00<02:36,  5.59it/s]"
          ],
          "name": "stderr"
        },
        {
          "output_type": "stream",
          "text": [
            "TRAIN | AE Loss:  350.86636  | Recons:  350.8603  | L2_loss:  6032.575\n",
            "VALID | AE Loss:  367.8898  | Recons:  367.88376\n",
            "EPOCH:  58\n"
          ],
          "name": "stdout"
        },
        {
          "output_type": "stream",
          "text": [
            "100%|██████████| 875/875 [00:02<00:00, 299.60it/s]\n",
            "100%|██████████| 218/218 [00:00<00:00, 523.17it/s]\n",
            "  0%|          | 1/875 [00:00<02:27,  5.94it/s]"
          ],
          "name": "stderr"
        },
        {
          "output_type": "stream",
          "text": [
            "TRAIN | AE Loss:  350.5525  | Recons:  350.54642  | L2_loss:  6072.0938\n",
            "VALID | AE Loss:  368.14056  | Recons:  368.13446\n",
            "total loss Patience count:  1\n",
            "EPOCH:  59\n"
          ],
          "name": "stdout"
        },
        {
          "output_type": "stream",
          "text": [
            "100%|██████████| 875/875 [00:02<00:00, 301.03it/s]\n",
            "100%|██████████| 218/218 [00:00<00:00, 523.03it/s]\n",
            "  0%|          | 0/875 [00:00<?, ?it/s]"
          ],
          "name": "stderr"
        },
        {
          "output_type": "stream",
          "text": [
            "TRAIN | AE Loss:  350.2874  | Recons:  350.2813  | L2_loss:  6112.4136\n",
            "VALID | AE Loss:  367.80118  | Recons:  367.79504\n",
            "EPOCH:  60\n"
          ],
          "name": "stdout"
        },
        {
          "output_type": "stream",
          "text": [
            "100%|██████████| 875/875 [00:03<00:00, 289.71it/s]\n",
            "100%|██████████| 218/218 [00:00<00:00, 540.48it/s]\n"
          ],
          "name": "stderr"
        },
        {
          "output_type": "stream",
          "text": [
            "TRAIN | AE Loss:  349.91678  | Recons:  349.91064  | L2_loss:  6151.92\n",
            "VALID | AE Loss:  367.84705  | Recons:  367.84088\n",
            "Saving model...\n",
            "Model saved\n",
            "Generating W space ...\n",
            "Loading model checkpoint experiments//AE_mnist_latent_dim3_h_dim500_h_nl3/-53375 ...\n",
            "\n",
            "INFO:tensorflow:Restoring parameters from experiments//AE_mnist_latent_dim3_h_dim500_h_nl3/-53375\n"
          ],
          "name": "stdout"
        },
        {
          "output_type": "stream",
          "text": [
            "\r  0%|          | 0/875 [00:00<?, ?it/s]"
          ],
          "name": "stderr"
        },
        {
          "output_type": "stream",
          "text": [
            "Model loaded\n",
            "EPOCHS trained:  60\n"
          ],
          "name": "stdout"
        },
        {
          "output_type": "stream",
          "text": [
            "100%|██████████| 875/875 [00:00<00:00, 1002.39it/s]\n"
          ],
          "name": "stderr"
        },
        {
          "output_type": "stream",
          "text": [
            "W space dimensions: (56000, 2)\n",
            "Ploting W space ...\n"
          ],
          "name": "stdout"
        },
        {
          "output_type": "stream",
          "text": [
            "  1%|          | 429/56000 [00:00<00:12, 4284.38it/s]"
          ],
          "name": "stderr"
        },
        {
          "output_type": "stream",
          "text": [
            "data size (56000, 2)\n"
          ],
          "name": "stdout"
        },
        {
          "output_type": "stream",
          "text": [
            "100%|██████████| 56000/56000 [00:17<00:00, 3264.78it/s]\n"
          ],
          "name": "stderr"
        },
        {
          "output_type": "stream",
          "text": [
            "Saving Image experiments//AE_mnist_latent_dim3_h_dim500_h_nl3/AE_mnist_latent_dim3_h_dim500_h_nl3 W space in epoch 60.jpg ...\n",
            "W space dimensions: (56000, 3)\n",
            "Ploting W space ...\n"
          ],
          "name": "stdout"
        },
        {
          "output_type": "stream",
          "text": [
            "100%|██████████| 10/10 [00:00<00:00, 62.10it/s]"
          ],
          "name": "stderr"
        },
        {
          "output_type": "stream",
          "text": [
            "data size (56000, 3)\n",
            "Saving Image experiments//AE_mnist_latent_dim3_h_dim500_h_nl3/AE_mnist_latent_dim3_h_dim500_h_nl3 W space 3d in epoch 60.jpg ...\n"
          ],
          "name": "stdout"
        },
        {
          "output_type": "stream",
          "text": [
            "\n"
          ],
          "name": "stderr"
        },
        {
          "output_type": "stream",
          "text": [
            "Generating Samples ...\n",
            "Loading model checkpoint experiments//AE_mnist_latent_dim3_h_dim500_h_nl3/-53375 ...\n",
            "\n",
            "INFO:tensorflow:Restoring parameters from experiments//AE_mnist_latent_dim3_h_dim500_h_nl3/-53375\n",
            "Model loaded\n"
          ],
          "name": "stdout"
        },
        {
          "output_type": "stream",
          "text": [
            "2it [00:00, 58.75it/s]               "
          ],
          "name": "stderr"
        },
        {
          "output_type": "stream",
          "text": [
            "EPOCHS trained:  60\n",
            "Loading model checkpoint experiments//AE_mnist_latent_dim3_h_dim500_h_nl3/-53375 ...\n",
            "\n",
            "INFO:tensorflow:Restoring parameters from experiments//AE_mnist_latent_dim3_h_dim500_h_nl3/-53375\n"
          ],
          "name": "stdout"
        },
        {
          "output_type": "stream",
          "text": [
            "\n",
            "2it [00:00, 73.99it/s]               "
          ],
          "name": "stderr"
        },
        {
          "output_type": "stream",
          "text": [
            "Model loaded\n",
            "EPOCHS trained:  60\n"
          ],
          "name": "stdout"
        },
        {
          "output_type": "stream",
          "text": [
            "\n"
          ],
          "name": "stderr"
        },
        {
          "output_type": "stream",
          "text": [
            "Saving Image  experiments//AE_mnist_latent_dim3_h_dim500_h_nl3/AE_mnist_latent_dim3_h_dim500_h_nl3 samples generation in epoch 60.jpg\n",
            "Generating W space ...\n",
            "Loading model checkpoint experiments//AE_mnist_latent_dim3_h_dim500_h_nl3/-53375 ...\n",
            "\n",
            "INFO:tensorflow:Restoring parameters from experiments//AE_mnist_latent_dim3_h_dim500_h_nl3/-53375\n",
            "Model loaded\n"
          ],
          "name": "stdout"
        },
        {
          "output_type": "stream",
          "text": [
            "  7%|▋         | 61/875 [00:00<00:01, 607.60it/s]"
          ],
          "name": "stderr"
        },
        {
          "output_type": "stream",
          "text": [
            "EPOCHS trained:  60\n"
          ],
          "name": "stdout"
        },
        {
          "output_type": "stream",
          "text": [
            "100%|██████████| 875/875 [00:01<00:00, 843.53it/s]\n"
          ],
          "name": "stderr"
        },
        {
          "output_type": "stream",
          "text": [
            "Init 1/3 with method: k-means++\n",
            "Inertia for init 1/3: 110956.203125\n",
            "Init 2/3 with method: k-means++\n",
            "Inertia for init 2/3: 108850.890625\n",
            "Init 3/3 with method: k-means++\n",
            "Inertia for init 3/3: 105445.765625\n",
            "Minibatch iteration 1/56000: mean batch inertia: 377.384648, ewa inertia: 377.384648 \n",
            "Minibatch iteration 2/56000: mean batch inertia: 403.642852, ewa inertia: 377.478426 \n",
            "Minibatch iteration 3/56000: mean batch inertia: 316.355273, ewa inertia: 377.260133 \n",
            "Minibatch iteration 4/56000: mean batch inertia: 430.635156, ewa inertia: 377.450755 \n",
            "Minibatch iteration 5/56000: mean batch inertia: 346.930781, ewa inertia: 377.341757 \n",
            "Minibatch iteration 6/56000: mean batch inertia: 354.070664, ewa inertia: 377.258647 \n",
            "Minibatch iteration 7/56000: mean batch inertia: 390.123047, ewa inertia: 377.304591 \n",
            "Minibatch iteration 8/56000: mean batch inertia: 325.780430, ewa inertia: 377.120579 \n",
            "Minibatch iteration 9/56000: mean batch inertia: 316.096914, ewa inertia: 376.902641 \n",
            "Minibatch iteration 10/56000: mean batch inertia: 428.604727, ewa inertia: 377.087288 \n",
            "Minibatch iteration 11/56000: mean batch inertia: 365.324883, ewa inertia: 377.045280 \n",
            "Minibatch iteration 12/56000: mean batch inertia: 404.952305, ewa inertia: 377.144947 \n",
            "Minibatch iteration 13/56000: mean batch inertia: 320.766875, ewa inertia: 376.943600 \n",
            "Minibatch iteration 14/56000: mean batch inertia: 344.173047, ewa inertia: 376.826564 \n",
            "Minibatch iteration 15/56000: mean batch inertia: 327.524570, ewa inertia: 376.650489 \n",
            "Minibatch iteration 16/56000: mean batch inertia: 321.627773, ewa inertia: 376.453983 \n",
            "Minibatch iteration 17/56000: mean batch inertia: 329.899180, ewa inertia: 376.287719 \n",
            "Minibatch iteration 18/56000: mean batch inertia: 334.963477, ewa inertia: 376.140135 \n",
            "Minibatch iteration 19/56000: mean batch inertia: 348.323711, ewa inertia: 376.040792 \n",
            "Minibatch iteration 20/56000: mean batch inertia: 406.046523, ewa inertia: 376.147953 \n",
            "Minibatch iteration 21/56000: mean batch inertia: 301.836465, ewa inertia: 375.882560 \n",
            "Minibatch iteration 22/56000: mean batch inertia: 318.102891, ewa inertia: 375.676208 \n",
            "Minibatch iteration 23/56000: mean batch inertia: 313.381426, ewa inertia: 375.453730 \n",
            "Minibatch iteration 24/56000: mean batch inertia: 304.240469, ewa inertia: 375.199402 \n",
            "Minibatch iteration 25/56000: mean batch inertia: 404.178750, ewa inertia: 375.302898 \n",
            "Minibatch iteration 26/56000: mean batch inertia: 306.857129, ewa inertia: 375.058453 \n",
            "Minibatch iteration 27/56000: mean batch inertia: 329.320703, ewa inertia: 374.895107 \n",
            "Minibatch iteration 28/56000: mean batch inertia: 369.902891, ewa inertia: 374.877278 \n",
            "Minibatch iteration 29/56000: mean batch inertia: 323.724297, ewa inertia: 374.694592 \n",
            "Minibatch iteration 30/56000: mean batch inertia: 308.572109, ewa inertia: 374.458444 \n",
            "Minibatch iteration 31/56000: mean batch inertia: 340.928789, ewa inertia: 374.338698 \n",
            "Minibatch iteration 32/56000: mean batch inertia: 449.697461, ewa inertia: 374.607831 \n",
            "Minibatch iteration 33/56000: mean batch inertia: 340.857148, ewa inertia: 374.487295 \n",
            "Minibatch iteration 34/56000: mean batch inertia: 318.356367, ewa inertia: 374.286831 \n",
            "Minibatch iteration 35/56000: mean batch inertia: 298.900840, ewa inertia: 374.017600 \n",
            "Minibatch iteration 36/56000: mean batch inertia: 340.056719, ewa inertia: 373.896314 \n",
            "Minibatch iteration 37/56000: mean batch inertia: 473.154570, ewa inertia: 374.250801 \n",
            "Minibatch iteration 38/56000: mean batch inertia: 349.151914, ewa inertia: 374.161164 \n",
            "Minibatch iteration 39/56000: mean batch inertia: 329.615430, ewa inertia: 374.002075 \n",
            "Minibatch iteration 40/56000: mean batch inertia: 343.448398, ewa inertia: 373.892956 \n",
            "Minibatch iteration 41/56000: mean batch inertia: 355.430234, ewa inertia: 373.827019 \n",
            "Minibatch iteration 42/56000: mean batch inertia: 373.919062, ewa inertia: 373.827348 \n",
            "Minibatch iteration 43/56000: mean batch inertia: 319.097773, ewa inertia: 373.631889 \n",
            "Minibatch iteration 44/56000: mean batch inertia: 301.432031, ewa inertia: 373.374037 \n",
            "Minibatch iteration 45/56000: mean batch inertia: 347.567773, ewa inertia: 373.281873 \n",
            "Minibatch iteration 46/56000: mean batch inertia: 352.385039, ewa inertia: 373.207243 \n",
            "Minibatch iteration 47/56000: mean batch inertia: 368.199805, ewa inertia: 373.189359 \n",
            "Minibatch iteration 48/56000: mean batch inertia: 354.648008, ewa inertia: 373.123142 \n",
            "Minibatch iteration 49/56000: mean batch inertia: 321.834707, ewa inertia: 372.939972 \n",
            "Minibatch iteration 50/56000: mean batch inertia: 344.660703, ewa inertia: 372.838976 \n",
            "Minibatch iteration 51/56000: mean batch inertia: 410.219141, ewa inertia: 372.972474 \n",
            "Minibatch iteration 52/56000: mean batch inertia: 318.650820, ewa inertia: 372.778472 \n",
            "Minibatch iteration 53/56000: mean batch inertia: 357.410742, ewa inertia: 372.723588 \n",
            "Minibatch iteration 54/56000: mean batch inertia: 311.070703, ewa inertia: 372.503403 \n",
            "Minibatch iteration 55/56000: mean batch inertia: 350.900469, ewa inertia: 372.426251 \n",
            "Minibatch iteration 56/56000: mean batch inertia: 376.025586, ewa inertia: 372.439106 \n",
            "Minibatch iteration 57/56000: mean batch inertia: 378.925820, ewa inertia: 372.462272 \n",
            "Minibatch iteration 58/56000: mean batch inertia: 298.622637, ewa inertia: 372.198564 \n",
            "Minibatch iteration 59/56000: mean batch inertia: 368.520664, ewa inertia: 372.185429 \n",
            "Minibatch iteration 60/56000: mean batch inertia: 369.079023, ewa inertia: 372.174335 \n",
            "Minibatch iteration 61/56000: mean batch inertia: 342.096211, ewa inertia: 372.066915 \n",
            "Minibatch iteration 62/56000: mean batch inertia: 357.686172, ewa inertia: 372.015556 \n",
            "Minibatch iteration 63/56000: mean batch inertia: 418.049414, ewa inertia: 372.179960 \n",
            "Minibatch iteration 64/56000: mean batch inertia: 284.428828, ewa inertia: 371.866568 \n",
            "Minibatch iteration 65/56000: mean batch inertia: 374.483437, ewa inertia: 371.875914 \n",
            "Minibatch iteration 66/56000: mean batch inertia: 315.864316, ewa inertia: 371.675876 \n",
            "Minibatch iteration 67/56000: mean batch inertia: 380.211328, ewa inertia: 371.706359 \n",
            "Minibatch iteration 68/56000: mean batch inertia: 337.228008, ewa inertia: 371.583225 \n",
            "Minibatch iteration 69/56000: mean batch inertia: 329.453320, ewa inertia: 371.432763 \n",
            "Minibatch iteration 70/56000: mean batch inertia: 375.466758, ewa inertia: 371.447170 \n",
            "Minibatch iteration 71/56000: mean batch inertia: 412.338750, ewa inertia: 371.593209 \n",
            "Minibatch iteration 72/56000: mean batch inertia: 432.499727, ewa inertia: 371.810728 \n",
            "Minibatch iteration 73/56000: mean batch inertia: 365.700625, ewa inertia: 371.788907 \n",
            "Minibatch iteration 74/56000: mean batch inertia: 332.160352, ewa inertia: 371.647379 \n",
            "Minibatch iteration 75/56000: mean batch inertia: 359.848281, ewa inertia: 371.605240 \n",
            "Minibatch iteration 76/56000: mean batch inertia: 314.056855, ewa inertia: 371.399714 \n",
            "Minibatch iteration 77/56000: mean batch inertia: 364.492539, ewa inertia: 371.375046 \n",
            "Minibatch iteration 78/56000: mean batch inertia: 328.520352, ewa inertia: 371.221996 \n",
            "Minibatch iteration 79/56000: mean batch inertia: 369.909766, ewa inertia: 371.217310 \n",
            "Minibatch iteration 80/56000: mean batch inertia: 339.668008, ewa inertia: 371.104636 \n",
            "Minibatch iteration 81/56000: mean batch inertia: 302.877285, ewa inertia: 370.860971 \n",
            "Minibatch iteration 82/56000: mean batch inertia: 403.868594, ewa inertia: 370.978853 \n",
            "Minibatch iteration 83/56000: mean batch inertia: 364.566367, ewa inertia: 370.955952 \n",
            "Minibatch iteration 84/56000: mean batch inertia: 390.926797, ewa inertia: 371.027275 \n",
            "Minibatch iteration 85/56000: mean batch inertia: 333.901289, ewa inertia: 370.894684 \n",
            "Minibatch iteration 86/56000: mean batch inertia: 358.884297, ewa inertia: 370.851791 \n",
            "Minibatch iteration 87/56000: mean batch inertia: 320.634023, ewa inertia: 370.672445 \n",
            "Minibatch iteration 88/56000: mean batch inertia: 326.120039, ewa inertia: 370.513332 \n",
            "Minibatch iteration 89/56000: mean batch inertia: 308.965215, ewa inertia: 370.293521 \n",
            "Minibatch iteration 90/56000: mean batch inertia: 353.667188, ewa inertia: 370.234143 \n",
            "Minibatch iteration 91/56000: mean batch inertia: 354.092617, ewa inertia: 370.176495 \n",
            "Minibatch iteration 92/56000: mean batch inertia: 337.341445, ewa inertia: 370.059229 \n",
            "Minibatch iteration 93/56000: mean batch inertia: 328.001602, ewa inertia: 369.909026 \n",
            "Minibatch iteration 94/56000: mean batch inertia: 293.902812, ewa inertia: 369.637580 \n",
            "Minibatch iteration 95/56000: mean batch inertia: 310.236133, ewa inertia: 369.425436 \n",
            "Minibatch iteration 96/56000: mean batch inertia: 370.519766, ewa inertia: 369.429344 \n",
            "Minibatch iteration 97/56000: mean batch inertia: 329.972461, ewa inertia: 369.288429 \n",
            "Minibatch iteration 98/56000: mean batch inertia: 372.979648, ewa inertia: 369.301612 \n",
            "Minibatch iteration 99/56000: mean batch inertia: 345.653945, ewa inertia: 369.217158 \n",
            "Minibatch iteration 100/56000: mean batch inertia: 397.073359, ewa inertia: 369.316642 \n",
            "Minibatch iteration 101/56000: mean batch inertia: 326.947168, ewa inertia: 369.165326 \n",
            "Minibatch iteration 102/56000: mean batch inertia: 345.447578, ewa inertia: 369.080621 \n",
            "Minibatch iteration 103/56000: mean batch inertia: 345.266328, ewa inertia: 368.995571 \n",
            "Minibatch iteration 104/56000: mean batch inertia: 317.650605, ewa inertia: 368.812200 \n",
            "Minibatch iteration 105/56000: mean batch inertia: 381.522812, ewa inertia: 368.857594 \n",
            "Minibatch iteration 106/56000: mean batch inertia: 354.024883, ewa inertia: 368.804621 \n",
            "Minibatch iteration 107/56000: mean batch inertia: 345.818203, ewa inertia: 368.722528 \n",
            "Minibatch iteration 108/56000: mean batch inertia: 326.422109, ewa inertia: 368.571458 \n",
            "Minibatch iteration 109/56000: mean batch inertia: 316.964336, ewa inertia: 368.387150 \n",
            "Minibatch iteration 110/56000: mean batch inertia: 320.904512, ewa inertia: 368.217572 \n",
            "Minibatch iteration 111/56000: mean batch inertia: 344.534336, ewa inertia: 368.132991 \n",
            "Minibatch iteration 112/56000: mean batch inertia: 343.570898, ewa inertia: 368.045270 \n",
            "Minibatch iteration 113/56000: mean batch inertia: 316.663320, ewa inertia: 367.861767 \n",
            "Minibatch iteration 114/56000: mean batch inertia: 338.263008, ewa inertia: 367.756059 \n",
            "Minibatch iteration 115/56000: mean batch inertia: 307.264473, ewa inertia: 367.540021 \n",
            "Minibatch iteration 116/56000: mean batch inertia: 340.520586, ewa inertia: 367.443525 \n",
            "Minibatch iteration 117/56000: mean batch inertia: 377.414414, ewa inertia: 367.479135 \n",
            "Minibatch iteration 118/56000: mean batch inertia: 348.443633, ewa inertia: 367.411152 \n",
            "Minibatch iteration 119/56000: mean batch inertia: 275.688398, ewa inertia: 367.083577 \n",
            "Minibatch iteration 120/56000: mean batch inertia: 383.959570, ewa inertia: 367.143847 \n",
            "Minibatch iteration 121/56000: mean batch inertia: 335.786094, ewa inertia: 367.031857 \n",
            "Minibatch iteration 122/56000: mean batch inertia: 407.880898, ewa inertia: 367.177744 \n",
            "Minibatch iteration 123/56000: mean batch inertia: 422.074023, ewa inertia: 367.373798 \n",
            "Minibatch iteration 124/56000: mean batch inertia: 298.460586, ewa inertia: 367.127684 \n",
            "Minibatch iteration 125/56000: mean batch inertia: 396.032266, ewa inertia: 367.230913 \n",
            "Minibatch iteration 126/56000: mean batch inertia: 329.645312, ewa inertia: 367.096681 \n",
            "Minibatch iteration 127/56000: mean batch inertia: 324.846875, ewa inertia: 366.945792 \n",
            "Minibatch iteration 128/56000: mean batch inertia: 302.279785, ewa inertia: 366.714846 \n",
            "Minibatch iteration 129/56000: mean batch inertia: 339.761758, ewa inertia: 366.618586 \n",
            "Minibatch iteration 130/56000: mean batch inertia: 374.336602, ewa inertia: 366.646150 \n",
            "Minibatch iteration 131/56000: mean batch inertia: 316.410508, ewa inertia: 366.466740 \n",
            "Minibatch iteration 132/56000: mean batch inertia: 324.712188, ewa inertia: 366.317620 \n",
            "Minibatch iteration 133/56000: mean batch inertia: 340.644883, ewa inertia: 366.225933 \n",
            "Minibatch iteration 134/56000: mean batch inertia: 360.208945, ewa inertia: 366.204444 \n",
            "Minibatch iteration 135/56000: mean batch inertia: 302.646777, ewa inertia: 365.977456 \n",
            "Minibatch iteration 136/56000: mean batch inertia: 335.117461, ewa inertia: 365.867244 \n",
            "Minibatch iteration 137/56000: mean batch inertia: 375.664414, ewa inertia: 365.902233 \n",
            "Minibatch iteration 138/56000: mean batch inertia: 336.539805, ewa inertia: 365.797370 \n",
            "Minibatch iteration 139/56000: mean batch inertia: 311.614980, ewa inertia: 365.603864 \n",
            "Minibatch iteration 140/56000: mean batch inertia: 375.453438, ewa inertia: 365.639041 \n",
            "Minibatch iteration 141/56000: mean batch inertia: 381.909453, ewa inertia: 365.697148 \n",
            "Minibatch iteration 142/56000: mean batch inertia: 290.266758, ewa inertia: 365.427759 \n",
            "Minibatch iteration 143/56000: mean batch inertia: 334.781914, ewa inertia: 365.318312 \n",
            "Minibatch iteration 144/56000: mean batch inertia: 308.595586, ewa inertia: 365.115734 \n",
            "Minibatch iteration 145/56000: mean batch inertia: 333.998906, ewa inertia: 365.004604 \n",
            "Minibatch iteration 146/56000: mean batch inertia: 334.632070, ewa inertia: 364.896133 \n",
            "Minibatch iteration 147/56000: mean batch inertia: 287.175781, ewa inertia: 364.618565 \n",
            "Minibatch iteration 148/56000: mean batch inertia: 367.451289, ewa inertia: 364.628682 \n",
            "Minibatch iteration 149/56000: mean batch inertia: 362.207930, ewa inertia: 364.620037 \n",
            "Minibatch iteration 150/56000: mean batch inertia: 299.552031, ewa inertia: 364.387655 \n",
            "Minibatch iteration 151/56000: mean batch inertia: 385.900625, ewa inertia: 364.464486 \n",
            "Minibatch iteration 152/56000: mean batch inertia: 376.322578, ewa inertia: 364.506835 \n",
            "Minibatch iteration 153/56000: mean batch inertia: 361.893203, ewa inertia: 364.497501 \n",
            "Minibatch iteration 154/56000: mean batch inertia: 313.446543, ewa inertia: 364.315179 \n",
            "Minibatch iteration 155/56000: mean batch inertia: 395.698633, ewa inertia: 364.427261 \n",
            "Minibatch iteration 156/56000: mean batch inertia: 412.855273, ewa inertia: 364.600215 \n",
            "Minibatch iteration 157/56000: mean batch inertia: 342.558594, ewa inertia: 364.521497 \n",
            "Minibatch iteration 158/56000: mean batch inertia: 318.808242, ewa inertia: 364.358238 \n",
            "Minibatch iteration 159/56000: mean batch inertia: 387.941797, ewa inertia: 364.442463 \n",
            "Minibatch iteration 160/56000: mean batch inertia: 292.631406, ewa inertia: 364.186000 \n",
            "Minibatch iteration 161/56000: mean batch inertia: 346.499062, ewa inertia: 364.122833 \n",
            "Minibatch iteration 162/56000: mean batch inertia: 332.437031, ewa inertia: 364.009672 \n",
            "Minibatch iteration 163/56000: mean batch inertia: 442.436367, ewa inertia: 364.289762 \n",
            "Minibatch iteration 164/56000: mean batch inertia: 310.569746, ewa inertia: 364.097908 \n",
            "Minibatch iteration 165/56000: mean batch inertia: 336.473516, ewa inertia: 363.999252 \n",
            "Minibatch iteration 166/56000: mean batch inertia: 365.246172, ewa inertia: 364.003705 \n",
            "Minibatch iteration 167/56000: mean batch inertia: 341.244648, ewa inertia: 363.922424 \n",
            "Minibatch iteration 168/56000: mean batch inertia: 374.393359, ewa inertia: 363.959819 \n",
            "Minibatch iteration 169/56000: mean batch inertia: 375.357539, ewa inertia: 364.000525 \n",
            "Minibatch iteration 170/56000: mean batch inertia: 344.877734, ewa inertia: 363.932230 \n",
            "Minibatch iteration 171/56000: mean batch inertia: 322.212422, ewa inertia: 363.783234 \n",
            "Minibatch iteration 172/56000: mean batch inertia: 337.550586, ewa inertia: 363.689547 \n",
            "Minibatch iteration 173/56000: mean batch inertia: 308.016582, ewa inertia: 363.490719 \n",
            "Minibatch iteration 174/56000: mean batch inertia: 344.371172, ewa inertia: 363.422436 \n",
            "Minibatch iteration 175/56000: mean batch inertia: 428.304570, ewa inertia: 363.654154 \n",
            "Minibatch iteration 176/56000: mean batch inertia: 383.027383, ewa inertia: 363.723343 \n",
            "Minibatch iteration 177/56000: mean batch inertia: 381.559258, ewa inertia: 363.787041 \n",
            "Minibatch iteration 178/56000: mean batch inertia: 309.895957, ewa inertia: 363.594577 \n",
            "Minibatch iteration 179/56000: mean batch inertia: 319.725469, ewa inertia: 363.437904 \n",
            "Minibatch iteration 180/56000: mean batch inertia: 396.328438, ewa inertia: 363.555368 \n",
            "Minibatch iteration 181/56000: mean batch inertia: 341.232695, ewa inertia: 363.475646 \n",
            "Minibatch iteration 182/56000: mean batch inertia: 369.184883, ewa inertia: 363.496035 \n",
            "Minibatch iteration 183/56000: mean batch inertia: 322.575918, ewa inertia: 363.349895 \n",
            "Minibatch iteration 184/56000: mean batch inertia: 279.857461, ewa inertia: 363.051713 \n",
            "Minibatch iteration 185/56000: mean batch inertia: 362.953164, ewa inertia: 363.051361 \n",
            "Minibatch iteration 186/56000: mean batch inertia: 340.131367, ewa inertia: 362.969505 \n",
            "Minibatch iteration 187/56000: mean batch inertia: 282.514102, ewa inertia: 362.682170 \n",
            "Minibatch iteration 188/56000: mean batch inertia: 371.985273, ewa inertia: 362.715394 \n",
            "Minibatch iteration 189/56000: mean batch inertia: 365.777891, ewa inertia: 362.726332 \n",
            "Minibatch iteration 190/56000: mean batch inertia: 374.325312, ewa inertia: 362.767756 \n",
            "Minibatch iteration 191/56000: mean batch inertia: 366.406289, ewa inertia: 362.780750 \n",
            "Minibatch iteration 192/56000: mean batch inertia: 348.603281, ewa inertia: 362.730117 \n",
            "Minibatch iteration 193/56000: mean batch inertia: 343.660039, ewa inertia: 362.662011 \n",
            "Minibatch iteration 194/56000: mean batch inertia: 367.165195, ewa inertia: 362.678094 \n",
            "Minibatch iteration 195/56000: mean batch inertia: 357.714727, ewa inertia: 362.660368 \n",
            "Minibatch iteration 196/56000: mean batch inertia: 286.166484, ewa inertia: 362.387180 \n",
            "Minibatch iteration 197/56000: mean batch inertia: 390.566602, ewa inertia: 362.487819 \n",
            "Minibatch iteration 198/56000: mean batch inertia: 363.156602, ewa inertia: 362.490208 \n",
            "Minibatch iteration 199/56000: mean batch inertia: 370.028828, ewa inertia: 362.517131 \n",
            "Minibatch iteration 200/56000: mean batch inertia: 310.931738, ewa inertia: 362.332901 \n",
            "Minibatch iteration 201/56000: mean batch inertia: 295.233867, ewa inertia: 362.093265 \n",
            "Minibatch iteration 202/56000: mean batch inertia: 292.806855, ewa inertia: 361.845818 \n",
            "Minibatch iteration 203/56000: mean batch inertia: 338.823672, ewa inertia: 361.763598 \n",
            "Minibatch iteration 204/56000: mean batch inertia: 391.821211, ewa inertia: 361.870945 \n",
            "Minibatch iteration 205/56000: mean batch inertia: 360.731406, ewa inertia: 361.866875 \n",
            "Minibatch iteration 206/56000: mean batch inertia: 308.291387, ewa inertia: 361.675537 \n",
            "Minibatch iteration 207/56000: mean batch inertia: 308.972031, ewa inertia: 361.487314 \n",
            "Minibatch iteration 208/56000: mean batch inertia: 347.713242, ewa inertia: 361.438122 \n",
            "Minibatch iteration 209/56000: mean batch inertia: 340.540156, ewa inertia: 361.363487 \n",
            "Minibatch iteration 210/56000: mean batch inertia: 272.451973, ewa inertia: 361.045952 \n",
            "Minibatch iteration 211/56000: mean batch inertia: 362.696094, ewa inertia: 361.051845 \n",
            "Minibatch iteration 212/56000: mean batch inertia: 344.680547, ewa inertia: 360.993377 \n",
            "Minibatch iteration 213/56000: mean batch inertia: 344.500820, ewa inertia: 360.934476 \n",
            "Minibatch iteration 214/56000: mean batch inertia: 363.905156, ewa inertia: 360.945086 \n",
            "Minibatch iteration 215/56000: mean batch inertia: 380.785703, ewa inertia: 361.015944 \n",
            "Minibatch iteration 216/56000: mean batch inertia: 355.648945, ewa inertia: 360.996776 \n",
            "Minibatch iteration 217/56000: mean batch inertia: 384.228164, ewa inertia: 361.079744 \n",
            "Minibatch iteration 218/56000: mean batch inertia: 316.701289, ewa inertia: 360.921252 \n",
            "Minibatch iteration 219/56000: mean batch inertia: 326.464629, ewa inertia: 360.798195 \n",
            "Minibatch iteration 220/56000: mean batch inertia: 332.999531, ewa inertia: 360.698916 \n",
            "Minibatch iteration 221/56000: mean batch inertia: 316.341328, ewa inertia: 360.540499 \n",
            "Minibatch iteration 222/56000: mean batch inertia: 376.177891, ewa inertia: 360.596346 \n",
            "Minibatch iteration 223/56000: mean batch inertia: 316.136523, ewa inertia: 360.437564 \n",
            "Minibatch iteration 224/56000: mean batch inertia: 383.367930, ewa inertia: 360.519456 \n",
            "Minibatch iteration 225/56000: mean batch inertia: 307.859609, ewa inertia: 360.331389 \n",
            "Minibatch iteration 226/56000: mean batch inertia: 342.412656, ewa inertia: 360.267394 \n",
            "Minibatch iteration 227/56000: mean batch inertia: 354.676680, ewa inertia: 360.247428 \n",
            "Minibatch iteration 228/56000: mean batch inertia: 336.512227, ewa inertia: 360.162661 \n",
            "Minibatch iteration 229/56000: mean batch inertia: 365.735898, ewa inertia: 360.182565 \n",
            "Minibatch iteration 230/56000: mean batch inertia: 345.546211, ewa inertia: 360.130293 \n",
            "Minibatch iteration 231/56000: mean batch inertia: 310.714297, ewa inertia: 359.953811 \n",
            "Minibatch iteration 232/56000: mean batch inertia: 371.426484, ewa inertia: 359.994784 \n",
            "Minibatch iteration 233/56000: mean batch inertia: 328.133867, ewa inertia: 359.880997 \n",
            "Minibatch iteration 234/56000: mean batch inertia: 356.184609, ewa inertia: 359.867796 \n",
            "Minibatch iteration 235/56000: mean batch inertia: 312.105898, ewa inertia: 359.697220 \n",
            "Minibatch iteration 236/56000: mean batch inertia: 308.711348, ewa inertia: 359.515131 \n",
            "Minibatch iteration 237/56000: mean batch inertia: 348.337500, ewa inertia: 359.475212 \n",
            "Minibatch iteration 238/56000: mean batch inertia: 365.922969, ewa inertia: 359.498239 \n",
            "Minibatch iteration 239/56000: mean batch inertia: 307.613906, ewa inertia: 359.312941 \n",
            "Minibatch iteration 240/56000: mean batch inertia: 302.225723, ewa inertia: 359.109062 \n",
            "Minibatch iteration 241/56000: mean batch inertia: 358.820312, ewa inertia: 359.108031 \n",
            "Minibatch iteration 242/56000: mean batch inertia: 409.388477, ewa inertia: 359.287601 \n",
            "Minibatch iteration 243/56000: mean batch inertia: 359.548516, ewa inertia: 359.288532 \n",
            "Minibatch iteration 244/56000: mean batch inertia: 306.141328, ewa inertia: 359.098724 \n",
            "Minibatch iteration 245/56000: mean batch inertia: 326.571758, ewa inertia: 358.982559 \n",
            "Minibatch iteration 246/56000: mean batch inertia: 369.003828, ewa inertia: 359.018348 \n",
            "Minibatch iteration 247/56000: mean batch inertia: 358.360859, ewa inertia: 359.016000 \n",
            "Minibatch iteration 248/56000: mean batch inertia: 356.771992, ewa inertia: 359.007986 \n",
            "Minibatch iteration 249/56000: mean batch inertia: 387.954336, ewa inertia: 359.111364 \n",
            "Minibatch iteration 250/56000: mean batch inertia: 359.437813, ewa inertia: 359.112530 \n",
            "Minibatch iteration 251/56000: mean batch inertia: 370.925430, ewa inertia: 359.154718 \n",
            "Minibatch iteration 252/56000: mean batch inertia: 307.307715, ewa inertia: 358.969553 \n",
            "Minibatch iteration 253/56000: mean batch inertia: 305.711602, ewa inertia: 358.779350 \n",
            "Minibatch iteration 254/56000: mean batch inertia: 245.800059, ewa inertia: 358.375860 \n",
            "Minibatch iteration 255/56000: mean batch inertia: 370.780586, ewa inertia: 358.420161 \n",
            "Minibatch iteration 256/56000: mean batch inertia: 344.751953, ewa inertia: 358.371347 \n",
            "Minibatch iteration 257/56000: mean batch inertia: 402.001836, ewa inertia: 358.527168 \n",
            "Minibatch iteration 258/56000: mean batch inertia: 378.775547, ewa inertia: 358.599482 \n",
            "Minibatch iteration 259/56000: mean batch inertia: 308.773125, ewa inertia: 358.421534 \n",
            "Minibatch iteration 260/56000: mean batch inertia: 318.027754, ewa inertia: 358.277273 \n",
            "Minibatch iteration 261/56000: mean batch inertia: 346.782891, ewa inertia: 358.236222 \n",
            "Minibatch iteration 262/56000: mean batch inertia: 326.895137, ewa inertia: 358.124292 \n",
            "Minibatch iteration 263/56000: mean batch inertia: 344.558398, ewa inertia: 358.075843 \n",
            "Minibatch iteration 264/56000: mean batch inertia: 331.361953, ewa inertia: 357.980438 \n",
            "Minibatch iteration 265/56000: mean batch inertia: 390.849023, ewa inertia: 358.097824 \n",
            "Minibatch iteration 266/56000: mean batch inertia: 364.668594, ewa inertia: 358.121290 \n",
            "Minibatch iteration 267/56000: mean batch inertia: 361.417188, ewa inertia: 358.133061 \n",
            "Minibatch iteration 268/56000: mean batch inertia: 372.363320, ewa inertia: 358.183883 \n",
            "Minibatch iteration 269/56000: mean batch inertia: 290.241855, ewa inertia: 357.941237 \n",
            "Minibatch iteration 270/56000: mean batch inertia: 315.786836, ewa inertia: 357.790688 \n",
            "Minibatch iteration 271/56000: mean batch inertia: 345.951602, ewa inertia: 357.748407 \n",
            "Minibatch iteration 272/56000: mean batch inertia: 324.309375, ewa inertia: 357.628984 \n",
            "Minibatch iteration 273/56000: mean batch inertia: 426.691758, ewa inertia: 357.875632 \n",
            "Minibatch iteration 274/56000: mean batch inertia: 345.273047, ewa inertia: 357.830623 \n",
            "Minibatch iteration 275/56000: mean batch inertia: 394.422422, ewa inertia: 357.961306 \n",
            "Minibatch iteration 276/56000: mean batch inertia: 326.964609, ewa inertia: 357.850606 \n",
            "Minibatch iteration 277/56000: mean batch inertia: 361.426445, ewa inertia: 357.863376 \n",
            "Minibatch iteration 278/56000: mean batch inertia: 331.720117, ewa inertia: 357.770009 \n",
            "Minibatch iteration 279/56000: mean batch inertia: 404.875859, ewa inertia: 357.938241 \n",
            "Minibatch iteration 280/56000: mean batch inertia: 308.299648, ewa inertia: 357.760964 \n",
            "Minibatch iteration 281/56000: mean batch inertia: 356.002383, ewa inertia: 357.754683 \n",
            "Minibatch iteration 282/56000: mean batch inertia: 357.483711, ewa inertia: 357.753716 \n",
            "Converged (lack of improvement in inertia) at iteration 282/56000\n",
            "Computing label assignment and total inertia\n",
            "Loading model checkpoint experiments//AE_mnist_latent_dim3_h_dim500_h_nl3/-53375 ...\n",
            "\n",
            "INFO:tensorflow:Restoring parameters from experiments//AE_mnist_latent_dim3_h_dim500_h_nl3/-53375\n"
          ],
          "name": "stdout"
        },
        {
          "output_type": "stream",
          "text": [
            "\r  0%|          | 0/218 [00:00<?, ?it/s]"
          ],
          "name": "stderr"
        },
        {
          "output_type": "stream",
          "text": [
            "Model loaded\n",
            "EPOCHS trained:  60\n"
          ],
          "name": "stdout"
        },
        {
          "output_type": "stream",
          "text": [
            "219it [00:00, 738.97it/s]                         \n"
          ],
          "name": "stderr"
        },
        {
          "output_type": "stream",
          "text": [
            "Init 1/3 with method: k-means++\n",
            "Inertia for init 1/3: 105668.390625\n",
            "Init 2/3 with method: k-means++\n",
            "Inertia for init 2/3: 97850.695312\n",
            "Init 3/3 with method: k-means++\n",
            "Inertia for init 3/3: 100839.562500\n",
            "Minibatch iteration 1/14000: mean batch inertia: 366.836758, ewa inertia: 366.836758 \n",
            "Minibatch iteration 2/14000: mean batch inertia: 290.792598, ewa inertia: 365.750490 \n",
            "Minibatch iteration 3/14000: mean batch inertia: 397.538359, ewa inertia: 366.204570 \n",
            "Minibatch iteration 4/14000: mean batch inertia: 414.767812, ewa inertia: 366.898281 \n",
            "Minibatch iteration 5/14000: mean batch inertia: 349.506523, ewa inertia: 366.649845 \n",
            "Minibatch iteration 6/14000: mean batch inertia: 330.594648, ewa inertia: 366.134808 \n",
            "Minibatch iteration 7/14000: mean batch inertia: 319.793965, ewa inertia: 365.472843 \n",
            "Minibatch iteration 8/14000: mean batch inertia: 311.303379, ewa inertia: 364.699049 \n",
            "Minibatch iteration 9/14000: mean batch inertia: 318.542090, ewa inertia: 364.039711 \n",
            "Minibatch iteration 10/14000: mean batch inertia: 295.055117, ewa inertia: 363.054287 \n",
            "Minibatch iteration 11/14000: mean batch inertia: 328.645781, ewa inertia: 362.562772 \n",
            "Minibatch iteration 12/14000: mean batch inertia: 346.669336, ewa inertia: 362.335739 \n",
            "Minibatch iteration 13/14000: mean batch inertia: 368.445938, ewa inertia: 362.423022 \n",
            "Minibatch iteration 14/14000: mean batch inertia: 338.899063, ewa inertia: 362.086989 \n",
            "Minibatch iteration 15/14000: mean batch inertia: 349.313086, ewa inertia: 361.904518 \n",
            "Minibatch iteration 16/14000: mean batch inertia: 373.670352, ewa inertia: 362.072589 \n",
            "Minibatch iteration 17/14000: mean batch inertia: 329.000586, ewa inertia: 361.600166 \n",
            "Minibatch iteration 18/14000: mean batch inertia: 347.960352, ewa inertia: 361.405325 \n",
            "Minibatch iteration 19/14000: mean batch inertia: 303.577324, ewa inertia: 360.579270 \n",
            "Minibatch iteration 20/14000: mean batch inertia: 349.786367, ewa inertia: 360.425096 \n",
            "Minibatch iteration 21/14000: mean batch inertia: 373.614883, ewa inertia: 360.613508 \n",
            "Minibatch iteration 22/14000: mean batch inertia: 319.957812, ewa inertia: 360.032754 \n",
            "Minibatch iteration 23/14000: mean batch inertia: 344.850664, ewa inertia: 359.815883 \n",
            "Minibatch iteration 24/14000: mean batch inertia: 326.505703, ewa inertia: 359.340057 \n",
            "Minibatch iteration 25/14000: mean batch inertia: 365.929453, ewa inertia: 359.434185 \n",
            "Minibatch iteration 26/14000: mean batch inertia: 363.938867, ewa inertia: 359.498533 \n",
            "Minibatch iteration 27/14000: mean batch inertia: 383.927148, ewa inertia: 359.847488 \n",
            "Minibatch iteration 28/14000: mean batch inertia: 309.304941, ewa inertia: 359.125503 \n",
            "Minibatch iteration 29/14000: mean batch inertia: 337.673008, ewa inertia: 358.819061 \n",
            "Minibatch iteration 30/14000: mean batch inertia: 347.704453, ewa inertia: 358.660292 \n",
            "Minibatch iteration 31/14000: mean batch inertia: 306.044180, ewa inertia: 357.908687 \n",
            "Minibatch iteration 32/14000: mean batch inertia: 349.924492, ewa inertia: 357.794635 \n",
            "Minibatch iteration 33/14000: mean batch inertia: 339.269883, ewa inertia: 357.530015 \n",
            "Minibatch iteration 34/14000: mean batch inertia: 336.127813, ewa inertia: 357.224291 \n",
            "Minibatch iteration 35/14000: mean batch inertia: 330.108828, ewa inertia: 356.836955 \n",
            "Minibatch iteration 36/14000: mean batch inertia: 317.639512, ewa inertia: 356.277031 \n",
            "Minibatch iteration 37/14000: mean batch inertia: 302.727129, ewa inertia: 355.512087 \n",
            "Minibatch iteration 38/14000: mean batch inertia: 382.514687, ewa inertia: 355.897811 \n",
            "Minibatch iteration 39/14000: mean batch inertia: 374.278711, ewa inertia: 356.160377 \n",
            "Minibatch iteration 40/14000: mean batch inertia: 390.426719, ewa inertia: 356.649861 \n",
            "Minibatch iteration 41/14000: mean batch inertia: 336.422109, ewa inertia: 356.360914 \n",
            "Minibatch iteration 42/14000: mean batch inertia: 317.851797, ewa inertia: 355.810823 \n",
            "Minibatch iteration 43/14000: mean batch inertia: 294.654961, ewa inertia: 354.937230 \n",
            "Minibatch iteration 44/14000: mean batch inertia: 345.781680, ewa inertia: 354.806446 \n",
            "Minibatch iteration 45/14000: mean batch inertia: 394.781953, ewa inertia: 355.377484 \n",
            "Minibatch iteration 46/14000: mean batch inertia: 353.839414, ewa inertia: 355.355513 \n",
            "Minibatch iteration 47/14000: mean batch inertia: 385.634414, ewa inertia: 355.788038 \n",
            "Minibatch iteration 48/14000: mean batch inertia: 330.202227, ewa inertia: 355.422552 \n",
            "Minibatch iteration 49/14000: mean batch inertia: 314.852930, ewa inertia: 354.843027 \n",
            "Minibatch iteration 50/14000: mean batch inertia: 401.682344, ewa inertia: 355.512113 \n",
            "Minibatch iteration 51/14000: mean batch inertia: 266.023184, ewa inertia: 354.233791 \n",
            "Minibatch iteration 52/14000: mean batch inertia: 368.280312, ewa inertia: 354.434441 \n",
            "Minibatch iteration 53/14000: mean batch inertia: 290.741758, ewa inertia: 353.524611 \n",
            "Minibatch iteration 54/14000: mean batch inertia: 347.711602, ewa inertia: 353.441574 \n",
            "Minibatch iteration 55/14000: mean batch inertia: 315.016855, ewa inertia: 352.892688 \n",
            "Minibatch iteration 56/14000: mean batch inertia: 327.304395, ewa inertia: 352.527167 \n",
            "Minibatch iteration 57/14000: mean batch inertia: 331.907383, ewa inertia: 352.232620 \n",
            "Minibatch iteration 58/14000: mean batch inertia: 345.102344, ewa inertia: 352.130766 \n",
            "Minibatch iteration 59/14000: mean batch inertia: 376.742852, ewa inertia: 352.482342 \n",
            "Minibatch iteration 60/14000: mean batch inertia: 301.633965, ewa inertia: 351.755989 \n",
            "Minibatch iteration 61/14000: mean batch inertia: 351.148477, ewa inertia: 351.747311 \n",
            "Minibatch iteration 62/14000: mean batch inertia: 394.192227, ewa inertia: 352.353623 \n",
            "Minibatch iteration 63/14000: mean batch inertia: 353.470859, ewa inertia: 352.369583 \n",
            "Minibatch iteration 64/14000: mean batch inertia: 318.377871, ewa inertia: 351.884021 \n",
            "Minibatch iteration 65/14000: mean batch inertia: 318.751953, ewa inertia: 351.410740 \n",
            "Minibatch iteration 66/14000: mean batch inertia: 394.147305, ewa inertia: 352.021219 \n",
            "Minibatch iteration 67/14000: mean batch inertia: 361.858086, ewa inertia: 352.161735 \n",
            "Minibatch iteration 68/14000: mean batch inertia: 320.430547, ewa inertia: 351.708465 \n",
            "Minibatch iteration 69/14000: mean batch inertia: 399.440938, ewa inertia: 352.390309 \n",
            "Minibatch iteration 70/14000: mean batch inertia: 347.706641, ewa inertia: 352.323404 \n",
            "Minibatch iteration 71/14000: mean batch inertia: 326.965371, ewa inertia: 351.961172 \n",
            "Minibatch iteration 72/14000: mean batch inertia: 338.031797, ewa inertia: 351.762195 \n",
            "Minibatch iteration 73/14000: mean batch inertia: 300.860410, ewa inertia: 351.035079 \n",
            "Minibatch iteration 74/14000: mean batch inertia: 399.333477, ewa inertia: 351.725007 \n",
            "Minibatch iteration 75/14000: mean batch inertia: 324.334707, ewa inertia: 351.333745 \n",
            "Minibatch iteration 76/14000: mean batch inertia: 282.502695, ewa inertia: 350.350514 \n",
            "Minibatch iteration 77/14000: mean batch inertia: 298.240391, ewa inertia: 349.606137 \n",
            "Minibatch iteration 78/14000: mean batch inertia: 290.773125, ewa inertia: 348.765726 \n",
            "Minibatch iteration 79/14000: mean batch inertia: 338.437891, ewa inertia: 348.618196 \n",
            "Minibatch iteration 80/14000: mean batch inertia: 324.271797, ewa inertia: 348.270415 \n",
            "Minibatch iteration 81/14000: mean batch inertia: 355.282891, ewa inertia: 348.370586 \n",
            "Minibatch iteration 82/14000: mean batch inertia: 337.426875, ewa inertia: 348.214258 \n",
            "Minibatch iteration 83/14000: mean batch inertia: 268.675645, ewa inertia: 347.078073 \n",
            "Minibatch iteration 84/14000: mean batch inertia: 342.946406, ewa inertia: 347.019054 \n",
            "Minibatch iteration 85/14000: mean batch inertia: 427.737031, ewa inertia: 348.172085 \n",
            "Minibatch iteration 86/14000: mean batch inertia: 294.754570, ewa inertia: 347.409033 \n",
            "Minibatch iteration 87/14000: mean batch inertia: 324.428672, ewa inertia: 347.080765 \n",
            "Minibatch iteration 88/14000: mean batch inertia: 397.650234, ewa inertia: 347.803135 \n",
            "Minibatch iteration 89/14000: mean batch inertia: 286.340234, ewa inertia: 346.925156 \n",
            "Minibatch iteration 90/14000: mean batch inertia: 329.283555, ewa inertia: 346.673151 \n",
            "Minibatch iteration 91/14000: mean batch inertia: 290.729453, ewa inertia: 345.874012 \n",
            "Minibatch iteration 92/14000: mean batch inertia: 340.687773, ewa inertia: 345.799929 \n",
            "Minibatch iteration 93/14000: mean batch inertia: 389.842031, ewa inertia: 346.429057 \n",
            "Minibatch iteration 94/14000: mean batch inertia: 362.828555, ewa inertia: 346.663318 \n",
            "Minibatch iteration 95/14000: mean batch inertia: 324.023672, ewa inertia: 346.339918 \n",
            "Minibatch iteration 96/14000: mean batch inertia: 379.113437, ewa inertia: 346.808078 \n",
            "Minibatch iteration 97/14000: mean batch inertia: 372.215078, ewa inertia: 347.171009 \n",
            "Minibatch iteration 98/14000: mean batch inertia: 281.642441, ewa inertia: 346.234953 \n",
            "Minibatch iteration 99/14000: mean batch inertia: 363.672031, ewa inertia: 346.484037 \n",
            "Minibatch iteration 100/14000: mean batch inertia: 340.015586, ewa inertia: 346.391637 \n",
            "Minibatch iteration 101/14000: mean batch inertia: 342.655312, ewa inertia: 346.338265 \n",
            "Minibatch iteration 102/14000: mean batch inertia: 404.832773, ewa inertia: 347.173841 \n",
            "Converged (lack of improvement in inertia) at iteration 102/14000\n",
            "Computing label assignment and total inertia\n",
            "TRAIN | kmeans Clustering Acc:  0.091375\n",
            "VALID | kmeans Clustering Acc:  0.1367857142857143\n",
            "Loading model checkpoint experiments//AE_mnist_latent_dim3_h_dim500_h_nl3/-53375 ...\n",
            "\n",
            "INFO:tensorflow:Restoring parameters from experiments//AE_mnist_latent_dim3_h_dim500_h_nl3/-53375\n",
            "Model loaded"
          ],
          "name": "stdout"
        },
        {
          "output_type": "stream",
          "text": [
            "  6%|▌         | 54/875 [00:00<00:01, 537.86it/s]"
          ],
          "name": "stderr"
        },
        {
          "output_type": "stream",
          "text": [
            "\n",
            "EPOCHS trained:  60\n"
          ],
          "name": "stdout"
        },
        {
          "output_type": "stream",
          "text": [
            "100%|██████████| 875/875 [00:01<00:00, 857.87it/s]\n"
          ],
          "name": "stderr"
        },
        {
          "output_type": "stream",
          "text": [
            "Loading model checkpoint experiments//AE_mnist_latent_dim3_h_dim500_h_nl3/-53375 ...\n",
            "\n",
            "INFO:tensorflow:Restoring parameters from experiments//AE_mnist_latent_dim3_h_dim500_h_nl3/-53375\n"
          ],
          "name": "stdout"
        },
        {
          "output_type": "stream",
          "text": [
            "\r  0%|          | 0/218 [00:00<?, ?it/s]"
          ],
          "name": "stderr"
        },
        {
          "output_type": "stream",
          "text": [
            "Model loaded\n",
            "EPOCHS trained:  60\n"
          ],
          "name": "stdout"
        },
        {
          "output_type": "stream",
          "text": [
            "219it [00:00, 729.94it/s]                         \n"
          ],
          "name": "stderr"
        },
        {
          "output_type": "stream",
          "text": [
            "TRAIN | hdbscan Clustering Acc:  0.003892857142857143\n",
            "VALID | hdbscan Clustering Acc:  0.0015"
          ],
          "name": "stdout"
        },
        {
          "output_type": "stream",
          "text": [
            "  0%|          | 1/875 [00:00<02:31,  5.76it/s]"
          ],
          "name": "stderr"
        },
        {
          "output_type": "stream",
          "text": [
            "\n",
            "total loss Patience count:  1\n",
            "EPOCH:  61\n"
          ],
          "name": "stdout"
        },
        {
          "output_type": "stream",
          "text": [
            "100%|██████████| 875/875 [00:02<00:00, 292.95it/s]\n",
            "100%|██████████| 218/218 [00:00<00:00, 512.47it/s]\n",
            "  0%|          | 1/875 [00:00<02:29,  5.86it/s]"
          ],
          "name": "stderr"
        },
        {
          "output_type": "stream",
          "text": [
            "TRAIN | AE Loss:  349.58408  | Recons:  349.57785  | L2_loss:  6190.538\n",
            "VALID | AE Loss:  367.7714  | Recons:  367.7652\n",
            "EPOCH:  62\n"
          ],
          "name": "stdout"
        },
        {
          "output_type": "stream",
          "text": [
            "100%|██████████| 875/875 [00:02<00:00, 292.45it/s]\n",
            "100%|██████████| 218/218 [00:00<00:00, 539.77it/s]\n",
            "  0%|          | 1/875 [00:00<02:32,  5.71it/s]"
          ],
          "name": "stderr"
        },
        {
          "output_type": "stream",
          "text": [
            "TRAIN | AE Loss:  349.2681  | Recons:  349.26187  | L2_loss:  6229.4927\n",
            "VALID | AE Loss:  367.86316  | Recons:  367.8569\n",
            "total loss Patience count:  1\n",
            "EPOCH:  63\n"
          ],
          "name": "stdout"
        },
        {
          "output_type": "stream",
          "text": [
            "100%|██████████| 875/875 [00:02<00:00, 293.90it/s]\n",
            "100%|██████████| 218/218 [00:00<00:00, 537.27it/s]\n",
            "  0%|          | 1/875 [00:00<02:31,  5.78it/s]"
          ],
          "name": "stderr"
        },
        {
          "output_type": "stream",
          "text": [
            "TRAIN | AE Loss:  349.0645  | Recons:  349.05826  | L2_loss:  6268.892\n",
            "VALID | AE Loss:  367.58292  | Recons:  367.57663\n",
            "EPOCH:  64\n"
          ],
          "name": "stdout"
        },
        {
          "output_type": "stream",
          "text": [
            "100%|██████████| 875/875 [00:02<00:00, 295.74it/s]\n",
            "100%|██████████| 218/218 [00:00<00:00, 502.65it/s]\n",
            "  0%|          | 1/875 [00:00<02:31,  5.76it/s]"
          ],
          "name": "stderr"
        },
        {
          "output_type": "stream",
          "text": [
            "TRAIN | AE Loss:  348.73523  | Recons:  348.72894  | L2_loss:  6307.6836\n",
            "VALID | AE Loss:  367.76807  | Recons:  367.7617\n",
            "total loss Patience count:  1\n",
            "EPOCH:  65\n"
          ],
          "name": "stdout"
        },
        {
          "output_type": "stream",
          "text": [
            "100%|██████████| 875/875 [00:02<00:00, 301.20it/s]\n",
            "100%|██████████| 218/218 [00:00<00:00, 525.30it/s]\n",
            "  0%|          | 1/875 [00:00<02:33,  5.70it/s]"
          ],
          "name": "stderr"
        },
        {
          "output_type": "stream",
          "text": [
            "TRAIN | AE Loss:  348.52692  | Recons:  348.52063  | L2_loss:  6345.7876\n",
            "VALID | AE Loss:  367.77988  | Recons:  367.77347\n",
            "total loss Patience count:  2\n",
            "EPOCH:  66\n"
          ],
          "name": "stdout"
        },
        {
          "output_type": "stream",
          "text": [
            "100%|██████████| 875/875 [00:02<00:00, 299.62it/s]\n",
            "100%|██████████| 218/218 [00:00<00:00, 541.77it/s]\n",
            "  0%|          | 1/875 [00:00<02:30,  5.80it/s]"
          ],
          "name": "stderr"
        },
        {
          "output_type": "stream",
          "text": [
            "TRAIN | AE Loss:  348.2368  | Recons:  348.2304  | L2_loss:  6384.2524\n",
            "VALID | AE Loss:  367.4096  | Recons:  367.4032\n",
            "EPOCH:  67\n"
          ],
          "name": "stdout"
        },
        {
          "output_type": "stream",
          "text": [
            "100%|██████████| 875/875 [00:02<00:00, 299.34it/s]\n",
            "100%|██████████| 218/218 [00:00<00:00, 539.06it/s]\n",
            "  0%|          | 1/875 [00:00<02:33,  5.70it/s]"
          ],
          "name": "stderr"
        },
        {
          "output_type": "stream",
          "text": [
            "TRAIN | AE Loss:  347.92883  | Recons:  347.92236  | L2_loss:  6422.254\n",
            "VALID | AE Loss:  367.68512  | Recons:  367.67874\n",
            "total loss Patience count:  1\n",
            "EPOCH:  68\n"
          ],
          "name": "stdout"
        },
        {
          "output_type": "stream",
          "text": [
            "100%|██████████| 875/875 [00:02<00:00, 299.60it/s]\n",
            "100%|██████████| 218/218 [00:00<00:00, 531.92it/s]\n",
            "  0%|          | 1/875 [00:00<02:29,  5.83it/s]"
          ],
          "name": "stderr"
        },
        {
          "output_type": "stream",
          "text": [
            "TRAIN | AE Loss:  347.64056  | Recons:  347.6341  | L2_loss:  6460.3906\n",
            "VALID | AE Loss:  367.5397  | Recons:  367.53326\n",
            "total loss Patience count:  2\n",
            "EPOCH:  69\n"
          ],
          "name": "stdout"
        },
        {
          "output_type": "stream",
          "text": [
            "100%|██████████| 875/875 [00:02<00:00, 301.03it/s]\n",
            "100%|██████████| 218/218 [00:00<00:00, 535.90it/s]\n",
            "  0%|          | 1/875 [00:00<02:28,  5.89it/s]"
          ],
          "name": "stderr"
        },
        {
          "output_type": "stream",
          "text": [
            "TRAIN | AE Loss:  347.45135  | Recons:  347.44485  | L2_loss:  6498.6924\n",
            "VALID | AE Loss:  367.89807  | Recons:  367.89157\n",
            "total loss Patience count:  3\n",
            "EPOCH:  70\n"
          ],
          "name": "stdout"
        },
        {
          "output_type": "stream",
          "text": [
            "100%|██████████| 875/875 [00:02<00:00, 299.67it/s]\n",
            "100%|██████████| 218/218 [00:00<00:00, 546.11it/s]\n",
            "  0%|          | 1/875 [00:00<02:42,  5.38it/s]"
          ],
          "name": "stderr"
        },
        {
          "output_type": "stream",
          "text": [
            "TRAIN | AE Loss:  347.11935  | Recons:  347.1128  | L2_loss:  6536.2056\n",
            "VALID | AE Loss:  367.26813  | Recons:  367.26157\n",
            "EPOCH:  71\n"
          ],
          "name": "stdout"
        },
        {
          "output_type": "stream",
          "text": [
            "100%|██████████| 875/875 [00:02<00:00, 292.81it/s]\n",
            "100%|██████████| 218/218 [00:00<00:00, 514.29it/s]\n",
            "  0%|          | 1/875 [00:00<02:31,  5.78it/s]"
          ],
          "name": "stderr"
        },
        {
          "output_type": "stream",
          "text": [
            "TRAIN | AE Loss:  346.93457  | Recons:  346.928  | L2_loss:  6574.0054\n",
            "VALID | AE Loss:  367.4138  | Recons:  367.4072\n",
            "total loss Patience count:  1\n",
            "EPOCH:  72\n"
          ],
          "name": "stdout"
        },
        {
          "output_type": "stream",
          "text": [
            "100%|██████████| 875/875 [00:02<00:00, 296.22it/s]\n",
            "100%|██████████| 218/218 [00:00<00:00, 507.29it/s]\n",
            "  0%|          | 1/875 [00:00<02:32,  5.74it/s]"
          ],
          "name": "stderr"
        },
        {
          "output_type": "stream",
          "text": [
            "TRAIN | AE Loss:  346.7978  | Recons:  346.79114  | L2_loss:  6612.0054\n",
            "VALID | AE Loss:  367.38412  | Recons:  367.3775\n",
            "total loss Patience count:  2\n",
            "EPOCH:  73\n"
          ],
          "name": "stdout"
        },
        {
          "output_type": "stream",
          "text": [
            "100%|██████████| 875/875 [00:02<00:00, 296.97it/s]\n",
            "100%|██████████| 218/218 [00:00<00:00, 528.56it/s]\n",
            "  0%|          | 1/875 [00:00<02:40,  5.44it/s]"
          ],
          "name": "stderr"
        },
        {
          "output_type": "stream",
          "text": [
            "TRAIN | AE Loss:  346.5255  | Recons:  346.51886  | L2_loss:  6650.724\n",
            "VALID | AE Loss:  367.62802  | Recons:  367.6213\n",
            "total loss Patience count:  3\n",
            "EPOCH:  74\n"
          ],
          "name": "stdout"
        },
        {
          "output_type": "stream",
          "text": [
            "100%|██████████| 875/875 [00:02<00:00, 299.04it/s]\n",
            "100%|██████████| 218/218 [00:00<00:00, 539.79it/s]\n",
            "  0%|          | 1/875 [00:00<02:29,  5.86it/s]"
          ],
          "name": "stderr"
        },
        {
          "output_type": "stream",
          "text": [
            "TRAIN | AE Loss:  346.22156  | Recons:  346.21484  | L2_loss:  6688.313\n",
            "VALID | AE Loss:  367.25192  | Recons:  367.24527\n",
            "EPOCH:  75\n"
          ],
          "name": "stdout"
        },
        {
          "output_type": "stream",
          "text": [
            "100%|██████████| 875/875 [00:02<00:00, 305.17it/s]\n",
            "100%|██████████| 218/218 [00:00<00:00, 531.65it/s]\n",
            "  0%|          | 1/875 [00:00<02:28,  5.90it/s]"
          ],
          "name": "stderr"
        },
        {
          "output_type": "stream",
          "text": [
            "TRAIN | AE Loss:  345.95724  | Recons:  345.9505  | L2_loss:  6726.0938\n",
            "VALID | AE Loss:  367.36163  | Recons:  367.35492\n",
            "total loss Patience count:  1\n",
            "EPOCH:  76\n"
          ],
          "name": "stdout"
        },
        {
          "output_type": "stream",
          "text": [
            "100%|██████████| 875/875 [00:02<00:00, 300.33it/s]\n",
            "100%|██████████| 218/218 [00:00<00:00, 539.41it/s]\n",
            "  0%|          | 1/875 [00:00<02:28,  5.87it/s]"
          ],
          "name": "stderr"
        },
        {
          "output_type": "stream",
          "text": [
            "TRAIN | AE Loss:  345.78378  | Recons:  345.77704  | L2_loss:  6763.8447\n",
            "VALID | AE Loss:  367.5127  | Recons:  367.50592\n",
            "total loss Patience count:  2\n",
            "EPOCH:  77\n"
          ],
          "name": "stdout"
        },
        {
          "output_type": "stream",
          "text": [
            "100%|██████████| 875/875 [00:02<00:00, 300.23it/s]\n",
            "100%|██████████| 218/218 [00:00<00:00, 522.74it/s]\n",
            "  0%|          | 1/875 [00:00<02:28,  5.87it/s]"
          ],
          "name": "stderr"
        },
        {
          "output_type": "stream",
          "text": [
            "TRAIN | AE Loss:  345.58432  | Recons:  345.57755  | L2_loss:  6800.552\n",
            "VALID | AE Loss:  367.47714  | Recons:  367.47034\n",
            "total loss Patience count:  3\n",
            "EPOCH:  78\n"
          ],
          "name": "stdout"
        },
        {
          "output_type": "stream",
          "text": [
            "100%|██████████| 875/875 [00:02<00:00, 300.92it/s]\n",
            "100%|██████████| 218/218 [00:00<00:00, 538.98it/s]\n",
            "  0%|          | 1/875 [00:00<02:29,  5.86it/s]"
          ],
          "name": "stderr"
        },
        {
          "output_type": "stream",
          "text": [
            "TRAIN | AE Loss:  345.44498  | Recons:  345.43814  | L2_loss:  6837.393\n",
            "VALID | AE Loss:  367.1599  | Recons:  367.153\n",
            "EPOCH:  79\n"
          ],
          "name": "stdout"
        },
        {
          "output_type": "stream",
          "text": [
            "100%|██████████| 875/875 [00:02<00:00, 302.04it/s]\n",
            "100%|██████████| 218/218 [00:00<00:00, 531.16it/s]\n",
            "  0%|          | 1/875 [00:00<02:27,  5.92it/s]"
          ],
          "name": "stderr"
        },
        {
          "output_type": "stream",
          "text": [
            "TRAIN | AE Loss:  345.19568  | Recons:  345.18878  | L2_loss:  6874.0513\n",
            "VALID | AE Loss:  367.1961  | Recons:  367.1892\n",
            "total loss Patience count:  1\n",
            "EPOCH:  80\n"
          ],
          "name": "stdout"
        },
        {
          "output_type": "stream",
          "text": [
            "100%|██████████| 875/875 [00:02<00:00, 303.34it/s]\n",
            "100%|██████████| 218/218 [00:00<00:00, 537.61it/s]\n"
          ],
          "name": "stderr"
        },
        {
          "output_type": "stream",
          "text": [
            "TRAIN | AE Loss:  344.891  | Recons:  344.88416  | L2_loss:  6910.537\n",
            "VALID | AE Loss:  367.38403  | Recons:  367.37708\n",
            "Saving model...\n",
            "Model saved\n",
            "Generating W space ...\n",
            "Loading model checkpoint experiments//AE_mnist_latent_dim3_h_dim500_h_nl3/-70875 ...\n",
            "\n",
            "INFO:tensorflow:Restoring parameters from experiments//AE_mnist_latent_dim3_h_dim500_h_nl3/-70875\n"
          ],
          "name": "stdout"
        },
        {
          "output_type": "stream",
          "text": [
            "  5%|▍         | 43/875 [00:00<00:01, 429.32it/s]"
          ],
          "name": "stderr"
        },
        {
          "output_type": "stream",
          "text": [
            "Model loaded\n",
            "EPOCHS trained:  80\n"
          ],
          "name": "stdout"
        },
        {
          "output_type": "stream",
          "text": [
            "100%|██████████| 875/875 [00:00<00:00, 947.19it/s]\n"
          ],
          "name": "stderr"
        },
        {
          "output_type": "stream",
          "text": [
            "W space dimensions: (56000, 2)\n",
            "Ploting W space ...\n"
          ],
          "name": "stdout"
        },
        {
          "output_type": "stream",
          "text": [
            "  1%|          | 435/56000 [00:00<00:12, 4349.66it/s]"
          ],
          "name": "stderr"
        },
        {
          "output_type": "stream",
          "text": [
            "data size (56000, 2)\n"
          ],
          "name": "stdout"
        },
        {
          "output_type": "stream",
          "text": [
            "100%|██████████| 56000/56000 [00:18<00:00, 3043.18it/s]\n"
          ],
          "name": "stderr"
        },
        {
          "output_type": "stream",
          "text": [
            "Saving Image experiments//AE_mnist_latent_dim3_h_dim500_h_nl3/AE_mnist_latent_dim3_h_dim500_h_nl3 W space in epoch 80.jpg ...\n",
            "W space dimensions: (56000, 3)\n",
            "Ploting W space ...\n"
          ],
          "name": "stdout"
        },
        {
          "output_type": "stream",
          "text": [
            "100%|██████████| 10/10 [00:00<00:00, 58.50it/s]"
          ],
          "name": "stderr"
        },
        {
          "output_type": "stream",
          "text": [
            "data size (56000, 3)\n"
          ],
          "name": "stdout"
        },
        {
          "output_type": "stream",
          "text": [
            "\n"
          ],
          "name": "stderr"
        },
        {
          "output_type": "stream",
          "text": [
            "Saving Image experiments//AE_mnist_latent_dim3_h_dim500_h_nl3/AE_mnist_latent_dim3_h_dim500_h_nl3 W space 3d in epoch 80.jpg ...\n",
            "Generating Samples ...\n",
            "Loading model checkpoint experiments//AE_mnist_latent_dim3_h_dim500_h_nl3/-70875 ...\n",
            "\n",
            "INFO:tensorflow:Restoring parameters from experiments//AE_mnist_latent_dim3_h_dim500_h_nl3/-70875\n"
          ],
          "name": "stdout"
        },
        {
          "output_type": "stream",
          "text": [
            "2it [00:00, 49.83it/s]               "
          ],
          "name": "stderr"
        },
        {
          "output_type": "stream",
          "text": [
            "Model loaded\n",
            "EPOCHS trained:  80\n",
            "Loading model checkpoint experiments//AE_mnist_latent_dim3_h_dim500_h_nl3/-70875 ...\n",
            "\n",
            "INFO:tensorflow:Restoring parameters from experiments//AE_mnist_latent_dim3_h_dim500_h_nl3/-70875\n"
          ],
          "name": "stdout"
        },
        {
          "output_type": "stream",
          "text": [
            "\n",
            "2it [00:00, 70.49it/s]               "
          ],
          "name": "stderr"
        },
        {
          "output_type": "stream",
          "text": [
            "Model loaded\n",
            "EPOCHS trained:  80\n"
          ],
          "name": "stdout"
        },
        {
          "output_type": "stream",
          "text": [
            "\n"
          ],
          "name": "stderr"
        },
        {
          "output_type": "stream",
          "text": [
            "Saving Image  experiments//AE_mnist_latent_dim3_h_dim500_h_nl3/AE_mnist_latent_dim3_h_dim500_h_nl3 samples generation in epoch 80.jpg\n",
            "Generating W space ...\n",
            "Loading model checkpoint experiments//AE_mnist_latent_dim3_h_dim500_h_nl3/-70875 ...\n",
            "\n",
            "INFO:tensorflow:Restoring parameters from experiments//AE_mnist_latent_dim3_h_dim500_h_nl3/-70875\n"
          ],
          "name": "stdout"
        },
        {
          "output_type": "stream",
          "text": [
            "  6%|▌         | 54/875 [00:00<00:01, 535.68it/s]"
          ],
          "name": "stderr"
        },
        {
          "output_type": "stream",
          "text": [
            "Model loaded\n",
            "EPOCHS trained:  80\n"
          ],
          "name": "stdout"
        },
        {
          "output_type": "stream",
          "text": [
            "100%|██████████| 875/875 [00:01<00:00, 843.26it/s]\n"
          ],
          "name": "stderr"
        },
        {
          "output_type": "stream",
          "text": [
            "Init 1/3 with method: k-means++\n",
            "Inertia for init 1/3: 101406.351562\n",
            "Init 2/3 with method: k-means++\n",
            "Inertia for init 2/3: 104412.015625\n",
            "Init 3/3 with method: k-means++\n",
            "Inertia for init 3/3: 114408.945312\n",
            "Minibatch iteration 1/56000: mean batch inertia: 352.939727, ewa inertia: 352.939727 \n",
            "Minibatch iteration 2/56000: mean batch inertia: 320.905605, ewa inertia: 352.825321 \n",
            "Minibatch iteration 3/56000: mean batch inertia: 343.100898, ewa inertia: 352.790592 \n",
            "Minibatch iteration 4/56000: mean batch inertia: 312.638691, ewa inertia: 352.647194 \n",
            "Minibatch iteration 5/56000: mean batch inertia: 371.780156, ewa inertia: 352.715525 \n",
            "Minibatch iteration 6/56000: mean batch inertia: 343.007070, ewa inertia: 352.680853 \n",
            "Minibatch iteration 7/56000: mean batch inertia: 392.810156, ewa inertia: 352.824169 \n",
            "Minibatch iteration 8/56000: mean batch inertia: 380.518047, ewa inertia: 352.923074 \n",
            "Minibatch iteration 9/56000: mean batch inertia: 398.007617, ewa inertia: 353.084088 \n",
            "Minibatch iteration 10/56000: mean batch inertia: 363.200703, ewa inertia: 353.120218 \n",
            "Minibatch iteration 11/56000: mean batch inertia: 377.400508, ewa inertia: 353.206931 \n",
            "Minibatch iteration 12/56000: mean batch inertia: 402.183438, ewa inertia: 353.381844 \n",
            "Minibatch iteration 13/56000: mean batch inertia: 332.907305, ewa inertia: 353.308722 \n",
            "Minibatch iteration 14/56000: mean batch inertia: 363.001875, ewa inertia: 353.343340 \n",
            "Converged (lack of improvement in inertia) at iteration 14/56000\n",
            "Computing label assignment and total inertia\n",
            "Loading model checkpoint experiments//AE_mnist_latent_dim3_h_dim500_h_nl3/-70875 ...\n",
            "\n",
            "INFO:tensorflow:Restoring parameters from experiments//AE_mnist_latent_dim3_h_dim500_h_nl3/-70875\n"
          ],
          "name": "stdout"
        },
        {
          "output_type": "stream",
          "text": [
            "\r  0%|          | 0/218 [00:00<?, ?it/s]"
          ],
          "name": "stderr"
        },
        {
          "output_type": "stream",
          "text": [
            "Model loaded\n",
            "EPOCHS trained:  80\n"
          ],
          "name": "stdout"
        },
        {
          "output_type": "stream",
          "text": [
            "219it [00:00, 753.14it/s]                         \n"
          ],
          "name": "stderr"
        },
        {
          "output_type": "stream",
          "text": [
            "Init 1/3 with method: k-means++\n",
            "Inertia for init 1/3: 107401.593750\n",
            "Init 2/3 with method: k-means++\n",
            "Inertia for init 2/3: 105655.140625\n",
            "Init 3/3 with method: k-means++\n",
            "Inertia for init 3/3: 96345.218750\n",
            "Minibatch iteration 1/14000: mean batch inertia: 370.577969, ewa inertia: 370.577969 \n",
            "Minibatch iteration 2/14000: mean batch inertia: 324.813984, ewa inertia: 369.924244 \n",
            "Minibatch iteration 3/14000: mean batch inertia: 265.475254, ewa inertia: 368.432222 \n",
            "Minibatch iteration 4/14000: mean batch inertia: 338.372773, ewa inertia: 368.002832 \n",
            "Minibatch iteration 5/14000: mean batch inertia: 334.282383, ewa inertia: 367.521146 \n",
            "Minibatch iteration 6/14000: mean batch inertia: 345.186172, ewa inertia: 367.202098 \n",
            "Minibatch iteration 7/14000: mean batch inertia: 361.440391, ewa inertia: 367.119794 \n",
            "Minibatch iteration 8/14000: mean batch inertia: 337.127656, ewa inertia: 366.691365 \n",
            "Minibatch iteration 9/14000: mean batch inertia: 309.633691, ewa inertia: 365.876314 \n",
            "Minibatch iteration 10/14000: mean batch inertia: 280.526660, ewa inertia: 364.657120 \n",
            "Minibatch iteration 11/14000: mean batch inertia: 373.364414, ewa inertia: 364.781501 \n",
            "Minibatch iteration 12/14000: mean batch inertia: 310.507871, ewa inertia: 364.006219 \n",
            "Minibatch iteration 13/14000: mean batch inertia: 329.540937, ewa inertia: 363.513893 \n",
            "Minibatch iteration 14/14000: mean batch inertia: 277.632832, ewa inertia: 362.287108 \n",
            "Minibatch iteration 15/14000: mean batch inertia: 294.732617, ewa inertia: 361.322113 \n",
            "Minibatch iteration 16/14000: mean batch inertia: 359.288477, ewa inertia: 361.293063 \n",
            "Minibatch iteration 17/14000: mean batch inertia: 327.965039, ewa inertia: 360.816982 \n",
            "Minibatch iteration 18/14000: mean batch inertia: 255.102891, ewa inertia: 359.306889 \n",
            "Minibatch iteration 19/14000: mean batch inertia: 331.725977, ewa inertia: 358.912904 \n",
            "Minibatch iteration 20/14000: mean batch inertia: 329.614688, ewa inertia: 358.494388 \n",
            "Minibatch iteration 21/14000: mean batch inertia: 301.377773, ewa inertia: 357.678495 \n",
            "Minibatch iteration 22/14000: mean batch inertia: 270.566504, ewa inertia: 356.434127 \n",
            "Minibatch iteration 23/14000: mean batch inertia: 290.331367, ewa inertia: 355.489869 \n",
            "Minibatch iteration 24/14000: mean batch inertia: 350.691367, ewa inertia: 355.421324 \n",
            "Minibatch iteration 25/14000: mean batch inertia: 313.653984, ewa inertia: 354.824690 \n",
            "Minibatch iteration 26/14000: mean batch inertia: 331.361016, ewa inertia: 354.489519 \n",
            "Minibatch iteration 27/14000: mean batch inertia: 335.804570, ewa inertia: 354.222610 \n",
            "Minibatch iteration 28/14000: mean batch inertia: 327.342773, ewa inertia: 353.838640 \n",
            "Minibatch iteration 29/14000: mean batch inertia: 397.016797, ewa inertia: 354.455426 \n",
            "Minibatch iteration 30/14000: mean batch inertia: 334.110547, ewa inertia: 354.164806 \n",
            "Minibatch iteration 31/14000: mean batch inertia: 326.400254, ewa inertia: 353.768198 \n",
            "Minibatch iteration 32/14000: mean batch inertia: 312.034277, ewa inertia: 353.172042 \n",
            "Minibatch iteration 33/14000: mean batch inertia: 376.941719, ewa inertia: 353.511584 \n",
            "Minibatch iteration 34/14000: mean batch inertia: 257.854648, ewa inertia: 352.145154 \n",
            "Minibatch iteration 35/14000: mean batch inertia: 240.119043, ewa inertia: 350.544895 \n",
            "Minibatch iteration 36/14000: mean batch inertia: 296.966563, ewa inertia: 349.779545 \n",
            "Minibatch iteration 37/14000: mean batch inertia: 304.260762, ewa inertia: 349.129323 \n",
            "Minibatch iteration 38/14000: mean batch inertia: 362.349727, ewa inertia: 349.318173 \n",
            "Minibatch iteration 39/14000: mean batch inertia: 318.423008, ewa inertia: 348.876845 \n",
            "Minibatch iteration 40/14000: mean batch inertia: 329.200391, ewa inertia: 348.595773 \n",
            "Minibatch iteration 41/14000: mean batch inertia: 309.666914, ewa inertia: 348.039686 \n",
            "Minibatch iteration 42/14000: mean batch inertia: 298.987734, ewa inertia: 347.338994 \n",
            "Minibatch iteration 43/14000: mean batch inertia: 306.897285, ewa inertia: 346.761296 \n",
            "Minibatch iteration 44/14000: mean batch inertia: 398.725273, ewa inertia: 347.503586 \n",
            "Minibatch iteration 45/14000: mean batch inertia: 315.606621, ewa inertia: 347.047947 \n",
            "Minibatch iteration 46/14000: mean batch inertia: 302.533184, ewa inertia: 346.412068 \n",
            "Minibatch iteration 47/14000: mean batch inertia: 296.666367, ewa inertia: 345.701466 \n",
            "Minibatch iteration 48/14000: mean batch inertia: 296.315332, ewa inertia: 344.996000 \n",
            "Minibatch iteration 49/14000: mean batch inertia: 321.156660, ewa inertia: 344.655462 \n",
            "Minibatch iteration 50/14000: mean batch inertia: 316.521406, ewa inertia: 344.253576 \n",
            "Minibatch iteration 51/14000: mean batch inertia: 274.640312, ewa inertia: 343.259172 \n",
            "Minibatch iteration 52/14000: mean batch inertia: 371.334648, ewa inertia: 343.660221 \n",
            "Minibatch iteration 53/14000: mean batch inertia: 333.608086, ewa inertia: 343.516630 \n",
            "Minibatch iteration 54/14000: mean batch inertia: 298.216211, ewa inertia: 342.869527 \n",
            "Minibatch iteration 55/14000: mean batch inertia: 300.613965, ewa inertia: 342.265919 \n",
            "Minibatch iteration 56/14000: mean batch inertia: 334.155664, ewa inertia: 342.150067 \n",
            "Minibatch iteration 57/14000: mean batch inertia: 292.920137, ewa inertia: 341.446832 \n",
            "Minibatch iteration 58/14000: mean batch inertia: 355.567305, ewa inertia: 341.648539 \n",
            "Minibatch iteration 59/14000: mean batch inertia: 324.825605, ewa inertia: 341.408228 \n",
            "Minibatch iteration 60/14000: mean batch inertia: 283.297734, ewa inertia: 340.578138 \n",
            "Minibatch iteration 61/14000: mean batch inertia: 312.968437, ewa inertia: 340.183742 \n",
            "Minibatch iteration 62/14000: mean batch inertia: 306.295313, ewa inertia: 339.699656 \n",
            "Minibatch iteration 63/14000: mean batch inertia: 313.971992, ewa inertia: 339.332144 \n",
            "Minibatch iteration 64/14000: mean batch inertia: 277.633242, ewa inertia: 338.450794 \n",
            "Minibatch iteration 65/14000: mean batch inertia: 297.392168, ewa inertia: 337.864284 \n",
            "Minibatch iteration 66/14000: mean batch inertia: 288.076973, ewa inertia: 337.153088 \n",
            "Minibatch iteration 67/14000: mean batch inertia: 351.513008, ewa inertia: 337.358215 \n",
            "Minibatch iteration 68/14000: mean batch inertia: 327.718047, ewa inertia: 337.220508 \n",
            "Minibatch iteration 69/14000: mean batch inertia: 281.803398, ewa inertia: 336.428891 \n",
            "Minibatch iteration 70/14000: mean batch inertia: 325.435762, ewa inertia: 336.271858 \n",
            "Minibatch iteration 71/14000: mean batch inertia: 334.881289, ewa inertia: 336.251994 \n",
            "Minibatch iteration 72/14000: mean batch inertia: 302.062734, ewa inertia: 335.763611 \n",
            "Minibatch iteration 73/14000: mean batch inertia: 393.942031, ewa inertia: 336.594672 \n",
            "Minibatch iteration 74/14000: mean batch inertia: 301.960098, ewa inertia: 336.099928 \n",
            "Minibatch iteration 75/14000: mean batch inertia: 339.471211, ewa inertia: 336.148085 \n",
            "Minibatch iteration 76/14000: mean batch inertia: 356.903867, ewa inertia: 336.444575 \n",
            "Minibatch iteration 77/14000: mean batch inertia: 274.085117, ewa inertia: 335.553790 \n",
            "Minibatch iteration 78/14000: mean batch inertia: 386.624570, ewa inertia: 336.283320 \n",
            "Minibatch iteration 79/14000: mean batch inertia: 326.432578, ewa inertia: 336.142605 \n",
            "Minibatch iteration 80/14000: mean batch inertia: 379.218437, ewa inertia: 336.757930 \n",
            "Minibatch iteration 81/14000: mean batch inertia: 287.597734, ewa inertia: 336.055692 \n",
            "Minibatch iteration 82/14000: mean batch inertia: 303.108633, ewa inertia: 335.585053 \n",
            "Minibatch iteration 83/14000: mean batch inertia: 312.439082, ewa inertia: 335.254420 \n",
            "Minibatch iteration 84/14000: mean batch inertia: 353.685313, ewa inertia: 335.517700 \n",
            "Minibatch iteration 85/14000: mean batch inertia: 316.194609, ewa inertia: 335.241675 \n",
            "Minibatch iteration 86/14000: mean batch inertia: 373.134414, ewa inertia: 335.782962 \n",
            "Minibatch iteration 87/14000: mean batch inertia: 265.117148, ewa inertia: 334.773522 \n",
            "Minibatch iteration 88/14000: mean batch inertia: 303.179551, ewa inertia: 334.322212 \n",
            "Minibatch iteration 89/14000: mean batch inertia: 321.180117, ewa inertia: 334.134481 \n",
            "Minibatch iteration 90/14000: mean batch inertia: 336.446641, ewa inertia: 334.167509 \n",
            "Minibatch iteration 91/14000: mean batch inertia: 326.090625, ewa inertia: 334.052134 \n",
            "Minibatch iteration 92/14000: mean batch inertia: 290.776895, ewa inertia: 333.433960 \n",
            "Minibatch iteration 93/14000: mean batch inertia: 297.183711, ewa inertia: 332.916136 \n",
            "Minibatch iteration 94/14000: mean batch inertia: 299.933574, ewa inertia: 332.444991 \n",
            "Minibatch iteration 95/14000: mean batch inertia: 326.011387, ewa inertia: 332.353089 \n",
            "Minibatch iteration 96/14000: mean batch inertia: 422.757227, ewa inertia: 333.644484 \n",
            "Minibatch iteration 97/14000: mean batch inertia: 356.954063, ewa inertia: 333.977454 \n",
            "Minibatch iteration 98/14000: mean batch inertia: 274.680586, ewa inertia: 333.130417 \n",
            "Minibatch iteration 99/14000: mean batch inertia: 327.633887, ewa inertia: 333.051900 \n",
            "Minibatch iteration 100/14000: mean batch inertia: 307.683691, ewa inertia: 332.689523 \n",
            "Minibatch iteration 101/14000: mean batch inertia: 355.337852, ewa inertia: 333.013048 \n",
            "Minibatch iteration 102/14000: mean batch inertia: 372.554414, ewa inertia: 333.577884 \n",
            "Minibatch iteration 103/14000: mean batch inertia: 322.881836, ewa inertia: 333.425094 \n",
            "Minibatch iteration 104/14000: mean batch inertia: 289.978848, ewa inertia: 332.804478 \n",
            "Minibatch iteration 105/14000: mean batch inertia: 355.386797, ewa inertia: 333.127059 \n",
            "Converged (lack of improvement in inertia) at iteration 105/14000\n",
            "Computing label assignment and total inertia\n",
            "TRAIN | kmeans Clustering Acc:  0.18067857142857144\n",
            "VALID | kmeans Clustering Acc:  0.0032142857142857142\n",
            "Loading model checkpoint experiments//AE_mnist_latent_dim3_h_dim500_h_nl3/-70875 ...\n",
            "\n",
            "INFO:tensorflow:Restoring parameters from experiments//AE_mnist_latent_dim3_h_dim500_h_nl3/-70875\n"
          ],
          "name": "stdout"
        },
        {
          "output_type": "stream",
          "text": [
            "  6%|▌         | 52/875 [00:00<00:01, 516.20it/s]"
          ],
          "name": "stderr"
        },
        {
          "output_type": "stream",
          "text": [
            "Model loaded\n",
            "EPOCHS trained:  80\n"
          ],
          "name": "stdout"
        },
        {
          "output_type": "stream",
          "text": [
            "100%|██████████| 875/875 [00:01<00:00, 828.33it/s]\n"
          ],
          "name": "stderr"
        },
        {
          "output_type": "stream",
          "text": [
            "Loading model checkpoint experiments//AE_mnist_latent_dim3_h_dim500_h_nl3/-70875 ...\n",
            "\n",
            "INFO:tensorflow:Restoring parameters from experiments//AE_mnist_latent_dim3_h_dim500_h_nl3/-70875\n",
            "Model loaded\n",
            "EPOCHS trained:  "
          ],
          "name": "stdout"
        },
        {
          "output_type": "stream",
          "text": [
            " 26%|██▌       | 56/218 [00:00<00:00, 551.48it/s]"
          ],
          "name": "stderr"
        },
        {
          "output_type": "stream",
          "text": [
            "80\n"
          ],
          "name": "stdout"
        },
        {
          "output_type": "stream",
          "text": [
            "219it [00:00, 745.78it/s]                         \n"
          ],
          "name": "stderr"
        },
        {
          "output_type": "stream",
          "text": [
            "TRAIN | hdbscan Clustering Acc:  0.19276785714285713\n",
            "VALID | hdbscan Clustering Acc: "
          ],
          "name": "stdout"
        },
        {
          "output_type": "stream",
          "text": [
            "  0%|          | 1/875 [00:00<02:28,  5.88it/s]"
          ],
          "name": "stderr"
        },
        {
          "output_type": "stream",
          "text": [
            " 0.059\n",
            "total loss Patience count:  2\n",
            "EPOCH:  81\n"
          ],
          "name": "stdout"
        },
        {
          "output_type": "stream",
          "text": [
            "100%|██████████| 875/875 [00:02<00:00, 293.78it/s]\n",
            "100%|██████████| 218/218 [00:00<00:00, 529.68it/s]\n",
            "  0%|          | 1/875 [00:00<02:30,  5.80it/s]"
          ],
          "name": "stderr"
        },
        {
          "output_type": "stream",
          "text": [
            "TRAIN | AE Loss:  344.65042  | Recons:  344.64343  | L2_loss:  6947.359\n",
            "VALID | AE Loss:  367.08307  | Recons:  367.07608\n",
            "EPOCH:  82\n"
          ],
          "name": "stdout"
        },
        {
          "output_type": "stream",
          "text": [
            "100%|██████████| 875/875 [00:02<00:00, 299.39it/s]\n",
            "100%|██████████| 218/218 [00:00<00:00, 516.32it/s]\n",
            "  0%|          | 1/875 [00:00<02:32,  5.71it/s]"
          ],
          "name": "stderr"
        },
        {
          "output_type": "stream",
          "text": [
            "TRAIN | AE Loss:  344.55984  | Recons:  344.5529  | L2_loss:  6984.3984\n",
            "VALID | AE Loss:  367.17755  | Recons:  367.1705\n",
            "total loss Patience count:  1\n",
            "EPOCH:  83\n"
          ],
          "name": "stdout"
        },
        {
          "output_type": "stream",
          "text": [
            "100%|██████████| 875/875 [00:02<00:00, 301.61it/s]\n",
            "100%|██████████| 218/218 [00:00<00:00, 532.56it/s]\n",
            "  0%|          | 1/875 [00:00<02:27,  5.91it/s]"
          ],
          "name": "stderr"
        },
        {
          "output_type": "stream",
          "text": [
            "TRAIN | AE Loss:  344.41315  | Recons:  344.40613  | L2_loss:  7021.0107\n",
            "VALID | AE Loss:  367.6544  | Recons:  367.64728\n",
            "total loss Patience count:  2\n",
            "EPOCH:  84\n"
          ],
          "name": "stdout"
        },
        {
          "output_type": "stream",
          "text": [
            "100%|██████████| 875/875 [00:02<00:00, 301.39it/s]\n",
            "100%|██████████| 218/218 [00:00<00:00, 546.51it/s]\n",
            "  0%|          | 1/875 [00:00<02:45,  5.29it/s]"
          ],
          "name": "stderr"
        },
        {
          "output_type": "stream",
          "text": [
            "TRAIN | AE Loss:  344.16763  | Recons:  344.1606  | L2_loss:  7058.34\n",
            "VALID | AE Loss:  367.30533  | Recons:  367.29825\n",
            "total loss Patience count:  3\n",
            "EPOCH:  85\n"
          ],
          "name": "stdout"
        },
        {
          "output_type": "stream",
          "text": [
            "100%|██████████| 875/875 [00:02<00:00, 301.53it/s]\n",
            "100%|██████████| 218/218 [00:00<00:00, 524.94it/s]\n",
            "  0%|          | 1/875 [00:00<02:29,  5.85it/s]"
          ],
          "name": "stderr"
        },
        {
          "output_type": "stream",
          "text": [
            "TRAIN | AE Loss:  343.94208  | Recons:  343.935  | L2_loss:  7094.5093\n",
            "VALID | AE Loss:  367.2694  | Recons:  367.26233\n",
            "total loss Patience count:  4\n",
            "EPOCH:  86\n"
          ],
          "name": "stdout"
        },
        {
          "output_type": "stream",
          "text": [
            "100%|██████████| 875/875 [00:02<00:00, 303.17it/s]\n",
            "100%|██████████| 218/218 [00:00<00:00, 512.66it/s]\n",
            "  0%|          | 1/875 [00:00<02:29,  5.85it/s]"
          ],
          "name": "stderr"
        },
        {
          "output_type": "stream",
          "text": [
            "TRAIN | AE Loss:  343.72455  | Recons:  343.71744  | L2_loss:  7130.468\n",
            "VALID | AE Loss:  367.23514  | Recons:  367.22794\n",
            "total loss Patience count:  5\n",
            "EPOCH:  87\n"
          ],
          "name": "stdout"
        },
        {
          "output_type": "stream",
          "text": [
            "100%|██████████| 875/875 [00:02<00:00, 300.45it/s]\n",
            "100%|██████████| 218/218 [00:00<00:00, 523.51it/s]\n",
            "  0%|          | 1/875 [00:00<02:42,  5.38it/s]"
          ],
          "name": "stderr"
        },
        {
          "output_type": "stream",
          "text": [
            "TRAIN | AE Loss:  343.5912  | Recons:  343.584  | L2_loss:  7166.3433\n",
            "VALID | AE Loss:  367.69138  | Recons:  367.6842\n",
            "total loss Patience count:  6\n",
            "EPOCH:  88\n"
          ],
          "name": "stdout"
        },
        {
          "output_type": "stream",
          "text": [
            "100%|██████████| 875/875 [00:02<00:00, 299.26it/s]\n",
            "100%|██████████| 218/218 [00:00<00:00, 519.84it/s]\n",
            "  0%|          | 1/875 [00:00<02:31,  5.77it/s]"
          ],
          "name": "stderr"
        },
        {
          "output_type": "stream",
          "text": [
            "TRAIN | AE Loss:  343.39627  | Recons:  343.3891  | L2_loss:  7202.336\n",
            "VALID | AE Loss:  367.40198  | Recons:  367.39478\n",
            "total loss Patience count:  7\n",
            "EPOCH:  89\n"
          ],
          "name": "stdout"
        },
        {
          "output_type": "stream",
          "text": [
            "100%|██████████| 875/875 [00:02<00:00, 300.28it/s]\n",
            "100%|██████████| 218/218 [00:00<00:00, 502.17it/s]\n",
            "  0%|          | 0/875 [00:00<?, ?it/s]"
          ],
          "name": "stderr"
        },
        {
          "output_type": "stream",
          "text": [
            "TRAIN | AE Loss:  343.0865  | Recons:  343.07922  | L2_loss:  7238.358\n",
            "VALID | AE Loss:  367.3258  | Recons:  367.3185\n",
            "total loss Patience count:  8\n",
            "decaying learning rate ... \n",
            "new learning rate: 9.999999747378752e-06\n",
            "EPOCH:  90\n"
          ],
          "name": "stdout"
        },
        {
          "output_type": "stream",
          "text": [
            "100%|██████████| 875/875 [00:02<00:00, 302.73it/s]\n",
            "100%|██████████| 218/218 [00:00<00:00, 547.31it/s]\n",
            "  0%|          | 1/875 [00:00<02:32,  5.75it/s]"
          ],
          "name": "stderr"
        },
        {
          "output_type": "stream",
          "text": [
            "TRAIN | AE Loss:  342.97406  | Recons:  342.9668  | L2_loss:  7274.835\n",
            "VALID | AE Loss:  367.462  | Recons:  367.4547\n",
            "total loss Patience count:  9\n",
            "EPOCH:  91\n"
          ],
          "name": "stdout"
        },
        {
          "output_type": "stream",
          "text": [
            "100%|██████████| 875/875 [00:02<00:00, 302.51it/s]\n",
            "100%|██████████| 218/218 [00:00<00:00, 543.24it/s]\n",
            "  0%|          | 1/875 [00:00<02:28,  5.91it/s]"
          ],
          "name": "stderr"
        },
        {
          "output_type": "stream",
          "text": [
            "TRAIN | AE Loss:  342.8393  | Recons:  342.832  | L2_loss:  7310.481\n",
            "VALID | AE Loss:  367.44702  | Recons:  367.43973\n",
            "total loss Patience count:  10\n",
            "EPOCH:  92\n"
          ],
          "name": "stdout"
        },
        {
          "output_type": "stream",
          "text": [
            "100%|██████████| 875/875 [00:02<00:00, 302.34it/s]\n",
            "100%|██████████| 218/218 [00:00<00:00, 502.94it/s]\n",
            "  0%|          | 1/875 [00:00<02:28,  5.88it/s]"
          ],
          "name": "stderr"
        },
        {
          "output_type": "stream",
          "text": [
            "TRAIN | AE Loss:  342.62103  | Recons:  342.6137  | L2_loss:  7345.923\n",
            "VALID | AE Loss:  367.585  | Recons:  367.5777\n",
            "total loss Patience count:  11\n",
            "EPOCH:  93\n"
          ],
          "name": "stdout"
        },
        {
          "output_type": "stream",
          "text": [
            "100%|██████████| 875/875 [00:02<00:00, 301.86it/s]\n",
            "100%|██████████| 218/218 [00:00<00:00, 532.68it/s]\n",
            "  0%|          | 1/875 [00:00<02:32,  5.72it/s]"
          ],
          "name": "stderr"
        },
        {
          "output_type": "stream",
          "text": [
            "TRAIN | AE Loss:  342.49408  | Recons:  342.48672  | L2_loss:  7381.2754\n",
            "VALID | AE Loss:  367.42117  | Recons:  367.4137\n",
            "total loss Patience count:  12\n",
            "EPOCH:  94\n"
          ],
          "name": "stdout"
        },
        {
          "output_type": "stream",
          "text": [
            "100%|██████████| 875/875 [00:02<00:00, 299.64it/s]\n",
            "100%|██████████| 218/218 [00:00<00:00, 514.90it/s]\n",
            "  0%|          | 1/875 [00:00<02:30,  5.83it/s]"
          ],
          "name": "stderr"
        },
        {
          "output_type": "stream",
          "text": [
            "TRAIN | AE Loss:  342.32257  | Recons:  342.3152  | L2_loss:  7417.1987\n",
            "VALID | AE Loss:  367.79312  | Recons:  367.78564\n",
            "total loss Patience count:  13\n",
            "EPOCH:  95\n"
          ],
          "name": "stdout"
        },
        {
          "output_type": "stream",
          "text": [
            "100%|██████████| 875/875 [00:02<00:00, 317.42it/s]\n",
            "100%|██████████| 218/218 [00:00<00:00, 526.57it/s]\n",
            "  0%|          | 1/875 [00:00<02:45,  5.29it/s]"
          ],
          "name": "stderr"
        },
        {
          "output_type": "stream",
          "text": [
            "TRAIN | AE Loss:  342.21875  | Recons:  342.21127  | L2_loss:  7452.1978\n",
            "VALID | AE Loss:  367.48782  | Recons:  367.48035\n",
            "total loss Patience count:  14\n",
            "EPOCH:  96\n"
          ],
          "name": "stdout"
        },
        {
          "output_type": "stream",
          "text": [
            "100%|██████████| 875/875 [00:02<00:00, 294.69it/s]\n",
            "100%|██████████| 218/218 [00:00<00:00, 523.15it/s]\n",
            "  0%|          | 1/875 [00:00<02:31,  5.78it/s]"
          ],
          "name": "stderr"
        },
        {
          "output_type": "stream",
          "text": [
            "TRAIN | AE Loss:  341.93536  | Recons:  341.92786  | L2_loss:  7487.2715\n",
            "VALID | AE Loss:  367.40814  | Recons:  367.40067\n",
            "total loss Patience count:  15\n",
            "EPOCH:  97\n"
          ],
          "name": "stdout"
        },
        {
          "output_type": "stream",
          "text": [
            "100%|██████████| 875/875 [00:02<00:00, 295.52it/s]\n",
            "100%|██████████| 218/218 [00:00<00:00, 547.57it/s]\n"
          ],
          "name": "stderr"
        },
        {
          "output_type": "stream",
          "text": [
            "TRAIN | AE Loss:  341.77835  | Recons:  341.77078  | L2_loss:  7522.672\n",
            "VALID | AE Loss:  367.7206  | Recons:  367.71307\n",
            "total loss Patience count:  16\n",
            "Early Stopping!\n",
            "Saving model...\n",
            "WARNING:tensorflow:From /usr/local/lib/python3.6/dist-packages/tensorflow/python/training/saver.py:966: remove_checkpoint (from tensorflow.python.training.checkpoint_management) is deprecated and will be removed in a future version.\n",
            "Instructions for updating:\n",
            "Use standard file APIs to delete files with this prefix.\n",
            "Model saved\n",
            "Generating W space ...\n",
            "Loading model checkpoint experiments//AE_mnist_latent_dim3_h_dim500_h_nl3/-85750 ...\n",
            "\n",
            "INFO:tensorflow:Restoring parameters from experiments//AE_mnist_latent_dim3_h_dim500_h_nl3/-85750\n"
          ],
          "name": "stdout"
        },
        {
          "output_type": "stream",
          "text": [
            "  6%|▌         | 52/875 [00:00<00:01, 515.58it/s]"
          ],
          "name": "stderr"
        },
        {
          "output_type": "stream",
          "text": [
            "Model loaded\n",
            "EPOCHS trained:  98\n"
          ],
          "name": "stdout"
        },
        {
          "output_type": "stream",
          "text": [
            "100%|██████████| 875/875 [00:00<00:00, 939.13it/s]\n"
          ],
          "name": "stderr"
        },
        {
          "output_type": "stream",
          "text": [
            "W space dimensions: (56000, 2)\n",
            "Ploting W space ...\n"
          ],
          "name": "stdout"
        },
        {
          "output_type": "stream",
          "text": [
            "  1%|          | 428/56000 [00:00<00:13, 4274.50it/s]"
          ],
          "name": "stderr"
        },
        {
          "output_type": "stream",
          "text": [
            "data size (56000, 2)\n"
          ],
          "name": "stdout"
        },
        {
          "output_type": "stream",
          "text": [
            "100%|██████████| 56000/56000 [00:13<00:00, 4153.07it/s]\n"
          ],
          "name": "stderr"
        },
        {
          "output_type": "stream",
          "text": [
            "Saving Image experiments//AE_mnist_latent_dim3_h_dim500_h_nl3/AE_mnist_latent_dim3_h_dim500_h_nl3 W space in epoch 97.jpg ...\n",
            "W space dimensions: (56000, 3)\n",
            "Ploting W space ...\n"
          ],
          "name": "stdout"
        },
        {
          "output_type": "stream",
          "text": [
            "100%|██████████| 10/10 [00:00<00:00, 61.83it/s]"
          ],
          "name": "stderr"
        },
        {
          "output_type": "stream",
          "text": [
            "data size (56000, 3)\n",
            "Saving Image experiments//AE_mnist_latent_dim3_h_dim500_h_nl3/AE_mnist_latent_dim3_h_dim500_h_nl3 W space 3d in epoch 97.jpg ...\n"
          ],
          "name": "stdout"
        },
        {
          "output_type": "stream",
          "text": [
            "\n"
          ],
          "name": "stderr"
        },
        {
          "output_type": "stream",
          "text": [
            "Generating Samples ...\n",
            "Loading model checkpoint experiments//AE_mnist_latent_dim3_h_dim500_h_nl3/-85750 ...\n",
            "\n",
            "INFO:tensorflow:Restoring parameters from experiments//AE_mnist_latent_dim3_h_dim500_h_nl3/-85750\n"
          ],
          "name": "stdout"
        },
        {
          "output_type": "stream",
          "text": [
            "2it [00:00, 40.39it/s]               "
          ],
          "name": "stderr"
        },
        {
          "output_type": "stream",
          "text": [
            "Model loaded\n",
            "EPOCHS trained:  98\n",
            "Loading model checkpoint experiments//AE_mnist_latent_dim3_h_dim500_h_nl3/-85750 ...\n",
            "\n",
            "INFO:tensorflow:Restoring parameters from experiments//AE_mnist_latent_dim3_h_dim500_h_nl3/-85750\n"
          ],
          "name": "stdout"
        },
        {
          "output_type": "stream",
          "text": [
            "\n",
            "2it [00:00, 67.86it/s]               "
          ],
          "name": "stderr"
        },
        {
          "output_type": "stream",
          "text": [
            "Model loaded\n",
            "EPOCHS trained:  98\n"
          ],
          "name": "stdout"
        },
        {
          "output_type": "stream",
          "text": [
            "\n"
          ],
          "name": "stderr"
        },
        {
          "output_type": "stream",
          "text": [
            "Saving Image  experiments//AE_mnist_latent_dim3_h_dim500_h_nl3/AE_mnist_latent_dim3_h_dim500_h_nl3 samples generation in epoch 97.jpg\n",
            "Generating W space ...\n",
            "Loading model checkpoint experiments//AE_mnist_latent_dim3_h_dim500_h_nl3/-85750 ...\n",
            "\n",
            "INFO:tensorflow:Restoring parameters from experiments//AE_mnist_latent_dim3_h_dim500_h_nl3/-85750\n"
          ],
          "name": "stdout"
        },
        {
          "output_type": "stream",
          "text": [
            "  6%|▌         | 51/875 [00:00<00:01, 507.91it/s]"
          ],
          "name": "stderr"
        },
        {
          "output_type": "stream",
          "text": [
            "Model loaded\n",
            "EPOCHS trained:  98\n"
          ],
          "name": "stdout"
        },
        {
          "output_type": "stream",
          "text": [
            "100%|██████████| 875/875 [00:01<00:00, 841.68it/s]\n"
          ],
          "name": "stderr"
        },
        {
          "output_type": "stream",
          "text": [
            "Init 1/3 with method: k-means++\n",
            "Inertia for init 1/3: 101912.062500\n",
            "Init 2/3 with method: k-means++\n",
            "Inertia for init 2/3: 100260.796875\n",
            "Init 3/3 with method: k-means++\n",
            "Inertia for init 3/3: 101704.812500\n",
            "Minibatch iteration 1/56000: mean batch inertia: 344.618242, ewa inertia: 344.618242 \n",
            "Minibatch iteration 2/56000: mean batch inertia: 298.560117, ewa inertia: 344.453752 \n",
            "Minibatch iteration 3/56000: mean batch inertia: 340.016875, ewa inertia: 344.437906 \n",
            "Minibatch iteration 4/56000: mean batch inertia: 305.032617, ewa inertia: 344.297175 \n",
            "Minibatch iteration 5/56000: mean batch inertia: 353.479922, ewa inertia: 344.329970 \n",
            "Minibatch iteration 6/56000: mean batch inertia: 342.131406, ewa inertia: 344.322119 \n",
            "Minibatch iteration 7/56000: mean batch inertia: 342.582812, ewa inertia: 344.315907 \n",
            "Minibatch iteration 8/56000: mean batch inertia: 281.886035, ewa inertia: 344.092947 \n",
            "Minibatch iteration 9/56000: mean batch inertia: 385.873086, ewa inertia: 344.242159 \n",
            "Minibatch iteration 10/56000: mean batch inertia: 345.116758, ewa inertia: 344.245283 \n",
            "Minibatch iteration 11/56000: mean batch inertia: 356.253906, ewa inertia: 344.288170 \n",
            "Minibatch iteration 12/56000: mean batch inertia: 409.977891, ewa inertia: 344.522772 \n",
            "Minibatch iteration 13/56000: mean batch inertia: 352.616797, ewa inertia: 344.551678 \n",
            "Minibatch iteration 14/56000: mean batch inertia: 325.799883, ewa inertia: 344.484709 \n",
            "Minibatch iteration 15/56000: mean batch inertia: 347.127148, ewa inertia: 344.494146 \n",
            "Minibatch iteration 16/56000: mean batch inertia: 338.239961, ewa inertia: 344.471810 \n",
            "Minibatch iteration 17/56000: mean batch inertia: 406.869375, ewa inertia: 344.694655 \n",
            "Minibatch iteration 18/56000: mean batch inertia: 363.369453, ewa inertia: 344.761349 \n",
            "Converged (lack of improvement in inertia) at iteration 18/56000\n",
            "Computing label assignment and total inertia\n",
            "Loading model checkpoint experiments//AE_mnist_latent_dim3_h_dim500_h_nl3/-85750 ...\n",
            "\n",
            "INFO:tensorflow:Restoring parameters from experiments//AE_mnist_latent_dim3_h_dim500_h_nl3/-85750\n",
            "Model loaded\n"
          ],
          "name": "stdout"
        },
        {
          "output_type": "stream",
          "text": [
            " 22%|██▏       | 47/218 [00:00<00:00, 465.87it/s]"
          ],
          "name": "stderr"
        },
        {
          "output_type": "stream",
          "text": [
            "EPOCHS trained:  98\n"
          ],
          "name": "stdout"
        },
        {
          "output_type": "stream",
          "text": [
            "219it [00:00, 696.34it/s]                         \n"
          ],
          "name": "stderr"
        },
        {
          "output_type": "stream",
          "text": [
            "Init 1/3 with method: k-means++\n",
            "Inertia for init 1/3: 112950.281250\n",
            "Init 2/3 with method: k-means++\n",
            "Inertia for init 2/3: 102828.828125\n",
            "Init 3/3 with method: k-means++\n",
            "Inertia for init 3/3: 104583.726562\n",
            "Minibatch iteration 1/14000: mean batch inertia: 350.882109, ewa inertia: 350.882109 \n",
            "Minibatch iteration 2/14000: mean batch inertia: 426.983398, ewa inertia: 351.969193 \n",
            "Minibatch iteration 3/14000: mean batch inertia: 387.094453, ewa inertia: 352.470947 \n",
            "Minibatch iteration 4/14000: mean batch inertia: 344.773047, ewa inertia: 352.360984 \n",
            "Minibatch iteration 5/14000: mean batch inertia: 370.231211, ewa inertia: 352.616255 \n",
            "Minibatch iteration 6/14000: mean batch inertia: 364.572930, ewa inertia: 352.787053 \n",
            "Minibatch iteration 7/14000: mean batch inertia: 267.088672, ewa inertia: 351.562877 \n",
            "Minibatch iteration 8/14000: mean batch inertia: 330.286133, ewa inertia: 351.258946 \n",
            "Minibatch iteration 9/14000: mean batch inertia: 336.005625, ewa inertia: 351.041057 \n",
            "Minibatch iteration 10/14000: mean batch inertia: 286.208672, ewa inertia: 350.114946 \n",
            "Minibatch iteration 11/14000: mean batch inertia: 329.834687, ewa inertia: 349.825249 \n",
            "Minibatch iteration 12/14000: mean batch inertia: 337.101758, ewa inertia: 349.643497 \n",
            "Minibatch iteration 13/14000: mean batch inertia: 331.813281, ewa inertia: 349.388798 \n",
            "Minibatch iteration 14/14000: mean batch inertia: 320.363750, ewa inertia: 348.974184 \n",
            "Minibatch iteration 15/14000: mean batch inertia: 346.067695, ewa inertia: 348.932666 \n",
            "Minibatch iteration 16/14000: mean batch inertia: 382.932852, ewa inertia: 349.418348 \n",
            "Minibatch iteration 17/14000: mean batch inertia: 305.577051, ewa inertia: 348.792089 \n",
            "Minibatch iteration 18/14000: mean batch inertia: 312.524668, ewa inertia: 348.274020 \n",
            "Minibatch iteration 19/14000: mean batch inertia: 351.435391, ewa inertia: 348.319179 \n",
            "Minibatch iteration 20/14000: mean batch inertia: 269.641289, ewa inertia: 347.195289 \n",
            "Minibatch iteration 21/14000: mean batch inertia: 348.502930, ewa inertia: 347.213969 \n",
            "Minibatch iteration 22/14000: mean batch inertia: 359.483672, ewa inertia: 347.389238 \n",
            "Minibatch iteration 23/14000: mean batch inertia: 308.102402, ewa inertia: 346.828037 \n",
            "Minibatch iteration 24/14000: mean batch inertia: 279.084590, ewa inertia: 345.860343 \n",
            "Minibatch iteration 25/14000: mean batch inertia: 327.934883, ewa inertia: 345.604283 \n",
            "Minibatch iteration 26/14000: mean batch inertia: 328.390625, ewa inertia: 345.358391 \n",
            "Minibatch iteration 27/14000: mean batch inertia: 358.909336, ewa inertia: 345.551962 \n",
            "Minibatch iteration 28/14000: mean batch inertia: 297.515840, ewa inertia: 344.865781 \n",
            "Minibatch iteration 29/14000: mean batch inertia: 281.416074, ewa inertia: 343.959421 \n",
            "Minibatch iteration 30/14000: mean batch inertia: 328.953008, ewa inertia: 343.745059 \n",
            "Minibatch iteration 31/14000: mean batch inertia: 303.160000, ewa inertia: 343.165314 \n",
            "Minibatch iteration 32/14000: mean batch inertia: 317.627871, ewa inertia: 342.800520 \n",
            "Minibatch iteration 33/14000: mean batch inertia: 283.330020, ewa inertia: 341.951002 \n",
            "Minibatch iteration 34/14000: mean batch inertia: 342.473477, ewa inertia: 341.958465 \n",
            "Minibatch iteration 35/14000: mean batch inertia: 348.424141, ewa inertia: 342.050825 \n",
            "Minibatch iteration 36/14000: mean batch inertia: 336.377031, ewa inertia: 341.969777 \n",
            "Minibatch iteration 37/14000: mean batch inertia: 342.915078, ewa inertia: 341.983280 \n",
            "Minibatch iteration 38/14000: mean batch inertia: 358.851250, ewa inertia: 342.224234 \n",
            "Minibatch iteration 39/14000: mean batch inertia: 276.483047, ewa inertia: 341.285141 \n",
            "Minibatch iteration 40/14000: mean batch inertia: 353.920625, ewa inertia: 341.465635 \n",
            "Minibatch iteration 41/14000: mean batch inertia: 329.713320, ewa inertia: 341.297757 \n",
            "Minibatch iteration 42/14000: mean batch inertia: 326.455039, ewa inertia: 341.085733 \n",
            "Minibatch iteration 43/14000: mean batch inertia: 308.424297, ewa inertia: 340.619175 \n",
            "Minibatch iteration 44/14000: mean batch inertia: 284.504961, ewa inertia: 339.817600 \n",
            "Minibatch iteration 45/14000: mean batch inertia: 332.080469, ewa inertia: 339.707078 \n",
            "Minibatch iteration 46/14000: mean batch inertia: 308.226582, ewa inertia: 339.257389 \n",
            "Minibatch iteration 47/14000: mean batch inertia: 350.087461, ewa inertia: 339.412093 \n",
            "Minibatch iteration 48/14000: mean batch inertia: 292.169297, ewa inertia: 338.737244 \n",
            "Minibatch iteration 49/14000: mean batch inertia: 291.974336, ewa inertia: 338.069250 \n",
            "Minibatch iteration 50/14000: mean batch inertia: 366.516992, ewa inertia: 338.475617 \n",
            "Minibatch iteration 51/14000: mean batch inertia: 319.318184, ewa inertia: 338.201959 \n",
            "Minibatch iteration 52/14000: mean batch inertia: 323.729277, ewa inertia: 337.995222 \n",
            "Minibatch iteration 53/14000: mean batch inertia: 362.599531, ewa inertia: 338.346687 \n",
            "Minibatch iteration 54/14000: mean batch inertia: 310.045449, ewa inertia: 337.942412 \n",
            "Minibatch iteration 55/14000: mean batch inertia: 363.553281, ewa inertia: 338.308255 \n",
            "Minibatch iteration 56/14000: mean batch inertia: 334.585117, ewa inertia: 338.255072 \n",
            "Minibatch iteration 57/14000: mean batch inertia: 304.787637, ewa inertia: 337.777000 \n",
            "Minibatch iteration 58/14000: mean batch inertia: 327.833281, ewa inertia: 337.634957 \n",
            "Minibatch iteration 59/14000: mean batch inertia: 305.301465, ewa inertia: 337.173083 \n",
            "Minibatch iteration 60/14000: mean batch inertia: 370.141523, ewa inertia: 337.644027 \n",
            "Minibatch iteration 61/14000: mean batch inertia: 325.058496, ewa inertia: 337.464246 \n",
            "Minibatch iteration 62/14000: mean batch inertia: 340.876641, ewa inertia: 337.512991 \n",
            "Minibatch iteration 63/14000: mean batch inertia: 346.273242, ewa inertia: 337.638129 \n",
            "Minibatch iteration 64/14000: mean batch inertia: 275.351641, ewa inertia: 336.748385 \n",
            "Minibatch iteration 65/14000: mean batch inertia: 320.087051, ewa inertia: 336.510383 \n",
            "Minibatch iteration 66/14000: mean batch inertia: 357.938164, ewa inertia: 336.816472 \n",
            "Minibatch iteration 67/14000: mean batch inertia: 299.394961, ewa inertia: 336.281918 \n",
            "Minibatch iteration 68/14000: mean batch inertia: 337.987852, ewa inertia: 336.306286 \n",
            "Minibatch iteration 69/14000: mean batch inertia: 282.039473, ewa inertia: 335.531102 \n",
            "Minibatch iteration 70/14000: mean batch inertia: 368.484102, ewa inertia: 336.001825 \n",
            "Minibatch iteration 71/14000: mean batch inertia: 345.593984, ewa inertia: 336.138846 \n",
            "Minibatch iteration 72/14000: mean batch inertia: 317.407891, ewa inertia: 335.871280 \n",
            "Minibatch iteration 73/14000: mean batch inertia: 355.816562, ewa inertia: 336.156192 \n",
            "Minibatch iteration 74/14000: mean batch inertia: 329.795234, ewa inertia: 336.065328 \n",
            "Minibatch iteration 75/14000: mean batch inertia: 283.234668, ewa inertia: 335.310658 \n",
            "Minibatch iteration 76/14000: mean batch inertia: 316.375977, ewa inertia: 335.040182 \n",
            "Minibatch iteration 77/14000: mean batch inertia: 254.640918, ewa inertia: 333.891703 \n",
            "Minibatch iteration 78/14000: mean batch inertia: 276.061621, ewa inertia: 333.065618 \n",
            "Minibatch iteration 79/14000: mean batch inertia: 329.771914, ewa inertia: 333.018569 \n",
            "Minibatch iteration 80/14000: mean batch inertia: 298.400762, ewa inertia: 332.524064 \n",
            "Minibatch iteration 81/14000: mean batch inertia: 357.547109, ewa inertia: 332.881510 \n",
            "Minibatch iteration 82/14000: mean batch inertia: 307.044336, ewa inertia: 332.512434 \n",
            "Minibatch iteration 83/14000: mean batch inertia: 307.434258, ewa inertia: 332.154200 \n",
            "Minibatch iteration 84/14000: mean batch inertia: 344.863906, ewa inertia: 332.335754 \n",
            "Minibatch iteration 85/14000: mean batch inertia: 297.077402, ewa inertia: 331.832100 \n",
            "Minibatch iteration 86/14000: mean batch inertia: 351.549648, ewa inertia: 332.113759 \n",
            "Minibatch iteration 87/14000: mean batch inertia: 318.165762, ewa inertia: 331.914516 \n",
            "Minibatch iteration 88/14000: mean batch inertia: 211.892969, ewa inertia: 330.200045 \n",
            "Minibatch iteration 89/14000: mean batch inertia: 267.156621, ewa inertia: 329.299489 \n",
            "Minibatch iteration 90/14000: mean batch inertia: 282.854805, ewa inertia: 328.636041 \n",
            "Minibatch iteration 91/14000: mean batch inertia: 283.141074, ewa inertia: 327.986159 \n",
            "Minibatch iteration 92/14000: mean batch inertia: 372.448984, ewa inertia: 328.621297 \n",
            "Minibatch iteration 93/14000: mean batch inertia: 330.724570, ewa inertia: 328.651342 \n",
            "Minibatch iteration 94/14000: mean batch inertia: 286.326387, ewa inertia: 328.046743 \n",
            "Minibatch iteration 95/14000: mean batch inertia: 336.783828, ewa inertia: 328.171549 \n",
            "Minibatch iteration 96/14000: mean batch inertia: 297.703789, ewa inertia: 327.736327 \n",
            "Minibatch iteration 97/14000: mean batch inertia: 268.521621, ewa inertia: 326.890463 \n",
            "Minibatch iteration 98/14000: mean batch inertia: 303.570352, ewa inertia: 326.557342 \n",
            "Minibatch iteration 99/14000: mean batch inertia: 335.690508, ewa inertia: 326.687806 \n",
            "Minibatch iteration 100/14000: mean batch inertia: 283.925137, ewa inertia: 326.076955 \n",
            "Minibatch iteration 101/14000: mean batch inertia: 257.356113, ewa inertia: 325.095299 \n",
            "Minibatch iteration 102/14000: mean batch inertia: 354.991562, ewa inertia: 325.522358 \n",
            "Minibatch iteration 103/14000: mean batch inertia: 319.427773, ewa inertia: 325.435298 \n",
            "Minibatch iteration 104/14000: mean batch inertia: 307.199414, ewa inertia: 325.174804 \n",
            "Minibatch iteration 105/14000: mean batch inertia: 287.150039, ewa inertia: 324.631632 \n",
            "Minibatch iteration 106/14000: mean batch inertia: 309.389746, ewa inertia: 324.413906 \n",
            "Minibatch iteration 107/14000: mean batch inertia: 367.836328, ewa inertia: 325.034182 \n",
            "Minibatch iteration 108/14000: mean batch inertia: 281.980449, ewa inertia: 324.419173 \n",
            "Minibatch iteration 109/14000: mean batch inertia: 284.668984, ewa inertia: 323.851354 \n",
            "Minibatch iteration 110/14000: mean batch inertia: 368.125273, ewa inertia: 324.483793 \n",
            "Minibatch iteration 111/14000: mean batch inertia: 312.043223, ewa inertia: 324.306083 \n",
            "Minibatch iteration 112/14000: mean batch inertia: 282.598379, ewa inertia: 323.710302 \n",
            "Minibatch iteration 113/14000: mean batch inertia: 303.627910, ewa inertia: 323.423431 \n",
            "Minibatch iteration 114/14000: mean batch inertia: 329.443125, ewa inertia: 323.509420 \n",
            "Minibatch iteration 115/14000: mean batch inertia: 334.361250, ewa inertia: 323.664435 \n",
            "Minibatch iteration 116/14000: mean batch inertia: 313.412734, ewa inertia: 323.517993 \n",
            "Minibatch iteration 117/14000: mean batch inertia: 293.262070, ewa inertia: 323.085796 \n",
            "Minibatch iteration 118/14000: mean batch inertia: 315.311113, ewa inertia: 322.974737 \n",
            "Minibatch iteration 119/14000: mean batch inertia: 360.249805, ewa inertia: 323.507200 \n",
            "Minibatch iteration 120/14000: mean batch inertia: 279.902207, ewa inertia: 322.884316 \n",
            "Minibatch iteration 121/14000: mean batch inertia: 341.436797, ewa inertia: 323.149333 \n",
            "Minibatch iteration 122/14000: mean batch inertia: 255.276211, ewa inertia: 322.179786 \n",
            "Minibatch iteration 123/14000: mean batch inertia: 295.409746, ewa inertia: 321.797384 \n",
            "Minibatch iteration 124/14000: mean batch inertia: 287.782793, ewa inertia: 321.311496 \n",
            "Minibatch iteration 125/14000: mean batch inertia: 337.304648, ewa inertia: 321.539954 \n",
            "Minibatch iteration 126/14000: mean batch inertia: 286.119785, ewa inertia: 321.033987 \n",
            "Minibatch iteration 127/14000: mean batch inertia: 345.756602, ewa inertia: 321.387142 \n",
            "Minibatch iteration 128/14000: mean batch inertia: 327.052637, ewa inertia: 321.468072 \n",
            "Minibatch iteration 129/14000: mean batch inertia: 369.696602, ewa inertia: 322.157002 \n",
            "Minibatch iteration 130/14000: mean batch inertia: 337.716563, ewa inertia: 322.379265 \n",
            "Minibatch iteration 131/14000: mean batch inertia: 320.832930, ewa inertia: 322.357176 \n",
            "Minibatch iteration 132/14000: mean batch inertia: 371.196914, ewa inertia: 323.054837 \n",
            "Minibatch iteration 133/14000: mean batch inertia: 336.054141, ewa inertia: 323.240528 \n",
            "Minibatch iteration 134/14000: mean batch inertia: 337.348711, ewa inertia: 323.442059 \n",
            "Minibatch iteration 135/14000: mean batch inertia: 383.180742, ewa inertia: 324.295408 \n",
            "Minibatch iteration 136/14000: mean batch inertia: 331.220664, ewa inertia: 324.394333 \n",
            "Converged (lack of improvement in inertia) at iteration 136/14000\n",
            "Computing label assignment and total inertia\n",
            "TRAIN | kmeans Clustering Acc:  0.075625\n",
            "VALID | kmeans Clustering Acc:  0.0064285714285714285\n",
            "Loading model checkpoint experiments//AE_mnist_latent_dim3_h_dim500_h_nl3/-85750 ...\n",
            "\n",
            "INFO:tensorflow:Restoring parameters from experiments//AE_mnist_latent_dim3_h_dim500_h_nl3/-85750\n"
          ],
          "name": "stdout"
        },
        {
          "output_type": "stream",
          "text": [
            "  6%|▌         | 50/875 [00:00<00:01, 499.20it/s]"
          ],
          "name": "stderr"
        },
        {
          "output_type": "stream",
          "text": [
            "Model loaded\n",
            "EPOCHS trained:  98\n"
          ],
          "name": "stdout"
        },
        {
          "output_type": "stream",
          "text": [
            "100%|██████████| 875/875 [00:01<00:00, 844.69it/s]\n"
          ],
          "name": "stderr"
        },
        {
          "output_type": "stream",
          "text": [
            "Loading model checkpoint experiments//AE_mnist_latent_dim3_h_dim500_h_nl3/-85750 ...\n",
            "\n",
            "INFO:tensorflow:Restoring parameters from experiments//AE_mnist_latent_dim3_h_dim500_h_nl3/-85750\n",
            "Model loaded\n"
          ],
          "name": "stdout"
        },
        {
          "output_type": "stream",
          "text": [
            " 20%|██        | 44/218 [00:00<00:00, 439.72it/s]"
          ],
          "name": "stderr"
        },
        {
          "output_type": "stream",
          "text": [
            "EPOCHS trained:  98\n"
          ],
          "name": "stdout"
        },
        {
          "output_type": "stream",
          "text": [
            "219it [00:00, 676.71it/s]                         \n"
          ],
          "name": "stderr"
        },
        {
          "output_type": "stream",
          "text": [
            "TRAIN | hdbscan Clustering Acc:  0.003785714285714286\n",
            "VALID | hdbscan Clustering Acc:  0.003142857142857143\n",
            "zip experiments AE_mnist_latent_dim3_h_dim500_h_nl3.zip ...\n",
            "uploading to google drive ...\n",
            "File ID: 1iXp0TeNjnSqwTo2S_MRIWN9Jas8_esIz\n"
          ],
          "name": "stdout"
        },
        {
          "output_type": "display_data",
          "data": {
            "image/png": "[encoded data removed]",
            "text/plain": [
              "<Figure size 432x288 with 1 Axes>"
            ]
          },
          "metadata": {
            "tags": []
          }
        }
      ]
    },
    {
      "cell_type": "markdown",
      "metadata": {
        "id": "xiD1iR8REJgb",
        "colab_type": "text"
      },
      "source": [
        ""
      ]
    },
    {
      "cell_type": "code",
      "metadata": {
        "id": "0sp0htQMw3ps",
        "colab_type": "code",
        "colab": {}
      },
      "source": [
        "from IPython.display import display, Image"
      ],
      "execution_count": 0,
      "outputs": []
    },
    {
      "cell_type": "code",
      "metadata": {
        "id": "ErS2Mja8w3pw",
        "colab_type": "code",
        "colab": {}
      },
      "source": [
        "imgs = ae.animate()"
      ],
      "execution_count": 0,
      "outputs": []
    },
    {
      "cell_type": "code",
      "metadata": {
        "id": "cqg5pJjPwhQ9",
        "colab_type": "code",
        "outputId": "be533879-0e88-4353-df89-5771600991d1",
        "colab": {
          "base_uri": "https://localhost:8080/",
          "height": 35
        }
      },
      "source": [
        "!ls experiments/AE_cifar10_latent_dim3_h_dim500_h_nl3"
      ],
      "execution_count": 0,
      "outputs": [
        {
          "output_type": "stream",
          "text": [
            "ls: cannot access 'experiments/AE_cifar10_latent_dim3_h_dim500_h_nl3': No such file or directory\n"
          ],
          "name": "stdout"
        }
      ]
    },
    {
      "cell_type": "code",
      "metadata": {
        "id": "bHVfoYAtv_nO",
        "colab_type": "code",
        "outputId": "b2ecae0a-5783-4107-98c7-817b46fcb284",
        "colab": {
          "base_uri": "https://localhost:8080/",
          "height": 127
        }
      },
      "source": [
        "ae.model.w_space_files"
      ],
      "execution_count": 0,
      "outputs": [
        {
          "output_type": "execute_result",
          "data": {
            "text/plain": [
              "['experiments//AE_mnist_latent_dim3_h_dim500_h_nl3/AE_mnist_latent_dim3_h_dim500_h_nl3 W space in epoch 1.jpg',\n",
              " 'experiments//AE_mnist_latent_dim3_h_dim500_h_nl3/AE_mnist_latent_dim3_h_dim500_h_nl3 W space in epoch 20.jpg',\n",
              " 'experiments//AE_mnist_latent_dim3_h_dim500_h_nl3/AE_mnist_latent_dim3_h_dim500_h_nl3 W space in epoch 40.jpg',\n",
              " 'experiments//AE_mnist_latent_dim3_h_dim500_h_nl3/AE_mnist_latent_dim3_h_dim500_h_nl3 W space in epoch 60.jpg',\n",
              " 'experiments//AE_mnist_latent_dim3_h_dim500_h_nl3/AE_mnist_latent_dim3_h_dim500_h_nl3 W space in epoch 80.jpg',\n",
              " 'experiments//AE_mnist_latent_dim3_h_dim500_h_nl3/AE_mnist_latent_dim3_h_dim500_h_nl3 W space in epoch 97.jpg']"
            ]
          },
          "metadata": {
            "tags": []
          },
          "execution_count": 12
        }
      ]
    },
    {
      "cell_type": "code",
      "metadata": {
        "id": "_LVXm6a6wp7m",
        "colab_type": "code",
        "colab": {}
      },
      "source": [
        "animates = ['experiments/AE_cifar10_latent_dim3_h_dim500_h_nl3/AE_cifar10_latent_dim3_h_dim500_h_nl3 W space 3d in epoch_res_animate.gif', 'experiments/AE_cifar10_latent_dim3_h_dim500_h_nl3/AE_cifar10_latent_dim3_h_dim500_h_nl3 samples generation in epoch_res_animate.gif', 'experiments/AE_cifar10_latent_dim3_h_dim500_h_nl3/AE_cifar10_latent_dim3_h_dim500_h_nl3 W space in epoch_res_animate.gif']"
      ],
      "execution_count": 0,
      "outputs": []
    },
    {
      "cell_type": "code",
      "metadata": {
        "id": "zbdtNDDHrZik",
        "colab_type": "code",
        "outputId": "c3d947ea-d5f0-4702-de3f-f145ba75da7e",
        "colab": {
          "base_uri": "https://localhost:8080/",
          "height": 418
        }
      },
      "source": [
        "import matplotlib.pyplot as plt\n",
        "import matplotlib.image as mpimg\n",
        "for animate in animates:\n",
        "  image = mpimg.imread(animate)\n",
        "  plt.imshow(image)\n",
        "  plt.show()\n",
        "\n"
      ],
      "execution_count": 0,
      "outputs": [
        {
          "output_type": "error",
          "ename": "FileNotFoundError",
          "evalue": "ignored",
          "traceback": [
            "\u001b[0;31m---------------------------------------------------------------------------\u001b[0m",
            "\u001b[0;31mFileNotFoundError\u001b[0m                         Traceback (most recent call last)",
            "\u001b[0;32m<ipython-input-14-5d45a613be87>\u001b[0m in \u001b[0;36m<module>\u001b[0;34m\u001b[0m\n\u001b[1;32m      2\u001b[0m \u001b[0;32mimport\u001b[0m \u001b[0mmatplotlib\u001b[0m\u001b[0;34m.\u001b[0m\u001b[0mimage\u001b[0m \u001b[0;32mas\u001b[0m \u001b[0mmpimg\u001b[0m\u001b[0;34m\u001b[0m\u001b[0;34m\u001b[0m\u001b[0m\n\u001b[1;32m      3\u001b[0m \u001b[0;32mfor\u001b[0m \u001b[0manimate\u001b[0m \u001b[0;32min\u001b[0m \u001b[0manimates\u001b[0m\u001b[0;34m:\u001b[0m\u001b[0;34m\u001b[0m\u001b[0;34m\u001b[0m\u001b[0m\n\u001b[0;32m----> 4\u001b[0;31m   \u001b[0mimage\u001b[0m \u001b[0;34m=\u001b[0m \u001b[0mmpimg\u001b[0m\u001b[0;34m.\u001b[0m\u001b[0mimread\u001b[0m\u001b[0;34m(\u001b[0m\u001b[0manimate\u001b[0m\u001b[0;34m)\u001b[0m\u001b[0;34m\u001b[0m\u001b[0;34m\u001b[0m\u001b[0m\n\u001b[0m\u001b[1;32m      5\u001b[0m   \u001b[0mplt\u001b[0m\u001b[0;34m.\u001b[0m\u001b[0mimshow\u001b[0m\u001b[0;34m(\u001b[0m\u001b[0mimage\u001b[0m\u001b[0;34m)\u001b[0m\u001b[0;34m\u001b[0m\u001b[0;34m\u001b[0m\u001b[0m\n\u001b[1;32m      6\u001b[0m   \u001b[0mplt\u001b[0m\u001b[0;34m.\u001b[0m\u001b[0mshow\u001b[0m\u001b[0;34m(\u001b[0m\u001b[0;34m)\u001b[0m\u001b[0;34m\u001b[0m\u001b[0;34m\u001b[0m\u001b[0m\n",
            "\u001b[0;32m/usr/local/lib/python3.6/dist-packages/matplotlib/image.py\u001b[0m in \u001b[0;36mimread\u001b[0;34m(fname, format)\u001b[0m\n\u001b[1;32m   1349\u001b[0m                              \u001b[0;34m'with Pillow installed matplotlib can handle '\u001b[0m\u001b[0;34m\u001b[0m\u001b[0;34m\u001b[0m\u001b[0m\n\u001b[1;32m   1350\u001b[0m                              'more images' % list(handlers))\n\u001b[0;32m-> 1351\u001b[0;31m         \u001b[0;32mwith\u001b[0m \u001b[0mImage\u001b[0m\u001b[0;34m.\u001b[0m\u001b[0mopen\u001b[0m\u001b[0;34m(\u001b[0m\u001b[0mfname\u001b[0m\u001b[0;34m)\u001b[0m \u001b[0;32mas\u001b[0m \u001b[0mimage\u001b[0m\u001b[0;34m:\u001b[0m\u001b[0;34m\u001b[0m\u001b[0;34m\u001b[0m\u001b[0m\n\u001b[0m\u001b[1;32m   1352\u001b[0m             \u001b[0;32mreturn\u001b[0m \u001b[0mpil_to_array\u001b[0m\u001b[0;34m(\u001b[0m\u001b[0mimage\u001b[0m\u001b[0;34m)\u001b[0m\u001b[0;34m\u001b[0m\u001b[0;34m\u001b[0m\u001b[0m\n\u001b[1;32m   1353\u001b[0m \u001b[0;34m\u001b[0m\u001b[0m\n",
            "\u001b[0;32m/usr/local/lib/python3.6/dist-packages/PIL/Image.py\u001b[0m in \u001b[0;36mopen\u001b[0;34m(fp, mode)\u001b[0m\n\u001b[1;32m   2528\u001b[0m \u001b[0;34m\u001b[0m\u001b[0m\n\u001b[1;32m   2529\u001b[0m     \u001b[0;32mif\u001b[0m \u001b[0mfilename\u001b[0m\u001b[0;34m:\u001b[0m\u001b[0;34m\u001b[0m\u001b[0;34m\u001b[0m\u001b[0m\n\u001b[0;32m-> 2530\u001b[0;31m         \u001b[0mfp\u001b[0m \u001b[0;34m=\u001b[0m \u001b[0mbuiltins\u001b[0m\u001b[0;34m.\u001b[0m\u001b[0mopen\u001b[0m\u001b[0;34m(\u001b[0m\u001b[0mfilename\u001b[0m\u001b[0;34m,\u001b[0m \u001b[0;34m\"rb\"\u001b[0m\u001b[0;34m)\u001b[0m\u001b[0;34m\u001b[0m\u001b[0;34m\u001b[0m\u001b[0m\n\u001b[0m\u001b[1;32m   2531\u001b[0m         \u001b[0mexclusive_fp\u001b[0m \u001b[0;34m=\u001b[0m \u001b[0;32mTrue\u001b[0m\u001b[0;34m\u001b[0m\u001b[0;34m\u001b[0m\u001b[0m\n\u001b[1;32m   2532\u001b[0m \u001b[0;34m\u001b[0m\u001b[0m\n",
            "\u001b[0;31mFileNotFoundError\u001b[0m: [Errno 2] No such file or directory: 'experiments/AE_cifar10_latent_dim3_h_dim500_h_nl3/AE_cifar10_latent_dim3_h_dim500_h_nl3 W space 3d in epoch_res_animate.gif'"
          ]
        }
      ]
    },
    {
      "cell_type": "code",
      "metadata": {
        "id": "_sR00ZQqw3p4",
        "colab_type": "code",
        "colab": {}
      },
      "source": [
        "import matplotlib.pyplot as plt"
      ],
      "execution_count": 0,
      "outputs": []
    },
    {
      "cell_type": "code",
      "metadata": {
        "id": "MuoyWfLtw3p6",
        "colab_type": "code",
        "colab": {}
      },
      "source": [
        "plt.imshow(X[0])\n",
        "plt.axis('off')"
      ],
      "execution_count": 0,
      "outputs": []
    },
    {
      "cell_type": "code",
      "metadata": {
        "scrolled": true,
        "id": "2Mj70Er6w3p-",
        "colab_type": "code",
        "outputId": "80d56673-9a90-470f-a2a5-a5b092c0c445",
        "colab": {
          "base_uri": "https://localhost:8080/",
          "height": 146
        }
      },
      "source": [
        "z1 = ae.encode(X[0:1])"
      ],
      "execution_count": 0,
      "outputs": [
        {
          "output_type": "stream",
          "text": [
            "Scaling dataset\n",
            "Loading model checkpoint experiments//AE_mnist_latent_dim3_h_dim500_h_nl3/-85750 ...\n",
            "\n",
            "INFO:tensorflow:Restoring parameters from experiments//AE_mnist_latent_dim3_h_dim500_h_nl3/-85750\n"
          ],
          "name": "stdout"
        },
        {
          "output_type": "stream",
          "text": [
            "1it [00:00, 15.39it/s]"
          ],
          "name": "stderr"
        },
        {
          "output_type": "stream",
          "text": [
            "Model loaded\n",
            "EPOCHS trained:  98\n"
          ],
          "name": "stdout"
        },
        {
          "output_type": "stream",
          "text": [
            "\n"
          ],
          "name": "stderr"
        }
      ]
    },
    {
      "cell_type": "code",
      "metadata": {
        "scrolled": true,
        "id": "GoLagF8Gw3qC",
        "colab_type": "code",
        "outputId": "279fa2fc-c1c3-45c6-a134-d0fba95dc219",
        "colab": {
          "base_uri": "https://localhost:8080/",
          "height": 35
        }
      },
      "source": [
        "z1.shape"
      ],
      "execution_count": 0,
      "outputs": [
        {
          "output_type": "execute_result",
          "data": {
            "text/plain": [
              "(1, 3)"
            ]
          },
          "metadata": {
            "tags": []
          },
          "execution_count": 16
        }
      ]
    },
    {
      "cell_type": "code",
      "metadata": {
        "id": "eDcKvEYisWkR",
        "colab_type": "code",
        "colab": {}
      },
      "source": [
        ""
      ],
      "execution_count": 0,
      "outputs": []
    },
    {
      "cell_type": "code",
      "metadata": {
        "id": "DyFA-IVKw3qG",
        "colab_type": "code",
        "outputId": "1256cd05-c2b8-418a-db7e-1db15c141e5e",
        "colab": {
          "base_uri": "https://localhost:8080/",
          "height": 127
        }
      },
      "source": [
        "x1_const = ae.decode(z1)"
      ],
      "execution_count": 0,
      "outputs": [
        {
          "output_type": "stream",
          "text": [
            "Loading model checkpoint experiments//AE_mnist_latent_dim3_h_dim500_h_nl3/-85750 ...\n",
            "\n",
            "INFO:tensorflow:Restoring parameters from experiments//AE_mnist_latent_dim3_h_dim500_h_nl3/-85750\n"
          ],
          "name": "stdout"
        },
        {
          "output_type": "stream",
          "text": [
            "1it [00:00, 28.46it/s]"
          ],
          "name": "stderr"
        },
        {
          "output_type": "stream",
          "text": [
            "Model loaded\n",
            "EPOCHS trained:  98\n"
          ],
          "name": "stdout"
        },
        {
          "output_type": "stream",
          "text": [
            "\n"
          ],
          "name": "stderr"
        }
      ]
    },
    {
      "cell_type": "code",
      "metadata": {
        "id": "10nr3J8Hw3qK",
        "colab_type": "code",
        "outputId": "13c13bff-518e-4e36-a343-c1bb4f01f2e0",
        "colab": {
          "base_uri": "https://localhost:8080/",
          "height": 283
        }
      },
      "source": [
        "plt.imshow(x1_const[0])\n",
        "plt.axis('off')"
      ],
      "execution_count": 0,
      "outputs": [
        {
          "output_type": "execute_result",
          "data": {
            "text/plain": [
              "(-0.5, 27.5, 27.5, -0.5)"
            ]
          },
          "metadata": {
            "tags": []
          },
          "execution_count": 18
        },
        {
          "output_type": "display_data",
          "data": {
            "image/png": "[encoded data removed]",
            "text/plain": [
              "<Figure size 432x288 with 1 Axes>"
            ]
          },
          "metadata": {
            "tags": []
          }
        }
      ]
    },
    {
      "cell_type": "code",
      "metadata": {
        "id": "b6Bq6fxlw3qN",
        "colab_type": "code",
        "outputId": "0097a699-0f2c-4757-d319-f64ae52bca8c",
        "colab": {
          "base_uri": "https://localhost:8080/",
          "height": 146
        }
      },
      "source": [
        "pred = ae.reconst_loss(X[0:100])"
      ],
      "execution_count": 0,
      "outputs": [
        {
          "output_type": "stream",
          "text": [
            "Scaling dataset\n",
            "Loading model checkpoint experiments//AE_mnist_latent_dim3_h_dim500_h_nl3/-85750 ...\n",
            "\n",
            "INFO:tensorflow:Restoring parameters from experiments//AE_mnist_latent_dim3_h_dim500_h_nl3/-85750\n"
          ],
          "name": "stdout"
        },
        {
          "output_type": "stream",
          "text": [
            "2it [00:00, 19.66it/s]               "
          ],
          "name": "stderr"
        },
        {
          "output_type": "stream",
          "text": [
            "Model loaded\n",
            "EPOCHS trained:  98\n"
          ],
          "name": "stdout"
        },
        {
          "output_type": "stream",
          "text": [
            "\n"
          ],
          "name": "stderr"
        }
      ]
    },
    {
      "cell_type": "code",
      "metadata": {
        "id": "MN_p3sJHw3qR",
        "colab_type": "code",
        "outputId": "faa73b99-f944-4ba2-8ab5-026a1780bbc8",
        "colab": {
          "base_uri": "https://localhost:8080/",
          "height": 35
        }
      },
      "source": [
        "pred.shape"
      ],
      "execution_count": 0,
      "outputs": [
        {
          "output_type": "execute_result",
          "data": {
            "text/plain": [
              "(100, 1)"
            ]
          },
          "metadata": {
            "tags": []
          },
          "execution_count": 20
        }
      ]
    },
    {
      "cell_type": "code",
      "metadata": {
        "id": "V9id5Jgfw3qV",
        "colab_type": "code",
        "outputId": "88e5a690-354b-48e8-eb8d-799c1bd38aae",
        "colab": {
          "base_uri": "https://localhost:8080/",
          "height": 283
        }
      },
      "source": [
        "plt.imshow(X[1])\n",
        "plt.axis('off')"
      ],
      "execution_count": 0,
      "outputs": [
        {
          "output_type": "execute_result",
          "data": {
            "text/plain": [
              "(-0.5, 27.5, 27.5, -0.5)"
            ]
          },
          "metadata": {
            "tags": []
          },
          "execution_count": 21
        },
        {
          "output_type": "display_data",
          "data": {
            "image/png": "[encoded data removed]",
            "text/plain": [
              "<Figure size 432x288 with 1 Axes>"
            ]
          },
          "metadata": {
            "tags": []
          }
        }
      ]
    },
    {
      "cell_type": "code",
      "metadata": {
        "scrolled": true,
        "id": "4XG93W3_w3qa",
        "colab_type": "code",
        "outputId": "cae087bf-b530-4d94-8ce1-2a66eb8cd4c0",
        "colab": {
          "base_uri": "https://localhost:8080/",
          "height": 1376
        }
      },
      "source": [
        "int_imgs = ae.interpolate(X[0:100], X[200:300])"
      ],
      "execution_count": 0,
      "outputs": [
        {
          "output_type": "stream",
          "text": [
            "Scaling dataset\n",
            "Scaling dataset\n",
            "Loading model checkpoint experiments//AE_mnist_latent_dim3_h_dim500_h_nl3/-85750 ...\n",
            "\n",
            "INFO:tensorflow:Restoring parameters from experiments//AE_mnist_latent_dim3_h_dim500_h_nl3/-85750\n"
          ],
          "name": "stdout"
        },
        {
          "output_type": "stream",
          "text": [
            "2it [00:00, 21.88it/s]               "
          ],
          "name": "stderr"
        },
        {
          "output_type": "stream",
          "text": [
            "Model loaded\n",
            "EPOCHS trained:  98\n",
            "Loading model checkpoint experiments//AE_mnist_latent_dim3_h_dim500_h_nl3/-85750 ...\n",
            "\n",
            "INFO:tensorflow:Restoring parameters from experiments//AE_mnist_latent_dim3_h_dim500_h_nl3/-85750\n"
          ],
          "name": "stdout"
        },
        {
          "output_type": "stream",
          "text": [
            "\n",
            "2it [00:00, 33.94it/s]               "
          ],
          "name": "stderr"
        },
        {
          "output_type": "stream",
          "text": [
            "Model loaded\n",
            "EPOCHS trained:  98\n"
          ],
          "name": "stdout"
        },
        {
          "output_type": "stream",
          "text": [
            "\n"
          ],
          "name": "stderr"
        },
        {
          "output_type": "stream",
          "text": [
            "Loading model checkpoint experiments//AE_mnist_latent_dim3_h_dim500_h_nl3/-85750 ...\n",
            "\n",
            "INFO:tensorflow:Restoring parameters from experiments//AE_mnist_latent_dim3_h_dim500_h_nl3/-85750\n"
          ],
          "name": "stdout"
        },
        {
          "output_type": "stream",
          "text": [
            "\r  0%|          | 0/1 [00:00<?, ?it/s]"
          ],
          "name": "stderr"
        },
        {
          "output_type": "stream",
          "text": [
            "Model loaded\n",
            "EPOCHS trained:  98\n"
          ],
          "name": "stdout"
        },
        {
          "output_type": "stream",
          "text": [
            "2it [00:01,  1.14it/s]                       \n"
          ],
          "name": "stderr"
        },
        {
          "output_type": "stream",
          "text": [
            "Loading model checkpoint experiments//AE_mnist_latent_dim3_h_dim500_h_nl3/-85750 ...\n",
            "\n",
            "INFO:tensorflow:Restoring parameters from experiments//AE_mnist_latent_dim3_h_dim500_h_nl3/-85750\n"
          ],
          "name": "stdout"
        },
        {
          "output_type": "stream",
          "text": [
            "\r  0%|          | 0/1 [00:00<?, ?it/s]"
          ],
          "name": "stderr"
        },
        {
          "output_type": "stream",
          "text": [
            "Model loaded\n",
            "EPOCHS trained:  98\n"
          ],
          "name": "stdout"
        },
        {
          "output_type": "stream",
          "text": [
            "2it [00:01,  1.20it/s]                       \n"
          ],
          "name": "stderr"
        },
        {
          "output_type": "stream",
          "text": [
            "Loading model checkpoint experiments//AE_mnist_latent_dim3_h_dim500_h_nl3/-85750 ...\n",
            "\n",
            "INFO:tensorflow:Restoring parameters from experiments//AE_mnist_latent_dim3_h_dim500_h_nl3/-85750\n"
          ],
          "name": "stdout"
        },
        {
          "output_type": "stream",
          "text": [
            "\r  0%|          | 0/1 [00:00<?, ?it/s]"
          ],
          "name": "stderr"
        },
        {
          "output_type": "stream",
          "text": [
            "Model loaded\n",
            "EPOCHS trained:  98\n"
          ],
          "name": "stdout"
        },
        {
          "output_type": "stream",
          "text": [
            "2it [00:01,  1.21it/s]                       \n"
          ],
          "name": "stderr"
        },
        {
          "output_type": "stream",
          "text": [
            "Loading model checkpoint experiments//AE_mnist_latent_dim3_h_dim500_h_nl3/-85750 ...\n",
            "\n",
            "INFO:tensorflow:Restoring parameters from experiments//AE_mnist_latent_dim3_h_dim500_h_nl3/-85750\n"
          ],
          "name": "stdout"
        },
        {
          "output_type": "stream",
          "text": [
            "\r  0%|          | 0/1 [00:00<?, ?it/s]"
          ],
          "name": "stderr"
        },
        {
          "output_type": "stream",
          "text": [
            "Model loaded\n",
            "EPOCHS trained:  98\n"
          ],
          "name": "stdout"
        },
        {
          "output_type": "stream",
          "text": [
            "2it [00:01,  1.18it/s]                       \n"
          ],
          "name": "stderr"
        },
        {
          "output_type": "stream",
          "text": [
            "Loading model checkpoint experiments//AE_mnist_latent_dim3_h_dim500_h_nl3/-85750 ...\n",
            "\n",
            "INFO:tensorflow:Restoring parameters from experiments//AE_mnist_latent_dim3_h_dim500_h_nl3/-85750\n"
          ],
          "name": "stdout"
        },
        {
          "output_type": "stream",
          "text": [
            "\r  0%|          | 0/1 [00:00<?, ?it/s]"
          ],
          "name": "stderr"
        },
        {
          "output_type": "stream",
          "text": [
            "Model loaded\n",
            "EPOCHS trained:  98\n"
          ],
          "name": "stdout"
        },
        {
          "output_type": "stream",
          "text": [
            "2it [00:01,  1.14it/s]                       \n"
          ],
          "name": "stderr"
        },
        {
          "output_type": "stream",
          "text": [
            "Loading model checkpoint experiments//AE_mnist_latent_dim3_h_dim500_h_nl3/-85750 ...\n",
            "\n",
            "INFO:tensorflow:Restoring parameters from experiments//AE_mnist_latent_dim3_h_dim500_h_nl3/-85750\n"
          ],
          "name": "stdout"
        },
        {
          "output_type": "stream",
          "text": [
            "\r  0%|          | 0/1 [00:00<?, ?it/s]"
          ],
          "name": "stderr"
        },
        {
          "output_type": "stream",
          "text": [
            "Model loaded\n",
            "EPOCHS trained:  98\n"
          ],
          "name": "stdout"
        },
        {
          "output_type": "stream",
          "text": [
            "2it [00:01,  1.18it/s]                       \n"
          ],
          "name": "stderr"
        },
        {
          "output_type": "stream",
          "text": [
            "Loading model checkpoint experiments//AE_mnist_latent_dim3_h_dim500_h_nl3/-85750 ...\n",
            "\n",
            "INFO:tensorflow:Restoring parameters from experiments//AE_mnist_latent_dim3_h_dim500_h_nl3/-85750\n"
          ],
          "name": "stdout"
        },
        {
          "output_type": "stream",
          "text": [
            "\r  0%|          | 0/1 [00:00<?, ?it/s]"
          ],
          "name": "stderr"
        },
        {
          "output_type": "stream",
          "text": [
            "Model loaded\n",
            "EPOCHS trained:  98\n"
          ],
          "name": "stdout"
        },
        {
          "output_type": "stream",
          "text": [
            "2it [00:01,  1.18it/s]                       \n"
          ],
          "name": "stderr"
        },
        {
          "output_type": "stream",
          "text": [
            "Loading model checkpoint experiments//AE_mnist_latent_dim3_h_dim500_h_nl3/-85750 ...\n",
            "\n",
            "INFO:tensorflow:Restoring parameters from experiments//AE_mnist_latent_dim3_h_dim500_h_nl3/-85750\n"
          ],
          "name": "stdout"
        },
        {
          "output_type": "stream",
          "text": [
            "\r  0%|          | 0/1 [00:00<?, ?it/s]"
          ],
          "name": "stderr"
        },
        {
          "output_type": "stream",
          "text": [
            "Model loaded\n",
            "EPOCHS trained:  98\n"
          ],
          "name": "stdout"
        },
        {
          "output_type": "stream",
          "text": [
            "2it [00:01,  1.20it/s]                       \n"
          ],
          "name": "stderr"
        },
        {
          "output_type": "stream",
          "text": [
            "Loading model checkpoint experiments//AE_mnist_latent_dim3_h_dim500_h_nl3/-85750 ...\n",
            "\n",
            "INFO:tensorflow:Restoring parameters from experiments//AE_mnist_latent_dim3_h_dim500_h_nl3/-85750\n"
          ],
          "name": "stdout"
        },
        {
          "output_type": "stream",
          "text": [
            "\r  0%|          | 0/1 [00:00<?, ?it/s]"
          ],
          "name": "stderr"
        },
        {
          "output_type": "stream",
          "text": [
            "Model loaded\n",
            "EPOCHS trained:  98\n"
          ],
          "name": "stdout"
        },
        {
          "output_type": "stream",
          "text": [
            "2it [00:01,  1.19it/s]                       \n"
          ],
          "name": "stderr"
        },
        {
          "output_type": "stream",
          "text": [
            "Loading model checkpoint experiments//AE_mnist_latent_dim3_h_dim500_h_nl3/-85750 ...\n",
            "\n",
            "INFO:tensorflow:Restoring parameters from experiments//AE_mnist_latent_dim3_h_dim500_h_nl3/-85750\n"
          ],
          "name": "stdout"
        },
        {
          "output_type": "stream",
          "text": [
            "\r  0%|          | 0/1 [00:00<?, ?it/s]"
          ],
          "name": "stderr"
        },
        {
          "output_type": "stream",
          "text": [
            "Model loaded\n",
            "EPOCHS trained:  98\n"
          ],
          "name": "stdout"
        },
        {
          "output_type": "stream",
          "text": [
            "2it [00:01,  1.20it/s]                       \n"
          ],
          "name": "stderr"
        }
      ]
    },
    {
      "cell_type": "code",
      "metadata": {
        "id": "2vAWh3ayw3qf",
        "colab_type": "code",
        "outputId": "d8e3d449-3ba9-47c1-f8d1-585ae6651182",
        "colab": {
          "base_uri": "https://localhost:8080/",
          "height": 54
        }
      },
      "source": [
        "%load_ext autoreload\n",
        "%autoreload 2\n",
        "from utils.plots import merge\n",
        "from scipy.misc import imresize"
      ],
      "execution_count": 0,
      "outputs": [
        {
          "output_type": "stream",
          "text": [
            "The autoreload extension is already loaded. To reload it, use:\n",
            "  %reload_ext autoreload\n"
          ],
          "name": "stdout"
        }
      ]
    },
    {
      "cell_type": "code",
      "metadata": {
        "id": "3-KOCI4Dw3qj",
        "colab_type": "code",
        "outputId": "3ca420f3-5d7c-415c-e8d4-c035691d1988",
        "colab": {
          "base_uri": "https://localhost:8080/",
          "height": 453
        }
      },
      "source": [
        "scale = 5\n",
        "im = merge(np.vstack(int_imgs), (len(int_imgs),12))\n",
        "fig_width = int(im.shape[0] * scale)\n",
        "fig_height = int(im.shape[1] * scale)\n",
        "\n",
        "im = imresize(im, (fig_width, fig_height, 3))"
      ],
      "execution_count": 0,
      "outputs": [
        {
          "output_type": "error",
          "ename": "KeyboardInterrupt",
          "evalue": "ignored",
          "traceback": [
            "\u001b[0;31m---------------------------------------------------------------------------\u001b[0m",
            "\u001b[0;31mStopIteration\u001b[0m                             Traceback (most recent call last)",
            "\u001b[0;32m/usr/lib/python3.6/contextlib.py\u001b[0m in \u001b[0;36m__exit__\u001b[0;34m(self, type, value, traceback)\u001b[0m\n\u001b[1;32m     87\u001b[0m             \u001b[0;32mtry\u001b[0m\u001b[0;34m:\u001b[0m\u001b[0;34m\u001b[0m\u001b[0;34m\u001b[0m\u001b[0m\n\u001b[0;32m---> 88\u001b[0;31m                 \u001b[0mnext\u001b[0m\u001b[0;34m(\u001b[0m\u001b[0mself\u001b[0m\u001b[0;34m.\u001b[0m\u001b[0mgen\u001b[0m\u001b[0;34m)\u001b[0m\u001b[0;34m\u001b[0m\u001b[0;34m\u001b[0m\u001b[0m\n\u001b[0m\u001b[1;32m     89\u001b[0m             \u001b[0;32mexcept\u001b[0m \u001b[0mStopIteration\u001b[0m\u001b[0;34m:\u001b[0m\u001b[0;34m\u001b[0m\u001b[0;34m\u001b[0m\u001b[0m\n",
            "\u001b[0;31mStopIteration\u001b[0m: ",
            "\nDuring handling of the above exception, another exception occurred:\n",
            "\u001b[0;31mKeyboardInterrupt\u001b[0m                         Traceback (most recent call last)",
            "\u001b[0;32m<ipython-input-24-48225f25eb85>\u001b[0m in \u001b[0;36m<module>\u001b[0;34m\u001b[0m\n\u001b[1;32m      1\u001b[0m \u001b[0mscale\u001b[0m \u001b[0;34m=\u001b[0m \u001b[0;36m5\u001b[0m\u001b[0;34m\u001b[0m\u001b[0;34m\u001b[0m\u001b[0m\n\u001b[0;32m----> 2\u001b[0;31m \u001b[0mim\u001b[0m \u001b[0;34m=\u001b[0m \u001b[0mmerge\u001b[0m\u001b[0;34m(\u001b[0m\u001b[0mnp\u001b[0m\u001b[0;34m.\u001b[0m\u001b[0mvstack\u001b[0m\u001b[0;34m(\u001b[0m\u001b[0mint_imgs\u001b[0m\u001b[0;34m)\u001b[0m\u001b[0;34m,\u001b[0m \u001b[0;34m(\u001b[0m\u001b[0mlen\u001b[0m\u001b[0;34m(\u001b[0m\u001b[0mint_imgs\u001b[0m\u001b[0;34m)\u001b[0m\u001b[0;34m,\u001b[0m\u001b[0;36m12\u001b[0m\u001b[0;34m)\u001b[0m\u001b[0;34m)\u001b[0m\u001b[0;34m\u001b[0m\u001b[0;34m\u001b[0m\u001b[0m\n\u001b[0m\u001b[1;32m      3\u001b[0m \u001b[0mfig_width\u001b[0m \u001b[0;34m=\u001b[0m \u001b[0mint\u001b[0m\u001b[0;34m(\u001b[0m\u001b[0mim\u001b[0m\u001b[0;34m.\u001b[0m\u001b[0mshape\u001b[0m\u001b[0;34m[\u001b[0m\u001b[0;36m0\u001b[0m\u001b[0;34m]\u001b[0m \u001b[0;34m*\u001b[0m \u001b[0mscale\u001b[0m\u001b[0;34m)\u001b[0m\u001b[0;34m\u001b[0m\u001b[0;34m\u001b[0m\u001b[0m\n\u001b[1;32m      4\u001b[0m \u001b[0mfig_height\u001b[0m \u001b[0;34m=\u001b[0m \u001b[0mint\u001b[0m\u001b[0;34m(\u001b[0m\u001b[0mim\u001b[0m\u001b[0;34m.\u001b[0m\u001b[0mshape\u001b[0m\u001b[0;34m[\u001b[0m\u001b[0;36m1\u001b[0m\u001b[0;34m]\u001b[0m \u001b[0;34m*\u001b[0m \u001b[0mscale\u001b[0m\u001b[0;34m)\u001b[0m\u001b[0;34m\u001b[0m\u001b[0;34m\u001b[0m\u001b[0m\n\u001b[1;32m      5\u001b[0m \u001b[0;34m\u001b[0m\u001b[0m\n",
            "\u001b[0;32m/usr/local/lib/python3.6/dist-packages/numpy/core/shape_base.py\u001b[0m in \u001b[0;36mvstack\u001b[0;34m(tup)\u001b[0m\n\u001b[1;32m    281\u001b[0m     \"\"\"\n\u001b[1;32m    282\u001b[0m     \u001b[0m_warn_for_nonsequence\u001b[0m\u001b[0;34m(\u001b[0m\u001b[0mtup\u001b[0m\u001b[0;34m)\u001b[0m\u001b[0;34m\u001b[0m\u001b[0;34m\u001b[0m\u001b[0m\n\u001b[0;32m--> 283\u001b[0;31m     \u001b[0;32mreturn\u001b[0m \u001b[0m_nx\u001b[0m\u001b[0;34m.\u001b[0m\u001b[0mconcatenate\u001b[0m\u001b[0;34m(\u001b[0m\u001b[0;34m[\u001b[0m\u001b[0matleast_2d\u001b[0m\u001b[0;34m(\u001b[0m\u001b[0m_m\u001b[0m\u001b[0;34m)\u001b[0m \u001b[0;32mfor\u001b[0m \u001b[0m_m\u001b[0m \u001b[0;32min\u001b[0m \u001b[0mtup\u001b[0m\u001b[0;34m]\u001b[0m\u001b[0;34m,\u001b[0m \u001b[0;36m0\u001b[0m\u001b[0;34m)\u001b[0m\u001b[0;34m\u001b[0m\u001b[0;34m\u001b[0m\u001b[0m\n\u001b[0m\u001b[1;32m    284\u001b[0m \u001b[0;34m\u001b[0m\u001b[0m\n\u001b[1;32m    285\u001b[0m \u001b[0;34m\u001b[0m\u001b[0m\n",
            "\u001b[0;32m/usr/local/lib/python3.6/dist-packages/numpy/core/shape_base.py\u001b[0m in \u001b[0;36m<listcomp>\u001b[0;34m(.0)\u001b[0m\n\u001b[1;32m    281\u001b[0m     \"\"\"\n\u001b[1;32m    282\u001b[0m     \u001b[0m_warn_for_nonsequence\u001b[0m\u001b[0;34m(\u001b[0m\u001b[0mtup\u001b[0m\u001b[0;34m)\u001b[0m\u001b[0;34m\u001b[0m\u001b[0;34m\u001b[0m\u001b[0m\n\u001b[0;32m--> 283\u001b[0;31m     \u001b[0;32mreturn\u001b[0m \u001b[0m_nx\u001b[0m\u001b[0;34m.\u001b[0m\u001b[0mconcatenate\u001b[0m\u001b[0;34m(\u001b[0m\u001b[0;34m[\u001b[0m\u001b[0matleast_2d\u001b[0m\u001b[0;34m(\u001b[0m\u001b[0m_m\u001b[0m\u001b[0;34m)\u001b[0m \u001b[0;32mfor\u001b[0m \u001b[0m_m\u001b[0m \u001b[0;32min\u001b[0m \u001b[0mtup\u001b[0m\u001b[0;34m]\u001b[0m\u001b[0;34m,\u001b[0m \u001b[0;36m0\u001b[0m\u001b[0;34m)\u001b[0m\u001b[0;34m\u001b[0m\u001b[0;34m\u001b[0m\u001b[0m\n\u001b[0m\u001b[1;32m    284\u001b[0m \u001b[0;34m\u001b[0m\u001b[0m\n\u001b[1;32m    285\u001b[0m \u001b[0;34m\u001b[0m\u001b[0m\n",
            "\u001b[0;32m/usr/local/lib/python3.6/dist-packages/numpy/core/shape_base.py\u001b[0m in \u001b[0;36matleast_2d\u001b[0;34m(*arys)\u001b[0m\n\u001b[1;32m    121\u001b[0m     \u001b[0mres\u001b[0m \u001b[0;34m=\u001b[0m \u001b[0;34m[\u001b[0m\u001b[0;34m]\u001b[0m\u001b[0;34m\u001b[0m\u001b[0;34m\u001b[0m\u001b[0m\n\u001b[1;32m    122\u001b[0m     \u001b[0;32mfor\u001b[0m \u001b[0mary\u001b[0m \u001b[0;32min\u001b[0m \u001b[0marys\u001b[0m\u001b[0;34m:\u001b[0m\u001b[0;34m\u001b[0m\u001b[0;34m\u001b[0m\u001b[0m\n\u001b[0;32m--> 123\u001b[0;31m         \u001b[0mary\u001b[0m \u001b[0;34m=\u001b[0m \u001b[0masanyarray\u001b[0m\u001b[0;34m(\u001b[0m\u001b[0mary\u001b[0m\u001b[0;34m)\u001b[0m\u001b[0;34m\u001b[0m\u001b[0;34m\u001b[0m\u001b[0m\n\u001b[0m\u001b[1;32m    124\u001b[0m         \u001b[0;32mif\u001b[0m \u001b[0mary\u001b[0m\u001b[0;34m.\u001b[0m\u001b[0mndim\u001b[0m \u001b[0;34m==\u001b[0m \u001b[0;36m0\u001b[0m\u001b[0;34m:\u001b[0m\u001b[0;34m\u001b[0m\u001b[0;34m\u001b[0m\u001b[0m\n\u001b[1;32m    125\u001b[0m             \u001b[0mresult\u001b[0m \u001b[0;34m=\u001b[0m \u001b[0mary\u001b[0m\u001b[0;34m.\u001b[0m\u001b[0mreshape\u001b[0m\u001b[0;34m(\u001b[0m\u001b[0;36m1\u001b[0m\u001b[0;34m,\u001b[0m \u001b[0;36m1\u001b[0m\u001b[0;34m)\u001b[0m\u001b[0;34m\u001b[0m\u001b[0;34m\u001b[0m\u001b[0m\n",
            "\u001b[0;32m/usr/local/lib/python3.6/dist-packages/numpy/core/numeric.py\u001b[0m in \u001b[0;36masanyarray\u001b[0;34m(a, dtype, order)\u001b[0m\n\u001b[1;32m    589\u001b[0m \u001b[0;34m\u001b[0m\u001b[0m\n\u001b[1;32m    590\u001b[0m     \"\"\"\n\u001b[0;32m--> 591\u001b[0;31m     \u001b[0;32mreturn\u001b[0m \u001b[0marray\u001b[0m\u001b[0;34m(\u001b[0m\u001b[0ma\u001b[0m\u001b[0;34m,\u001b[0m \u001b[0mdtype\u001b[0m\u001b[0;34m,\u001b[0m \u001b[0mcopy\u001b[0m\u001b[0;34m=\u001b[0m\u001b[0;32mFalse\u001b[0m\u001b[0;34m,\u001b[0m \u001b[0morder\u001b[0m\u001b[0;34m=\u001b[0m\u001b[0morder\u001b[0m\u001b[0;34m,\u001b[0m \u001b[0msubok\u001b[0m\u001b[0;34m=\u001b[0m\u001b[0;32mTrue\u001b[0m\u001b[0;34m)\u001b[0m\u001b[0;34m\u001b[0m\u001b[0;34m\u001b[0m\u001b[0m\n\u001b[0m\u001b[1;32m    592\u001b[0m \u001b[0;34m\u001b[0m\u001b[0m\n\u001b[1;32m    593\u001b[0m \u001b[0;34m\u001b[0m\u001b[0m\n",
            "\u001b[0;32m/usr/local/lib/python3.6/dist-packages/dask/array/core.py\u001b[0m in \u001b[0;36m__getitem__\u001b[0;34m(self, index)\u001b[0m\n\u001b[1;32m   1155\u001b[0m         \u001b[0mdsk\u001b[0m\u001b[0;34m,\u001b[0m \u001b[0mchunks\u001b[0m \u001b[0;34m=\u001b[0m \u001b[0mslice_array\u001b[0m\u001b[0;34m(\u001b[0m\u001b[0mout\u001b[0m\u001b[0;34m,\u001b[0m \u001b[0mself\u001b[0m\u001b[0;34m.\u001b[0m\u001b[0mname\u001b[0m\u001b[0;34m,\u001b[0m \u001b[0mself\u001b[0m\u001b[0;34m.\u001b[0m\u001b[0mchunks\u001b[0m\u001b[0;34m,\u001b[0m \u001b[0mindex2\u001b[0m\u001b[0;34m)\u001b[0m\u001b[0;34m\u001b[0m\u001b[0;34m\u001b[0m\u001b[0m\n\u001b[1;32m   1156\u001b[0m \u001b[0;34m\u001b[0m\u001b[0m\n\u001b[0;32m-> 1157\u001b[0;31m         \u001b[0mgraph\u001b[0m \u001b[0;34m=\u001b[0m \u001b[0mHighLevelGraph\u001b[0m\u001b[0;34m.\u001b[0m\u001b[0mfrom_collections\u001b[0m\u001b[0;34m(\u001b[0m\u001b[0mout\u001b[0m\u001b[0;34m,\u001b[0m \u001b[0mdsk\u001b[0m\u001b[0;34m,\u001b[0m \u001b[0mdependencies\u001b[0m\u001b[0;34m=\u001b[0m\u001b[0;34m[\u001b[0m\u001b[0mself\u001b[0m\u001b[0;34m]\u001b[0m\u001b[0;34m)\u001b[0m\u001b[0;34m\u001b[0m\u001b[0;34m\u001b[0m\u001b[0m\n\u001b[0m\u001b[1;32m   1158\u001b[0m         \u001b[0;32mreturn\u001b[0m \u001b[0mArray\u001b[0m\u001b[0;34m(\u001b[0m\u001b[0mgraph\u001b[0m\u001b[0;34m,\u001b[0m \u001b[0mout\u001b[0m\u001b[0;34m,\u001b[0m \u001b[0mchunks\u001b[0m\u001b[0;34m,\u001b[0m \u001b[0mdtype\u001b[0m\u001b[0;34m=\u001b[0m\u001b[0mself\u001b[0m\u001b[0;34m.\u001b[0m\u001b[0mdtype\u001b[0m\u001b[0;34m)\u001b[0m\u001b[0;34m\u001b[0m\u001b[0;34m\u001b[0m\u001b[0m\n\u001b[1;32m   1159\u001b[0m \u001b[0;34m\u001b[0m\u001b[0m\n",
            "\u001b[0;32m/usr/local/lib/python3.6/dist-packages/dask/highlevelgraph.py\u001b[0m in \u001b[0;36mfrom_collections\u001b[0;34m(cls, name, layer, dependencies)\u001b[0m\n\u001b[1;32m    127\u001b[0m                     \u001b[0mdeps\u001b[0m\u001b[0;34m.\u001b[0m\u001b[0mupdate\u001b[0m\u001b[0;34m(\u001b[0m\u001b[0mgraph\u001b[0m\u001b[0;34m.\u001b[0m\u001b[0mdependencies\u001b[0m\u001b[0;34m)\u001b[0m\u001b[0;34m\u001b[0m\u001b[0;34m\u001b[0m\u001b[0m\n\u001b[1;32m    128\u001b[0m                     \u001b[0;32mwith\u001b[0m \u001b[0mignoring\u001b[0m\u001b[0;34m(\u001b[0m\u001b[0mAttributeError\u001b[0m\u001b[0;34m)\u001b[0m\u001b[0;34m:\u001b[0m\u001b[0;34m\u001b[0m\u001b[0;34m\u001b[0m\u001b[0m\n\u001b[0;32m--> 129\u001b[0;31m                         \u001b[0mdeps\u001b[0m\u001b[0;34m[\u001b[0m\u001b[0mname\u001b[0m\u001b[0;34m]\u001b[0m \u001b[0;34m|=\u001b[0m \u001b[0mset\u001b[0m\u001b[0;34m(\u001b[0m\u001b[0mcollection\u001b[0m\u001b[0;34m.\u001b[0m\u001b[0m__dask_layers__\u001b[0m\u001b[0;34m(\u001b[0m\u001b[0;34m)\u001b[0m\u001b[0;34m)\u001b[0m\u001b[0;34m\u001b[0m\u001b[0;34m\u001b[0m\u001b[0m\n\u001b[0m\u001b[1;32m    130\u001b[0m                 \u001b[0;32melse\u001b[0m\u001b[0;34m:\u001b[0m\u001b[0;34m\u001b[0m\u001b[0;34m\u001b[0m\u001b[0m\n\u001b[1;32m    131\u001b[0m                     \u001b[0mkey\u001b[0m \u001b[0;34m=\u001b[0m \u001b[0mid\u001b[0m\u001b[0;34m(\u001b[0m\u001b[0mgraph\u001b[0m\u001b[0;34m)\u001b[0m\u001b[0;34m\u001b[0m\u001b[0;34m\u001b[0m\u001b[0m\n",
            "\u001b[0;32m/usr/lib/python3.6/contextlib.py\u001b[0m in \u001b[0;36m__exit__\u001b[0;34m(self, type, value, traceback)\u001b[0m\n\u001b[1;32m     86\u001b[0m         \u001b[0;32mif\u001b[0m \u001b[0mtype\u001b[0m \u001b[0;32mis\u001b[0m \u001b[0;32mNone\u001b[0m\u001b[0;34m:\u001b[0m\u001b[0;34m\u001b[0m\u001b[0;34m\u001b[0m\u001b[0m\n\u001b[1;32m     87\u001b[0m             \u001b[0;32mtry\u001b[0m\u001b[0;34m:\u001b[0m\u001b[0;34m\u001b[0m\u001b[0;34m\u001b[0m\u001b[0m\n\u001b[0;32m---> 88\u001b[0;31m                 \u001b[0mnext\u001b[0m\u001b[0;34m(\u001b[0m\u001b[0mself\u001b[0m\u001b[0;34m.\u001b[0m\u001b[0mgen\u001b[0m\u001b[0;34m)\u001b[0m\u001b[0;34m\u001b[0m\u001b[0;34m\u001b[0m\u001b[0m\n\u001b[0m\u001b[1;32m     89\u001b[0m             \u001b[0;32mexcept\u001b[0m \u001b[0mStopIteration\u001b[0m\u001b[0;34m:\u001b[0m\u001b[0;34m\u001b[0m\u001b[0;34m\u001b[0m\u001b[0m\n\u001b[1;32m     90\u001b[0m                 \u001b[0;32mreturn\u001b[0m \u001b[0;32mFalse\u001b[0m\u001b[0;34m\u001b[0m\u001b[0;34m\u001b[0m\u001b[0m\n",
            "\u001b[0;31mKeyboardInterrupt\u001b[0m: "
          ]
        }
      ]
    },
    {
      "cell_type": "code",
      "metadata": {
        "scrolled": false,
        "id": "7kK_OPpZw3ql",
        "colab_type": "code",
        "colab": {}
      },
      "source": [
        "plt.figure(figsize = (len(imgs),24), dpi=70)\n",
        "plt.imshow(im)\n",
        "plt.axis('off')\n"
      ],
      "execution_count": 0,
      "outputs": []
    },
    {
      "cell_type": "code",
      "metadata": {
        "id": "ZY3SbXMiw3qn",
        "colab_type": "code",
        "colab": {}
      },
      "source": [
        "import scipy.misc\n",
        "scipy.misc.imsave(ae.model.summary_dir+'\\\\interpolate.jpg', im)"
      ],
      "execution_count": 0,
      "outputs": []
    },
    {
      "cell_type": "code",
      "metadata": {
        "id": "xCOM1cgOw3qq",
        "colab_type": "code",
        "colab": {}
      },
      "source": [
        ""
      ],
      "execution_count": 0,
      "outputs": []
    },
    {
      "cell_type": "code",
      "metadata": {
        "id": "40maeuBSw3qr",
        "colab_type": "code",
        "colab": {}
      },
      "source": [
        ""
      ],
      "execution_count": 0,
      "outputs": []
    },
    {
      "cell_type": "code",
      "metadata": {
        "id": "Njjp9pVEw3qt",
        "colab_type": "code",
        "colab": {}
      },
      "source": [
        ""
      ],
      "execution_count": 0,
      "outputs": []
    }
  ]
}